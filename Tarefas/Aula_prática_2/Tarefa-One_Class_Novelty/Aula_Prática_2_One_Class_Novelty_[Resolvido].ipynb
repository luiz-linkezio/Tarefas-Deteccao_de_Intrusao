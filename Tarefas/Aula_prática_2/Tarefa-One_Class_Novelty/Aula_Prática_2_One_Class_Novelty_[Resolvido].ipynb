{
  "cells": [
    {
      "cell_type": "code",
      "execution_count": 1,
      "metadata": {
        "id": "ztquPfgxg--4"
      },
      "outputs": [],
      "source": [
        "import numpy as np\n",
        "import pandas as pd\n",
        "#from google.colab import drive\n",
        "import os\n",
        "import re\n",
        "import matplotlib.pyplot as plt\n",
        "import seaborn as sns\n",
        "\n",
        "from sklearn.preprocessing import StandardScaler\n",
        "\n",
        "from sklearn.model_selection import train_test_split\n",
        "from tqdm.notebook import tqdm\n",
        "\n",
        "from sklearn.metrics import roc_curve, roc_auc_score\n",
        "from sklearn.metrics import confusion_matrix\n",
        "\n",
        "import zipfile"
      ]
    },
    {
      "cell_type": "code",
      "execution_count": 2,
      "metadata": {
        "id": "EbV8ifz-z-KB"
      },
      "outputs": [],
      "source": [
        "from sklearn.decomposition import PCA"
      ]
    },
    {
      "cell_type": "code",
      "execution_count": 3,
      "metadata": {
        "id": "6Hhnz3SFgzJ4"
      },
      "outputs": [],
      "source": [
        "sns.set_theme()"
      ]
    },
    {
      "cell_type": "code",
      "execution_count": 4,
      "metadata": {
        "id": "oc9cX6OHxvJF"
      },
      "outputs": [],
      "source": [
        "RANDOM_SEED = 33\n",
        "np.random.seed(RANDOM_SEED)"
      ]
    },
    {
      "cell_type": "markdown",
      "metadata": {
        "id": "oRuGtYXVuLV2"
      },
      "source": [
        "# Download CIC IDS 2017"
      ]
    },
    {
      "cell_type": "markdown",
      "metadata": {
        "id": "yaLg4YymDMSx"
      },
      "source": [
        "[Este](https://www.unb.ca/cic/datasets/ids-2017.html) conjunto de dados contém informações sobre fluxos de rede, representando tanto o tráfego benigno quanto ataques populares. Para o ambiente de teste desta coleta de dados, uma rede foi configurada para o atacante e uma rede separada foi configurada para as vítimas, esta última contendo firewalls, roteadores, switches, servidores e estações de trabalho em execução em diferentes versões dos sistemas operacionais Windows e Linux. Para gerar o tráfego benigno, os autores utilizaram um sistema desenvolvido por eles mesmos, que então extraiu o comportamento abstrato de 25 usuários com base em diferentes protocolos de aplicação. Os dados foram coletados ao longo de cinco dias de atividade de rede e foram processados para extrair mais de 80 features do conjunto de dados usando a ferramenta CICFlowMeter8.\n"
      ]
    },
    {
      "cell_type": "code",
      "execution_count": 5,
      "metadata": {
        "id": "BO80dH9AiP8S"
      },
      "outputs": [],
      "source": [
        "# Baixando dataset CIC IDS 2017 mais rápido através de código de arquivo do Google Drive\n",
        "#!gdown '1WtbUHBpANHLMVVHuaFr9-pGUyeW6QhdD' -O CIC_IDS_2017.zip"
      ]
    },
    {
      "cell_type": "code",
      "execution_count": 6,
      "metadata": {
        "id": "UdiG5bQNuXK7"
      },
      "outputs": [],
      "source": [
        "#!tar -xf CIC_IDS_2017.zip"
      ]
    },
    {
      "cell_type": "markdown",
      "metadata": {
        "id": "Pq_bXXrta-Eo"
      },
      "source": [
        "# Carregando os dados"
      ]
    },
    {
      "cell_type": "code",
      "execution_count": null,
      "metadata": {},
      "outputs": [],
      "source": [
        "with zipfile.ZipFile(\"../../../Dados/CIC_IDS_2017.zip\", 'r') as zip_ref:\n",
        "    zip_ref.extractall(\"../../../Dados/\")"
      ]
    },
    {
      "cell_type": "code",
      "execution_count": 6,
      "metadata": {
        "id": "6zYbZjA5afwD"
      },
      "outputs": [],
      "source": [
        "df_list = []\n",
        "for file in os.listdir('../../../Dados/MachineLearningCVE/'):\n",
        "  df_aux = pd.read_csv(f'../../../Dados/MachineLearningCVE/{file}')\n",
        "  df_list.append(df_aux)\n",
        "df = pd.concat(df_list, ignore_index=True)"
      ]
    },
    {
      "cell_type": "code",
      "execution_count": null,
      "metadata": {
        "id": "TjM3IcrnalWU"
      },
      "outputs": [
        {
          "name": "stdout",
          "output_type": "stream",
          "text": [
            "<class 'pandas.core.frame.DataFrame'>\n",
            "RangeIndex: 2830743 entries, 0 to 2830742\n",
            "Data columns (total 79 columns):\n",
            " #   Column                        Dtype  \n",
            "---  ------                        -----  \n",
            " 0    Destination Port             int64  \n",
            " 1    Flow Duration                int64  \n",
            " 2    Total Fwd Packets            int64  \n",
            " 3    Total Backward Packets       int64  \n",
            " 4   Total Length of Fwd Packets   int64  \n",
            " 5    Total Length of Bwd Packets  int64  \n",
            " 6    Fwd Packet Length Max        int64  \n",
            " 7    Fwd Packet Length Min        int64  \n",
            " 8    Fwd Packet Length Mean       float64\n",
            " 9    Fwd Packet Length Std        float64\n",
            " 10  Bwd Packet Length Max         int64  \n",
            " 11   Bwd Packet Length Min        int64  \n",
            " 12   Bwd Packet Length Mean       float64\n",
            " 13   Bwd Packet Length Std        float64\n",
            " 14  Flow Bytes/s                  float64\n",
            " 15   Flow Packets/s               float64\n",
            " 16   Flow IAT Mean                float64\n",
            " 17   Flow IAT Std                 float64\n",
            " 18   Flow IAT Max                 int64  \n",
            " 19   Flow IAT Min                 int64  \n",
            " 20  Fwd IAT Total                 int64  \n",
            " 21   Fwd IAT Mean                 float64\n",
            " 22   Fwd IAT Std                  float64\n",
            " 23   Fwd IAT Max                  int64  \n",
            " 24   Fwd IAT Min                  int64  \n",
            " 25  Bwd IAT Total                 int64  \n",
            " 26   Bwd IAT Mean                 float64\n",
            " 27   Bwd IAT Std                  float64\n",
            " 28   Bwd IAT Max                  int64  \n",
            " 29   Bwd IAT Min                  int64  \n",
            " 30  Fwd PSH Flags                 int64  \n",
            " 31   Bwd PSH Flags                int64  \n",
            " 32   Fwd URG Flags                int64  \n",
            " 33   Bwd URG Flags                int64  \n",
            " 34   Fwd Header Length            int64  \n",
            " 35   Bwd Header Length            int64  \n",
            " 36  Fwd Packets/s                 float64\n",
            " 37   Bwd Packets/s                float64\n",
            " 38   Min Packet Length            int64  \n",
            " 39   Max Packet Length            int64  \n",
            " 40   Packet Length Mean           float64\n",
            " 41   Packet Length Std            float64\n",
            " 42   Packet Length Variance       float64\n",
            " 43  FIN Flag Count                int64  \n",
            " 44   SYN Flag Count               int64  \n",
            " 45   RST Flag Count               int64  \n",
            " 46   PSH Flag Count               int64  \n",
            " 47   ACK Flag Count               int64  \n",
            " 48   URG Flag Count               int64  \n",
            " 49   CWE Flag Count               int64  \n",
            " 50   ECE Flag Count               int64  \n",
            " 51   Down/Up Ratio                int64  \n",
            " 52   Average Packet Size          float64\n",
            " 53   Avg Fwd Segment Size         float64\n",
            " 54   Avg Bwd Segment Size         float64\n",
            " 55   Fwd Header Length.1          int64  \n",
            " 56  Fwd Avg Bytes/Bulk            int64  \n",
            " 57   Fwd Avg Packets/Bulk         int64  \n",
            " 58   Fwd Avg Bulk Rate            int64  \n",
            " 59   Bwd Avg Bytes/Bulk           int64  \n",
            " 60   Bwd Avg Packets/Bulk         int64  \n",
            " 61  Bwd Avg Bulk Rate             int64  \n",
            " 62  Subflow Fwd Packets           int64  \n",
            " 63   Subflow Fwd Bytes            int64  \n",
            " 64   Subflow Bwd Packets          int64  \n",
            " 65   Subflow Bwd Bytes            int64  \n",
            " 66  Init_Win_bytes_forward        int64  \n",
            " 67   Init_Win_bytes_backward      int64  \n",
            " 68   act_data_pkt_fwd             int64  \n",
            " 69   min_seg_size_forward         int64  \n",
            " 70  Active Mean                   float64\n",
            " 71   Active Std                   float64\n",
            " 72   Active Max                   int64  \n",
            " 73   Active Min                   int64  \n",
            " 74  Idle Mean                     float64\n",
            " 75   Idle Std                     float64\n",
            " 76   Idle Max                     int64  \n",
            " 77   Idle Min                     int64  \n",
            " 78   Label                        object \n",
            "dtypes: float64(24), int64(54), object(1)\n",
            "memory usage: 1.7+ GB\n"
          ]
        }
      ],
      "source": [
        "df.info()"
      ]
    },
    {
      "cell_type": "code",
      "execution_count": null,
      "metadata": {
        "id": "vHn6KCYkcRrD"
      },
      "outputs": [
        {
          "data": {
            "text/plain": [
              "[' Destination Port',\n",
              " ' Flow Duration',\n",
              " ' Total Fwd Packets',\n",
              " ' Total Backward Packets',\n",
              " 'Total Length of Fwd Packets',\n",
              " ' Total Length of Bwd Packets']"
            ]
          },
          "execution_count": 9,
          "metadata": {},
          "output_type": "execute_result"
        }
      ],
      "source": [
        "list(df.columns)[:6]"
      ]
    },
    {
      "cell_type": "markdown",
      "metadata": {
        "id": "SkxtcO7UcZQe"
      },
      "source": [
        "Algumas colunas tem seus nomes iniciados com espaços ou finalizados com espaços. Vamos remover esses espaços não úteis para ajustar o nome das colunas."
      ]
    },
    {
      "cell_type": "code",
      "execution_count": null,
      "metadata": {
        "id": "FAY2pdWVxkBu"
      },
      "outputs": [],
      "source": [
        "def remove_initial_and_ending_spaces(name):\n",
        "    regex = r'^(?:\\s+)?(?P<gp>.+?)(?:\\s+)?$'\n",
        "    mo = re.search(regex, name)\n",
        "    if mo is not None:\n",
        "      return mo['gp']\n",
        "    else:\n",
        "      print(f'Deu erro em: {name}')\n",
        "      return name"
      ]
    },
    {
      "cell_type": "code",
      "execution_count": null,
      "metadata": {
        "id": "l2DxxoSXc1W6"
      },
      "outputs": [],
      "source": [
        "for col in df.columns:\n",
        "    df = df.rename({col:remove_initial_and_ending_spaces(col)}, axis='columns')"
      ]
    },
    {
      "cell_type": "code",
      "execution_count": null,
      "metadata": {
        "id": "6-Y0wbj2KHlC"
      },
      "outputs": [
        {
          "name": "stdout",
          "output_type": "stream",
          "text": [
            "<class 'pandas.core.frame.DataFrame'>\n",
            "RangeIndex: 2830743 entries, 0 to 2830742\n",
            "Data columns (total 79 columns):\n",
            " #   Column                       Dtype  \n",
            "---  ------                       -----  \n",
            " 0   Destination Port             int64  \n",
            " 1   Flow Duration                int64  \n",
            " 2   Total Fwd Packets            int64  \n",
            " 3   Total Backward Packets       int64  \n",
            " 4   Total Length of Fwd Packets  int64  \n",
            " 5   Total Length of Bwd Packets  int64  \n",
            " 6   Fwd Packet Length Max        int64  \n",
            " 7   Fwd Packet Length Min        int64  \n",
            " 8   Fwd Packet Length Mean       float64\n",
            " 9   Fwd Packet Length Std        float64\n",
            " 10  Bwd Packet Length Max        int64  \n",
            " 11  Bwd Packet Length Min        int64  \n",
            " 12  Bwd Packet Length Mean       float64\n",
            " 13  Bwd Packet Length Std        float64\n",
            " 14  Flow Bytes/s                 float64\n",
            " 15  Flow Packets/s               float64\n",
            " 16  Flow IAT Mean                float64\n",
            " 17  Flow IAT Std                 float64\n",
            " 18  Flow IAT Max                 int64  \n",
            " 19  Flow IAT Min                 int64  \n",
            " 20  Fwd IAT Total                int64  \n",
            " 21  Fwd IAT Mean                 float64\n",
            " 22  Fwd IAT Std                  float64\n",
            " 23  Fwd IAT Max                  int64  \n",
            " 24  Fwd IAT Min                  int64  \n",
            " 25  Bwd IAT Total                int64  \n",
            " 26  Bwd IAT Mean                 float64\n",
            " 27  Bwd IAT Std                  float64\n",
            " 28  Bwd IAT Max                  int64  \n",
            " 29  Bwd IAT Min                  int64  \n",
            " 30  Fwd PSH Flags                int64  \n",
            " 31  Bwd PSH Flags                int64  \n",
            " 32  Fwd URG Flags                int64  \n",
            " 33  Bwd URG Flags                int64  \n",
            " 34  Fwd Header Length            int64  \n",
            " 35  Bwd Header Length            int64  \n",
            " 36  Fwd Packets/s                float64\n",
            " 37  Bwd Packets/s                float64\n",
            " 38  Min Packet Length            int64  \n",
            " 39  Max Packet Length            int64  \n",
            " 40  Packet Length Mean           float64\n",
            " 41  Packet Length Std            float64\n",
            " 42  Packet Length Variance       float64\n",
            " 43  FIN Flag Count               int64  \n",
            " 44  SYN Flag Count               int64  \n",
            " 45  RST Flag Count               int64  \n",
            " 46  PSH Flag Count               int64  \n",
            " 47  ACK Flag Count               int64  \n",
            " 48  URG Flag Count               int64  \n",
            " 49  CWE Flag Count               int64  \n",
            " 50  ECE Flag Count               int64  \n",
            " 51  Down/Up Ratio                int64  \n",
            " 52  Average Packet Size          float64\n",
            " 53  Avg Fwd Segment Size         float64\n",
            " 54  Avg Bwd Segment Size         float64\n",
            " 55  Fwd Header Length.1          int64  \n",
            " 56  Fwd Avg Bytes/Bulk           int64  \n",
            " 57  Fwd Avg Packets/Bulk         int64  \n",
            " 58  Fwd Avg Bulk Rate            int64  \n",
            " 59  Bwd Avg Bytes/Bulk           int64  \n",
            " 60  Bwd Avg Packets/Bulk         int64  \n",
            " 61  Bwd Avg Bulk Rate            int64  \n",
            " 62  Subflow Fwd Packets          int64  \n",
            " 63  Subflow Fwd Bytes            int64  \n",
            " 64  Subflow Bwd Packets          int64  \n",
            " 65  Subflow Bwd Bytes            int64  \n",
            " 66  Init_Win_bytes_forward       int64  \n",
            " 67  Init_Win_bytes_backward      int64  \n",
            " 68  act_data_pkt_fwd             int64  \n",
            " 69  min_seg_size_forward         int64  \n",
            " 70  Active Mean                  float64\n",
            " 71  Active Std                   float64\n",
            " 72  Active Max                   int64  \n",
            " 73  Active Min                   int64  \n",
            " 74  Idle Mean                    float64\n",
            " 75  Idle Std                     float64\n",
            " 76  Idle Max                     int64  \n",
            " 77  Idle Min                     int64  \n",
            " 78  Label                        object \n",
            "dtypes: float64(24), int64(54), object(1)\n",
            "memory usage: 1.7+ GB\n"
          ]
        }
      ],
      "source": [
        "df.info()"
      ]
    },
    {
      "cell_type": "markdown",
      "metadata": {
        "id": "pawAGo2By0Xz"
      },
      "source": [
        "# Limpando os dados"
      ]
    },
    {
      "cell_type": "markdown",
      "metadata": {
        "id": "nKKS5w4tbwoA"
      },
      "source": [
        "É necessário limpar os dados realizando:\n",
        "- Descarte de registros duplicados\n",
        "- Descarte de registros com valores NaN (Not a Number)/ Null / NA (Not Available)\n",
        "- Evitar registros com valores não finitos. Nesse caso, uma abordagem válida é substituirmos os mesmos pelo maior valor finito presente no dataset."
      ]
    },
    {
      "cell_type": "markdown",
      "metadata": {
        "id": "qWkkFt-2dPvv"
      },
      "source": [
        "Registros duplicados"
      ]
    },
    {
      "cell_type": "code",
      "execution_count": null,
      "metadata": {
        "id": "Sxa5jmZUdRg-"
      },
      "outputs": [
        {
          "data": {
            "text/html": [
              "<div>\n",
              "<style scoped>\n",
              "    .dataframe tbody tr th:only-of-type {\n",
              "        vertical-align: middle;\n",
              "    }\n",
              "\n",
              "    .dataframe tbody tr th {\n",
              "        vertical-align: top;\n",
              "    }\n",
              "\n",
              "    .dataframe thead th {\n",
              "        text-align: right;\n",
              "    }\n",
              "</style>\n",
              "<table border=\"1\" class=\"dataframe\">\n",
              "  <thead>\n",
              "    <tr style=\"text-align: right;\">\n",
              "      <th></th>\n",
              "      <th>Destination Port</th>\n",
              "      <th>Flow Duration</th>\n",
              "      <th>Total Fwd Packets</th>\n",
              "      <th>Total Backward Packets</th>\n",
              "      <th>Total Length of Fwd Packets</th>\n",
              "      <th>Total Length of Bwd Packets</th>\n",
              "      <th>Fwd Packet Length Max</th>\n",
              "      <th>Fwd Packet Length Min</th>\n",
              "      <th>Fwd Packet Length Mean</th>\n",
              "      <th>Fwd Packet Length Std</th>\n",
              "      <th>...</th>\n",
              "      <th>min_seg_size_forward</th>\n",
              "      <th>Active Mean</th>\n",
              "      <th>Active Std</th>\n",
              "      <th>Active Max</th>\n",
              "      <th>Active Min</th>\n",
              "      <th>Idle Mean</th>\n",
              "      <th>Idle Std</th>\n",
              "      <th>Idle Max</th>\n",
              "      <th>Idle Min</th>\n",
              "      <th>Label</th>\n",
              "    </tr>\n",
              "  </thead>\n",
              "  <tbody>\n",
              "    <tr>\n",
              "      <th>2109</th>\n",
              "      <td>80</td>\n",
              "      <td>77</td>\n",
              "      <td>2</td>\n",
              "      <td>0</td>\n",
              "      <td>12</td>\n",
              "      <td>0</td>\n",
              "      <td>6</td>\n",
              "      <td>6</td>\n",
              "      <td>6.0</td>\n",
              "      <td>0.0</td>\n",
              "      <td>...</td>\n",
              "      <td>20</td>\n",
              "      <td>0.0</td>\n",
              "      <td>0.0</td>\n",
              "      <td>0</td>\n",
              "      <td>0</td>\n",
              "      <td>0.0</td>\n",
              "      <td>0.0</td>\n",
              "      <td>0</td>\n",
              "      <td>0</td>\n",
              "      <td>BENIGN</td>\n",
              "    </tr>\n",
              "    <tr>\n",
              "      <th>2257</th>\n",
              "      <td>443</td>\n",
              "      <td>3</td>\n",
              "      <td>2</td>\n",
              "      <td>0</td>\n",
              "      <td>12</td>\n",
              "      <td>0</td>\n",
              "      <td>6</td>\n",
              "      <td>6</td>\n",
              "      <td>6.0</td>\n",
              "      <td>0.0</td>\n",
              "      <td>...</td>\n",
              "      <td>20</td>\n",
              "      <td>0.0</td>\n",
              "      <td>0.0</td>\n",
              "      <td>0</td>\n",
              "      <td>0</td>\n",
              "      <td>0.0</td>\n",
              "      <td>0.0</td>\n",
              "      <td>0</td>\n",
              "      <td>0</td>\n",
              "      <td>BENIGN</td>\n",
              "    </tr>\n",
              "    <tr>\n",
              "      <th>2749</th>\n",
              "      <td>443</td>\n",
              "      <td>49</td>\n",
              "      <td>2</td>\n",
              "      <td>0</td>\n",
              "      <td>12</td>\n",
              "      <td>0</td>\n",
              "      <td>6</td>\n",
              "      <td>6</td>\n",
              "      <td>6.0</td>\n",
              "      <td>0.0</td>\n",
              "      <td>...</td>\n",
              "      <td>20</td>\n",
              "      <td>0.0</td>\n",
              "      <td>0.0</td>\n",
              "      <td>0</td>\n",
              "      <td>0</td>\n",
              "      <td>0.0</td>\n",
              "      <td>0.0</td>\n",
              "      <td>0</td>\n",
              "      <td>0</td>\n",
              "      <td>BENIGN</td>\n",
              "    </tr>\n",
              "    <tr>\n",
              "      <th>2862</th>\n",
              "      <td>443</td>\n",
              "      <td>4</td>\n",
              "      <td>2</td>\n",
              "      <td>0</td>\n",
              "      <td>12</td>\n",
              "      <td>0</td>\n",
              "      <td>6</td>\n",
              "      <td>6</td>\n",
              "      <td>6.0</td>\n",
              "      <td>0.0</td>\n",
              "      <td>...</td>\n",
              "      <td>20</td>\n",
              "      <td>0.0</td>\n",
              "      <td>0.0</td>\n",
              "      <td>0</td>\n",
              "      <td>0</td>\n",
              "      <td>0.0</td>\n",
              "      <td>0.0</td>\n",
              "      <td>0</td>\n",
              "      <td>0</td>\n",
              "      <td>BENIGN</td>\n",
              "    </tr>\n",
              "    <tr>\n",
              "      <th>2877</th>\n",
              "      <td>443</td>\n",
              "      <td>1</td>\n",
              "      <td>2</td>\n",
              "      <td>0</td>\n",
              "      <td>12</td>\n",
              "      <td>0</td>\n",
              "      <td>6</td>\n",
              "      <td>6</td>\n",
              "      <td>6.0</td>\n",
              "      <td>0.0</td>\n",
              "      <td>...</td>\n",
              "      <td>20</td>\n",
              "      <td>0.0</td>\n",
              "      <td>0.0</td>\n",
              "      <td>0</td>\n",
              "      <td>0</td>\n",
              "      <td>0.0</td>\n",
              "      <td>0.0</td>\n",
              "      <td>0</td>\n",
              "      <td>0</td>\n",
              "      <td>BENIGN</td>\n",
              "    </tr>\n",
              "    <tr>\n",
              "      <th>...</th>\n",
              "      <td>...</td>\n",
              "      <td>...</td>\n",
              "      <td>...</td>\n",
              "      <td>...</td>\n",
              "      <td>...</td>\n",
              "      <td>...</td>\n",
              "      <td>...</td>\n",
              "      <td>...</td>\n",
              "      <td>...</td>\n",
              "      <td>...</td>\n",
              "      <td>...</td>\n",
              "      <td>...</td>\n",
              "      <td>...</td>\n",
              "      <td>...</td>\n",
              "      <td>...</td>\n",
              "      <td>...</td>\n",
              "      <td>...</td>\n",
              "      <td>...</td>\n",
              "      <td>...</td>\n",
              "      <td>...</td>\n",
              "      <td>...</td>\n",
              "    </tr>\n",
              "    <tr>\n",
              "      <th>2830701</th>\n",
              "      <td>53</td>\n",
              "      <td>179</td>\n",
              "      <td>2</td>\n",
              "      <td>2</td>\n",
              "      <td>46</td>\n",
              "      <td>46</td>\n",
              "      <td>23</td>\n",
              "      <td>23</td>\n",
              "      <td>23.0</td>\n",
              "      <td>0.0</td>\n",
              "      <td>...</td>\n",
              "      <td>32</td>\n",
              "      <td>0.0</td>\n",
              "      <td>0.0</td>\n",
              "      <td>0</td>\n",
              "      <td>0</td>\n",
              "      <td>0.0</td>\n",
              "      <td>0.0</td>\n",
              "      <td>0</td>\n",
              "      <td>0</td>\n",
              "      <td>BENIGN</td>\n",
              "    </tr>\n",
              "    <tr>\n",
              "      <th>2830725</th>\n",
              "      <td>53</td>\n",
              "      <td>161</td>\n",
              "      <td>2</td>\n",
              "      <td>2</td>\n",
              "      <td>82</td>\n",
              "      <td>114</td>\n",
              "      <td>41</td>\n",
              "      <td>41</td>\n",
              "      <td>41.0</td>\n",
              "      <td>0.0</td>\n",
              "      <td>...</td>\n",
              "      <td>32</td>\n",
              "      <td>0.0</td>\n",
              "      <td>0.0</td>\n",
              "      <td>0</td>\n",
              "      <td>0</td>\n",
              "      <td>0.0</td>\n",
              "      <td>0.0</td>\n",
              "      <td>0</td>\n",
              "      <td>0</td>\n",
              "      <td>BENIGN</td>\n",
              "    </tr>\n",
              "    <tr>\n",
              "      <th>2830726</th>\n",
              "      <td>53</td>\n",
              "      <td>212</td>\n",
              "      <td>2</td>\n",
              "      <td>2</td>\n",
              "      <td>84</td>\n",
              "      <td>162</td>\n",
              "      <td>42</td>\n",
              "      <td>42</td>\n",
              "      <td>42.0</td>\n",
              "      <td>0.0</td>\n",
              "      <td>...</td>\n",
              "      <td>32</td>\n",
              "      <td>0.0</td>\n",
              "      <td>0.0</td>\n",
              "      <td>0</td>\n",
              "      <td>0</td>\n",
              "      <td>0.0</td>\n",
              "      <td>0.0</td>\n",
              "      <td>0</td>\n",
              "      <td>0</td>\n",
              "      <td>BENIGN</td>\n",
              "    </tr>\n",
              "    <tr>\n",
              "      <th>2830731</th>\n",
              "      <td>443</td>\n",
              "      <td>3</td>\n",
              "      <td>2</td>\n",
              "      <td>0</td>\n",
              "      <td>12</td>\n",
              "      <td>0</td>\n",
              "      <td>6</td>\n",
              "      <td>6</td>\n",
              "      <td>6.0</td>\n",
              "      <td>0.0</td>\n",
              "      <td>...</td>\n",
              "      <td>20</td>\n",
              "      <td>0.0</td>\n",
              "      <td>0.0</td>\n",
              "      <td>0</td>\n",
              "      <td>0</td>\n",
              "      <td>0.0</td>\n",
              "      <td>0.0</td>\n",
              "      <td>0</td>\n",
              "      <td>0</td>\n",
              "      <td>BENIGN</td>\n",
              "    </tr>\n",
              "    <tr>\n",
              "      <th>2830733</th>\n",
              "      <td>53</td>\n",
              "      <td>158</td>\n",
              "      <td>2</td>\n",
              "      <td>2</td>\n",
              "      <td>82</td>\n",
              "      <td>114</td>\n",
              "      <td>41</td>\n",
              "      <td>41</td>\n",
              "      <td>41.0</td>\n",
              "      <td>0.0</td>\n",
              "      <td>...</td>\n",
              "      <td>20</td>\n",
              "      <td>0.0</td>\n",
              "      <td>0.0</td>\n",
              "      <td>0</td>\n",
              "      <td>0</td>\n",
              "      <td>0.0</td>\n",
              "      <td>0.0</td>\n",
              "      <td>0</td>\n",
              "      <td>0</td>\n",
              "      <td>BENIGN</td>\n",
              "    </tr>\n",
              "  </tbody>\n",
              "</table>\n",
              "<p>308381 rows × 79 columns</p>\n",
              "</div>"
            ],
            "text/plain": [
              "         Destination Port  Flow Duration  Total Fwd Packets  \\\n",
              "2109                   80             77                  2   \n",
              "2257                  443              3                  2   \n",
              "2749                  443             49                  2   \n",
              "2862                  443              4                  2   \n",
              "2877                  443              1                  2   \n",
              "...                   ...            ...                ...   \n",
              "2830701                53            179                  2   \n",
              "2830725                53            161                  2   \n",
              "2830726                53            212                  2   \n",
              "2830731               443              3                  2   \n",
              "2830733                53            158                  2   \n",
              "\n",
              "         Total Backward Packets  Total Length of Fwd Packets  \\\n",
              "2109                          0                           12   \n",
              "2257                          0                           12   \n",
              "2749                          0                           12   \n",
              "2862                          0                           12   \n",
              "2877                          0                           12   \n",
              "...                         ...                          ...   \n",
              "2830701                       2                           46   \n",
              "2830725                       2                           82   \n",
              "2830726                       2                           84   \n",
              "2830731                       0                           12   \n",
              "2830733                       2                           82   \n",
              "\n",
              "         Total Length of Bwd Packets  Fwd Packet Length Max  \\\n",
              "2109                               0                      6   \n",
              "2257                               0                      6   \n",
              "2749                               0                      6   \n",
              "2862                               0                      6   \n",
              "2877                               0                      6   \n",
              "...                              ...                    ...   \n",
              "2830701                           46                     23   \n",
              "2830725                          114                     41   \n",
              "2830726                          162                     42   \n",
              "2830731                            0                      6   \n",
              "2830733                          114                     41   \n",
              "\n",
              "         Fwd Packet Length Min  Fwd Packet Length Mean  Fwd Packet Length Std  \\\n",
              "2109                         6                     6.0                    0.0   \n",
              "2257                         6                     6.0                    0.0   \n",
              "2749                         6                     6.0                    0.0   \n",
              "2862                         6                     6.0                    0.0   \n",
              "2877                         6                     6.0                    0.0   \n",
              "...                        ...                     ...                    ...   \n",
              "2830701                     23                    23.0                    0.0   \n",
              "2830725                     41                    41.0                    0.0   \n",
              "2830726                     42                    42.0                    0.0   \n",
              "2830731                      6                     6.0                    0.0   \n",
              "2830733                     41                    41.0                    0.0   \n",
              "\n",
              "         ...  min_seg_size_forward  Active Mean  Active Std  Active Max  \\\n",
              "2109     ...                    20          0.0         0.0           0   \n",
              "2257     ...                    20          0.0         0.0           0   \n",
              "2749     ...                    20          0.0         0.0           0   \n",
              "2862     ...                    20          0.0         0.0           0   \n",
              "2877     ...                    20          0.0         0.0           0   \n",
              "...      ...                   ...          ...         ...         ...   \n",
              "2830701  ...                    32          0.0         0.0           0   \n",
              "2830725  ...                    32          0.0         0.0           0   \n",
              "2830726  ...                    32          0.0         0.0           0   \n",
              "2830731  ...                    20          0.0         0.0           0   \n",
              "2830733  ...                    20          0.0         0.0           0   \n",
              "\n",
              "         Active Min  Idle Mean  Idle Std  Idle Max  Idle Min   Label  \n",
              "2109              0        0.0       0.0         0         0  BENIGN  \n",
              "2257              0        0.0       0.0         0         0  BENIGN  \n",
              "2749              0        0.0       0.0         0         0  BENIGN  \n",
              "2862              0        0.0       0.0         0         0  BENIGN  \n",
              "2877              0        0.0       0.0         0         0  BENIGN  \n",
              "...             ...        ...       ...       ...       ...     ...  \n",
              "2830701           0        0.0       0.0         0         0  BENIGN  \n",
              "2830725           0        0.0       0.0         0         0  BENIGN  \n",
              "2830726           0        0.0       0.0         0         0  BENIGN  \n",
              "2830731           0        0.0       0.0         0         0  BENIGN  \n",
              "2830733           0        0.0       0.0         0         0  BENIGN  \n",
              "\n",
              "[308381 rows x 79 columns]"
            ]
          },
          "execution_count": 13,
          "metadata": {},
          "output_type": "execute_result"
        }
      ],
      "source": [
        "df[df.duplicated()]"
      ]
    },
    {
      "cell_type": "code",
      "execution_count": null,
      "metadata": {
        "id": "zED1GggVxXAg"
      },
      "outputs": [
        {
          "name": "stdout",
          "output_type": "stream",
          "text": [
            "Tamanho inicial: 2830743, tamanho final 2522362 | Descartadas 308381 duplicadas\n"
          ]
        }
      ],
      "source": [
        "# Descartando duplicadas\n",
        "initial_len = df.shape[0]\n",
        "df = df.drop_duplicates()\n",
        "print(f'Tamanho inicial: {initial_len}, tamanho final {df.shape[0]} | Descartadas {initial_len - df.shape[0]} duplicadas')"
      ]
    },
    {
      "cell_type": "markdown",
      "metadata": {
        "id": "_u9Y-ucudcTq"
      },
      "source": [
        "Registros com valores Null/NaN/NA"
      ]
    },
    {
      "cell_type": "code",
      "execution_count": null,
      "metadata": {
        "id": "V7LWznKmd_6-"
      },
      "outputs": [
        {
          "data": {
            "text/plain": [
              "Index(['Flow Bytes/s'], dtype='object')"
            ]
          },
          "execution_count": 15,
          "metadata": {},
          "output_type": "execute_result"
        }
      ],
      "source": [
        "df.columns[df.isna().any(axis=0)]"
      ]
    },
    {
      "cell_type": "code",
      "execution_count": null,
      "metadata": {
        "id": "QiW6qMEyd16h"
      },
      "outputs": [
        {
          "data": {
            "text/html": [
              "<div>\n",
              "<style scoped>\n",
              "    .dataframe tbody tr th:only-of-type {\n",
              "        vertical-align: middle;\n",
              "    }\n",
              "\n",
              "    .dataframe tbody tr th {\n",
              "        vertical-align: top;\n",
              "    }\n",
              "\n",
              "    .dataframe thead th {\n",
              "        text-align: right;\n",
              "    }\n",
              "</style>\n",
              "<table border=\"1\" class=\"dataframe\">\n",
              "  <thead>\n",
              "    <tr style=\"text-align: right;\">\n",
              "      <th></th>\n",
              "      <th>Flow Bytes/s</th>\n",
              "    </tr>\n",
              "  </thead>\n",
              "  <tbody>\n",
              "    <tr>\n",
              "      <th>6796</th>\n",
              "      <td>NaN</td>\n",
              "    </tr>\n",
              "    <tr>\n",
              "      <th>14739</th>\n",
              "      <td>NaN</td>\n",
              "    </tr>\n",
              "    <tr>\n",
              "      <th>15047</th>\n",
              "      <td>NaN</td>\n",
              "    </tr>\n",
              "    <tr>\n",
              "      <th>209728</th>\n",
              "      <td>NaN</td>\n",
              "    </tr>\n",
              "    <tr>\n",
              "      <th>238569</th>\n",
              "      <td>NaN</td>\n",
              "    </tr>\n",
              "    <tr>\n",
              "      <th>...</th>\n",
              "      <td>...</td>\n",
              "    </tr>\n",
              "    <tr>\n",
              "      <th>2740049</th>\n",
              "      <td>NaN</td>\n",
              "    </tr>\n",
              "    <tr>\n",
              "      <th>2767532</th>\n",
              "      <td>NaN</td>\n",
              "    </tr>\n",
              "    <tr>\n",
              "      <th>2791593</th>\n",
              "      <td>NaN</td>\n",
              "    </tr>\n",
              "    <tr>\n",
              "      <th>2809052</th>\n",
              "      <td>NaN</td>\n",
              "    </tr>\n",
              "    <tr>\n",
              "      <th>2824846</th>\n",
              "      <td>NaN</td>\n",
              "    </tr>\n",
              "  </tbody>\n",
              "</table>\n",
              "<p>353 rows × 1 columns</p>\n",
              "</div>"
            ],
            "text/plain": [
              "         Flow Bytes/s\n",
              "6796              NaN\n",
              "14739             NaN\n",
              "15047             NaN\n",
              "209728            NaN\n",
              "238569            NaN\n",
              "...               ...\n",
              "2740049           NaN\n",
              "2767532           NaN\n",
              "2791593           NaN\n",
              "2809052           NaN\n",
              "2824846           NaN\n",
              "\n",
              "[353 rows x 1 columns]"
            ]
          },
          "execution_count": 16,
          "metadata": {},
          "output_type": "execute_result"
        }
      ],
      "source": [
        "df[df.isna().any(axis=1)][['Flow Bytes/s']]"
      ]
    },
    {
      "cell_type": "code",
      "execution_count": null,
      "metadata": {
        "id": "6IT59ZU4NRVf"
      },
      "outputs": [
        {
          "name": "stdout",
          "output_type": "stream",
          "text": [
            "Tamanho inicial: 2522362, tamanho final 2522009 | Descartados 353 registros com valores NA\n"
          ]
        }
      ],
      "source": [
        "# Descartando registros com valores NaN/Null/NA\n",
        "initial_len = df.shape[0]\n",
        "df = df.dropna()\n",
        "print(f'Tamanho inicial: {initial_len}, tamanho final {df.shape[0]} | Descartados {initial_len - df.shape[0]} registros com valores NA')"
      ]
    },
    {
      "cell_type": "code",
      "execution_count": null,
      "metadata": {
        "id": "zQICH4gq6PqA"
      },
      "outputs": [],
      "source": [
        "df = df.reset_index(drop=True)"
      ]
    },
    {
      "cell_type": "markdown",
      "metadata": {
        "id": "sTTh92e0fH2P"
      },
      "source": [
        "Registros com valores não finitos"
      ]
    },
    {
      "cell_type": "code",
      "execution_count": null,
      "metadata": {
        "id": "_cX7zCoE3S_y"
      },
      "outputs": [
        {
          "data": {
            "text/plain": [
              "Flow Bytes/s      False\n",
              "Flow Packets/s    False\n",
              "dtype: bool"
            ]
          },
          "execution_count": 19,
          "metadata": {},
          "output_type": "execute_result"
        }
      ],
      "source": [
        "df_columns_isfinite = np.isfinite(df.drop(['Label'], axis='columns')).all(axis=0)\n",
        "df_columns_isfinite[df_columns_isfinite == False]"
      ]
    },
    {
      "cell_type": "code",
      "execution_count": null,
      "metadata": {
        "id": "ug6Cu3GC5Lla"
      },
      "outputs": [
        {
          "data": {
            "text/html": [
              "<div>\n",
              "<style scoped>\n",
              "    .dataframe tbody tr th:only-of-type {\n",
              "        vertical-align: middle;\n",
              "    }\n",
              "\n",
              "    .dataframe tbody tr th {\n",
              "        vertical-align: top;\n",
              "    }\n",
              "\n",
              "    .dataframe thead th {\n",
              "        text-align: right;\n",
              "    }\n",
              "</style>\n",
              "<table border=\"1\" class=\"dataframe\">\n",
              "  <thead>\n",
              "    <tr style=\"text-align: right;\">\n",
              "      <th></th>\n",
              "      <th>Flow Bytes/s</th>\n",
              "      <th>Flow Packets/s</th>\n",
              "      <th>Flow Duration</th>\n",
              "    </tr>\n",
              "  </thead>\n",
              "  <tbody>\n",
              "    <tr>\n",
              "      <th>65</th>\n",
              "      <td>inf</td>\n",
              "      <td>inf</td>\n",
              "      <td>0</td>\n",
              "    </tr>\n",
              "    <tr>\n",
              "      <th>1767</th>\n",
              "      <td>inf</td>\n",
              "      <td>inf</td>\n",
              "      <td>0</td>\n",
              "    </tr>\n",
              "    <tr>\n",
              "      <th>1890</th>\n",
              "      <td>inf</td>\n",
              "      <td>inf</td>\n",
              "      <td>0</td>\n",
              "    </tr>\n",
              "    <tr>\n",
              "      <th>3365</th>\n",
              "      <td>inf</td>\n",
              "      <td>inf</td>\n",
              "      <td>0</td>\n",
              "    </tr>\n",
              "    <tr>\n",
              "      <th>8001</th>\n",
              "      <td>inf</td>\n",
              "      <td>inf</td>\n",
              "      <td>0</td>\n",
              "    </tr>\n",
              "    <tr>\n",
              "      <th>...</th>\n",
              "      <td>...</td>\n",
              "      <td>...</td>\n",
              "      <td>...</td>\n",
              "    </tr>\n",
              "    <tr>\n",
              "      <th>2515309</th>\n",
              "      <td>inf</td>\n",
              "      <td>inf</td>\n",
              "      <td>0</td>\n",
              "    </tr>\n",
              "    <tr>\n",
              "      <th>2515565</th>\n",
              "      <td>inf</td>\n",
              "      <td>inf</td>\n",
              "      <td>0</td>\n",
              "    </tr>\n",
              "    <tr>\n",
              "      <th>2516784</th>\n",
              "      <td>inf</td>\n",
              "      <td>inf</td>\n",
              "      <td>0</td>\n",
              "    </tr>\n",
              "    <tr>\n",
              "      <th>2516908</th>\n",
              "      <td>inf</td>\n",
              "      <td>inf</td>\n",
              "      <td>0</td>\n",
              "    </tr>\n",
              "    <tr>\n",
              "      <th>2517924</th>\n",
              "      <td>inf</td>\n",
              "      <td>inf</td>\n",
              "      <td>0</td>\n",
              "    </tr>\n",
              "  </tbody>\n",
              "</table>\n",
              "<p>1211 rows × 3 columns</p>\n",
              "</div>"
            ],
            "text/plain": [
              "         Flow Bytes/s  Flow Packets/s  Flow Duration\n",
              "65                inf             inf              0\n",
              "1767              inf             inf              0\n",
              "1890              inf             inf              0\n",
              "3365              inf             inf              0\n",
              "8001              inf             inf              0\n",
              "...               ...             ...            ...\n",
              "2515309           inf             inf              0\n",
              "2515565           inf             inf              0\n",
              "2516784           inf             inf              0\n",
              "2516908           inf             inf              0\n",
              "2517924           inf             inf              0\n",
              "\n",
              "[1211 rows x 3 columns]"
            ]
          },
          "execution_count": 20,
          "metadata": {},
          "output_type": "execute_result"
        }
      ],
      "source": [
        "df_rows_isfinite = np.isfinite(df.drop(['Label'], axis='columns')).all(axis=1)\n",
        "inf_indexes = df_rows_isfinite[df_rows_isfinite == False].index\n",
        "df.iloc[inf_indexes][['Flow Bytes/s', 'Flow Packets/s', 'Flow Duration']]"
      ]
    },
    {
      "cell_type": "code",
      "execution_count": null,
      "metadata": {
        "id": "MG1_vSKMf2Oy"
      },
      "outputs": [],
      "source": [
        "# Evitando registros com valores não finitos\n",
        "max_finite_flow_packets_per_sec = df[np.isfinite(df['Flow Packets/s'])]['Flow Packets/s'].max()\n",
        "max_finite_flow_bytes_per_sec = df[np.isfinite(df['Flow Bytes/s'])]['Flow Bytes/s'].max()\n",
        "\n",
        "df.loc[df['Flow Packets/s'] == np.inf, 'Flow Packets/s'] = max_finite_flow_packets_per_sec\n",
        "df.loc[df['Flow Bytes/s'] == np.inf, 'Flow Bytes/s'] = max_finite_flow_bytes_per_sec"
      ]
    },
    {
      "cell_type": "markdown",
      "metadata": {
        "id": "W-XvDbz6q8jB"
      },
      "source": [
        "# Mini análise exploratória"
      ]
    },
    {
      "cell_type": "markdown",
      "metadata": {
        "id": "NVckGuDaxcGO"
      },
      "source": [
        "### Quantidade de instâncias benignas x maliciosas"
      ]
    },
    {
      "cell_type": "code",
      "execution_count": null,
      "metadata": {
        "id": "PLbbFtXln9th"
      },
      "outputs": [
        {
          "data": {
            "text/plain": [
              "<Axes: xlabel='Label', ylabel='count'>"
            ]
          },
          "execution_count": 22,
          "metadata": {},
          "output_type": "execute_result"
        },
        {
          "data": {
            "image/png": "[encoded data removed]",
            "text/plain": [
              "<Figure size 640x480 with 1 Axes>"
            ]
          },
          "metadata": {},
          "output_type": "display_data"
        }
      ],
      "source": [
        "sns.countplot(data=df['Label'].apply(lambda label: 'Malicious' if label != 'BENIGN' else 'Benign').to_frame(), x='Label')"
      ]
    },
    {
      "cell_type": "markdown",
      "metadata": {
        "id": "XomZW4ulyPZI"
      },
      "source": [
        "**Dados não balanceados**. Impactos:\n",
        "- Dificuldade de treinar modelos supervisionados\n",
        "- Dificuldade de avaliar resultados com métricas tradicionais como acurácia"
      ]
    },
    {
      "cell_type": "markdown",
      "metadata": {
        "id": "8qwei56XxhPf"
      },
      "source": [
        "### Quantidade de instâncias por tipo de ataque"
      ]
    },
    {
      "cell_type": "markdown",
      "metadata": {
        "id": "U7aBOsqTzghd"
      },
      "source": [
        "Abaixo está um descritivo para os ataques do dataset:\n",
        "\n",
        "**DoS (Denial of Service)**: Esses ataques, como \"DoS Hulk\", \"DoS GoldenEye\", \"DoS Slowloris\", \"DoS Slowhttptest\" e \"DDoS\" visam tornar temporariamente uma máquina ou recurso de rede indisponível, sendo diferenciados pelo protocolo e estratégia usados para causar a negação de serviço. No caso do \"DDoS\", várias máquinas Windows 8.1 foram usadas para enviar solicitações UDP, TCP e HTTP.\n",
        "\n",
        "**FTP Patator\" e \"SSH Patator**: Usam o software Patator para adivinhar senhas por força bruta com o uso de listas de palavras.\n",
        "\n",
        "**Web - Brute Force**: Usa força bruta em uma aplicação com listas de palavras.\n",
        "\n",
        "**Web - Injeção de SQL**: Esse ataque explora vulnerabilidades em máquinas conectadas publicamente à Internet usando injeção SQL.\n",
        "\n",
        "**Web - XSS (Cross-Site Scripting)**: Representa injeções de scripts em aplicativos da web, visando a execução de ações maliciosas por outros usuários do aplicativo.\n",
        "\n",
        "**PortScan**: Realizados com a ferramenta NMap, esses ataques buscam informações sobre os serviços e portas abertas em um alvo.\n",
        "\n",
        "**Bot**: Esse ataque tem várias possibilidades, como roubo de dados, envio de spam e acesso ao dispositivo. .\n",
        "\n",
        "**Infiltration**: Baseado na infecção de uma máquina após um usuário abrir um arquivo malicioso."
      ]
    },
    {
      "cell_type": "code",
      "execution_count": null,
      "metadata": {
        "id": "r9BBNOy1u4aJ"
      },
      "outputs": [],
      "source": [
        "df['Label'] = df['Label'].replace({'Web Attack � Brute Force':'Brute Force', 'Web Attack � XSS':'XSS', 'Web Attack � Sql Injection':'Sql Injection'})"
      ]
    },
    {
      "cell_type": "code",
      "execution_count": null,
      "metadata": {
        "id": "pSnxTG4Aqsga"
      },
      "outputs": [
        {
          "data": {
            "text/plain": [
              "([0, 1, 2, 3, 4, 5, 6, 7, 8, 9, 10, 11, 12, 13],\n",
              " [Text(0, 0, 'DoS Hulk'),\n",
              "  Text(1, 0, 'DDoS'),\n",
              "  Text(2, 0, 'PortScan'),\n",
              "  Text(3, 0, 'DoS GoldenEye'),\n",
              "  Text(4, 0, 'FTP-Patator'),\n",
              "  Text(5, 0, 'DoS slowloris'),\n",
              "  Text(6, 0, 'DoS Slowhttptest'),\n",
              "  Text(7, 0, 'SSH-Patator'),\n",
              "  Text(8, 0, 'Bot'),\n",
              "  Text(9, 0, 'Brute Force'),\n",
              "  Text(10, 0, 'XSS'),\n",
              "  Text(11, 0, 'Infiltration'),\n",
              "  Text(12, 0, 'Sql Injection'),\n",
              "  Text(13, 0, 'Heartbleed')])"
            ]
          },
          "execution_count": 24,
          "metadata": {},
          "output_type": "execute_result"
        },
        {
          "data": {
            "image/png": "[encoded data removed]",
            "text/plain": [
              "<Figure size 640x480 with 1 Axes>"
            ]
          },
          "metadata": {},
          "output_type": "display_data"
        }
      ],
      "source": [
        "sns.countplot(data=df.query('Label != \"BENIGN\"')[['Label']], x='Label', order = df.query('Label != \"BENIGN\"')['Label'].value_counts().index)\n",
        "plt.xticks(rotation=45)"
      ]
    },
    {
      "cell_type": "markdown",
      "metadata": {
        "id": "Srjop6xWxnWF"
      },
      "source": [
        "Ataques menos representados"
      ]
    },
    {
      "cell_type": "code",
      "execution_count": null,
      "metadata": {
        "id": "8HU78W11v-2p"
      },
      "outputs": [
        {
          "data": {
            "text/plain": [
              "([0, 1, 2, 3, 4],\n",
              " [Text(0, 0, 'Infiltration'),\n",
              "  Text(1, 0, 'Brute Force'),\n",
              "  Text(2, 0, 'XSS'),\n",
              "  Text(3, 0, 'Sql Injection'),\n",
              "  Text(4, 0, 'Heartbleed')])"
            ]
          },
          "execution_count": 25,
          "metadata": {},
          "output_type": "execute_result"
        },
        {
          "data": {
            "image/png": "[encoded data removed]",
            "text/plain": [
              "<Figure size 640x480 with 1 Axes>"
            ]
          },
          "metadata": {},
          "output_type": "display_data"
        }
      ],
      "source": [
        "N_LESS_REPRESENTED_LABELS = 5\n",
        "\n",
        "sns.countplot(data=df[df['Label'].isin(df.groupby('Label').size().sort_values(ascending=False)[(-1)*N_LESS_REPRESENTED_LABELS:].index)], x='Label')\n",
        "plt.xticks(rotation=45)"
      ]
    },
    {
      "cell_type": "markdown",
      "metadata": {
        "id": "B0eln0r6yxbn"
      },
      "source": [
        "### Estatísticas dos dados"
      ]
    },
    {
      "cell_type": "code",
      "execution_count": null,
      "metadata": {
        "id": "HL6p6K2Prnr_"
      },
      "outputs": [
        {
          "data": {
            "text/html": [
              "<div>\n",
              "<style scoped>\n",
              "    .dataframe tbody tr th:only-of-type {\n",
              "        vertical-align: middle;\n",
              "    }\n",
              "\n",
              "    .dataframe tbody tr th {\n",
              "        vertical-align: top;\n",
              "    }\n",
              "\n",
              "    .dataframe thead th {\n",
              "        text-align: right;\n",
              "    }\n",
              "</style>\n",
              "<table border=\"1\" class=\"dataframe\">\n",
              "  <thead>\n",
              "    <tr style=\"text-align: right;\">\n",
              "      <th></th>\n",
              "      <th>Flow Duration</th>\n",
              "      <th>Flow Bytes/s</th>\n",
              "      <th>Total Fwd Packets</th>\n",
              "      <th>Average Packet Size</th>\n",
              "      <th>SYN Flag Count</th>\n",
              "    </tr>\n",
              "  </thead>\n",
              "  <tbody>\n",
              "    <tr>\n",
              "      <th>count</th>\n",
              "      <td>2.522009e+06</td>\n",
              "      <td>2.522009e+06</td>\n",
              "      <td>2.522009e+06</td>\n",
              "      <td>2.522009e+06</td>\n",
              "      <td>2.522009e+06</td>\n",
              "    </tr>\n",
              "    <tr>\n",
              "      <th>mean</th>\n",
              "      <td>1.658364e+07</td>\n",
              "      <td>2.404467e+06</td>\n",
              "      <td>1.027750e+01</td>\n",
              "      <td>2.123412e+02</td>\n",
              "      <td>4.874487e-02</td>\n",
              "    </tr>\n",
              "    <tr>\n",
              "      <th>std</th>\n",
              "      <td>3.522618e+07</td>\n",
              "      <td>5.254864e+07</td>\n",
              "      <td>7.942294e+02</td>\n",
              "      <td>3.454504e+02</td>\n",
              "      <td>2.153342e-01</td>\n",
              "    </tr>\n",
              "    <tr>\n",
              "      <th>min</th>\n",
              "      <td>-1.300000e+01</td>\n",
              "      <td>-2.610000e+08</td>\n",
              "      <td>1.000000e+00</td>\n",
              "      <td>0.000000e+00</td>\n",
              "      <td>0.000000e+00</td>\n",
              "    </tr>\n",
              "    <tr>\n",
              "      <th>25%</th>\n",
              "      <td>2.080000e+02</td>\n",
              "      <td>1.194510e+02</td>\n",
              "      <td>2.000000e+00</td>\n",
              "      <td>9.000000e+00</td>\n",
              "      <td>0.000000e+00</td>\n",
              "    </tr>\n",
              "    <tr>\n",
              "      <th>50%</th>\n",
              "      <td>5.058700e+04</td>\n",
              "      <td>3.722028e+03</td>\n",
              "      <td>2.000000e+00</td>\n",
              "      <td>8.075000e+01</td>\n",
              "      <td>0.000000e+00</td>\n",
              "    </tr>\n",
              "    <tr>\n",
              "      <th>75%</th>\n",
              "      <td>5.330376e+06</td>\n",
              "      <td>1.079162e+05</td>\n",
              "      <td>6.000000e+00</td>\n",
              "      <td>1.796923e+02</td>\n",
              "      <td>0.000000e+00</td>\n",
              "    </tr>\n",
              "    <tr>\n",
              "      <th>max</th>\n",
              "      <td>1.200000e+08</td>\n",
              "      <td>2.071000e+09</td>\n",
              "      <td>2.197590e+05</td>\n",
              "      <td>3.893333e+03</td>\n",
              "      <td>1.000000e+00</td>\n",
              "    </tr>\n",
              "  </tbody>\n",
              "</table>\n",
              "</div>"
            ],
            "text/plain": [
              "       Flow Duration  Flow Bytes/s  Total Fwd Packets  Average Packet Size  \\\n",
              "count   2.522009e+06  2.522009e+06       2.522009e+06         2.522009e+06   \n",
              "mean    1.658364e+07  2.404467e+06       1.027750e+01         2.123412e+02   \n",
              "std     3.522618e+07  5.254864e+07       7.942294e+02         3.454504e+02   \n",
              "min    -1.300000e+01 -2.610000e+08       1.000000e+00         0.000000e+00   \n",
              "25%     2.080000e+02  1.194510e+02       2.000000e+00         9.000000e+00   \n",
              "50%     5.058700e+04  3.722028e+03       2.000000e+00         8.075000e+01   \n",
              "75%     5.330376e+06  1.079162e+05       6.000000e+00         1.796923e+02   \n",
              "max     1.200000e+08  2.071000e+09       2.197590e+05         3.893333e+03   \n",
              "\n",
              "       SYN Flag Count  \n",
              "count    2.522009e+06  \n",
              "mean     4.874487e-02  \n",
              "std      2.153342e-01  \n",
              "min      0.000000e+00  \n",
              "25%      0.000000e+00  \n",
              "50%      0.000000e+00  \n",
              "75%      0.000000e+00  \n",
              "max      1.000000e+00  "
            ]
          },
          "execution_count": 26,
          "metadata": {},
          "output_type": "execute_result"
        }
      ],
      "source": [
        "interesting_cols = ['Flow Duration', 'Flow Bytes/s', 'Total Fwd Packets', 'Average Packet Size', 'SYN Flag Count']\n",
        "df[interesting_cols].describe()"
      ]
    },
    {
      "cell_type": "code",
      "execution_count": null,
      "metadata": {},
      "outputs": [
        {
          "name": "stdout",
          "output_type": "stream",
          "text": [
            "Label\n",
            "BENIGN              2096134\n",
            "DoS Hulk             172846\n",
            "DDoS                 128016\n",
            "PortScan              90819\n",
            "DoS GoldenEye         10286\n",
            "FTP-Patator            5933\n",
            "DoS slowloris          5385\n",
            "DoS Slowhttptest       5228\n",
            "SSH-Patator            3219\n",
            "Bot                    1953\n",
            "Brute Force            1470\n",
            "XSS                     652\n",
            "Infiltration             36\n",
            "Sql Injection            21\n",
            "Heartbleed               11\n",
            "Name: count, dtype: int64\n",
            "2522009\n"
          ]
        }
      ],
      "source": [
        "true_labels = df['Label']\n",
        "print(true_labels.value_counts())\n",
        "print(len(df))"
      ]
    },
    {
      "cell_type": "markdown",
      "metadata": {
        "id": "dBSel8WouIw_"
      },
      "source": [
        "# Dividindo dados nos conjuntos de treino, validação e teste"
      ]
    },
    {
      "cell_type": "markdown",
      "metadata": {
        "id": "RHnMjHT8hAU1"
      },
      "source": [
        "**Conjunto de treino**\n",
        "\n",
        "Para a detecção de anomalias, vamos usar somente os dados que representam o tráfego benigno para o conjunto de treino. Dessa forma, os algoritmos de clustering vão ser capazes de identificar padrões e desvios em relação ao comportamento normal (benigno) dos dados.\n",
        "\n",
        "**Conjuntos de validação e teste**\n",
        "\n",
        "Porém, devem ser incluídos dados que representam o tráfego maliciosos nos conjuntos de validação e teste. Esses dados maliciosos no conjunto de validação são importantes para que possamos definir um *threshold* para que seja possível detectar anomalias. Além disso, os dados maliciosos também precisam ser incluídos no conjunto de teste para que possamos avaliar o desempenho do nosso modelo."
      ]
    },
    {
      "cell_type": "code",
      "execution_count": null,
      "metadata": {
        "id": "uI9aRuHROEjH"
      },
      "outputs": [],
      "source": [
        "df_train = df.query('Label == \"BENIGN\"').sample(frac=0.6, random_state=RANDOM_SEED)\n",
        "df_val_test = df.drop(df_train.index)\n",
        "\n",
        "df_train = df_train.reset_index(drop=True)\n",
        "df_val_test = df_val_test.reset_index(drop=True)\n",
        "\n",
        "#class_train = df_train['Label']\n",
        "X_train = df_train.drop('Label', axis='columns')"
      ]
    },
    {
      "cell_type": "code",
      "execution_count": null,
      "metadata": {
        "id": "EZLGwSvtym8X"
      },
      "outputs": [],
      "source": [
        "X_val, X_test, classes_val, classes_test = train_test_split(df_val_test.drop('Label', axis='columns'), df_val_test['Label'], test_size=0.65, stratify=df_val_test['Label'], random_state=RANDOM_SEED)\n",
        "\n",
        "X_val, X_test = X_val.reset_index(drop=True), X_test.reset_index(drop=True)\n",
        "classes_val, classes_test =  classes_val.reset_index(drop=True), classes_test.reset_index(drop=True)\n",
        "\n",
        "y_val, y_test = classes_val.apply(lambda c: 0 if c == 'BENIGN' else 1), classes_test.apply(lambda c: 0 if c == 'BENIGN' else 1)"
      ]
    },
    {
      "cell_type": "code",
      "execution_count": null,
      "metadata": {},
      "outputs": [],
      "source": [
        "del df_train, df_val_test"
      ]
    },
    {
      "cell_type": "markdown",
      "metadata": {
        "id": "nrKKFKiM28S2"
      },
      "source": [
        "# Analisando correlação entre features"
      ]
    },
    {
      "cell_type": "markdown",
      "metadata": {
        "id": "t7GUkxzw0QuI"
      },
      "source": [
        "**Por que remover features?**"
      ]
    },
    {
      "cell_type": "markdown",
      "metadata": {
        "id": "-V25pTEPoVFF"
      },
      "source": [
        "Vamos descartar features com alta correlação evitando passar informações redundantes ao modelo. Dessa forma, conseguiremos obter um modelo mais simples e com menor custo computacional."
      ]
    },
    {
      "cell_type": "code",
      "execution_count": null,
      "metadata": {
        "id": "nH8iWIvI8vwu"
      },
      "outputs": [],
      "source": [
        "def get_highly_correlated_features(correlation_matrix, threshold):\n",
        "  correlated_pairs = []\n",
        "  for i in range(len(correlation_matrix.columns)):\n",
        "    for j in range(i):\n",
        "      if abs(correlation_matrix.iloc[i, j]) > threshold:\n",
        "        pair = (correlation_matrix.columns[i], correlation_matrix.columns[j])\n",
        "        coefficient = correlation_matrix.iloc[i, j]\n",
        "        correlated_pairs.append((pair, coefficient))\n",
        "  return sorted(correlated_pairs, key= lambda pair: pair[1], reverse=True)\n"
      ]
    },
    {
      "cell_type": "code",
      "execution_count": null,
      "metadata": {
        "id": "lYL301wA8msm"
      },
      "outputs": [],
      "source": [
        "corr_matrix = X_train.corr().abs()\n",
        "correlation_list = get_highly_correlated_features(corr_matrix, 0.95)"
      ]
    },
    {
      "cell_type": "code",
      "execution_count": null,
      "metadata": {},
      "outputs": [
        {
          "name": "stdout",
          "output_type": "stream",
          "text": [
            "78\n"
          ]
        }
      ],
      "source": [
        "print(X_train.shape[1])"
      ]
    },
    {
      "cell_type": "code",
      "execution_count": null,
      "metadata": {
        "id": "k6cC1a08B4Eh"
      },
      "outputs": [
        {
          "data": {
            "text/plain": [
              "[(('Avg Bwd Segment Size', 'Bwd Packet Length Mean'), 1.0000000000000002),\n",
              " (('SYN Flag Count', 'Fwd PSH Flags'), 1.0),\n",
              " (('CWE Flag Count', 'Fwd URG Flags'), 1.0),\n",
              " (('Avg Fwd Segment Size', 'Fwd Packet Length Mean'), 1.0),\n",
              " (('Fwd Header Length.1', 'Fwd Header Length'), 1.0),\n",
              " (('Subflow Fwd Packets', 'Total Fwd Packets'), 1.0),\n",
              " (('Subflow Fwd Bytes', 'Total Length of Fwd Packets'), 1.0),\n",
              " (('Subflow Bwd Packets', 'Total Backward Packets'), 1.0),\n",
              " (('Subflow Bwd Bytes', 'Total Length of Bwd Packets'), 0.9999998619402976),\n",
              " (('Subflow Fwd Packets', 'Total Backward Packets'), 0.9991954734499192)]"
            ]
          },
          "execution_count": 34,
          "metadata": {},
          "output_type": "execute_result"
        }
      ],
      "source": [
        "correlation_list[:10]"
      ]
    },
    {
      "cell_type": "code",
      "execution_count": null,
      "metadata": {
        "id": "PMe5PnY0-ACu"
      },
      "outputs": [],
      "source": [
        "# Drop high correlated features in correlation list\n",
        "\n",
        "f2drop = []\n",
        "for feature_pair, _ in correlation_list:\n",
        "  if feature_pair[0] not in f2drop and feature_pair[1] not in f2drop:\n",
        "    f2drop.append(feature_pair[1])"
      ]
    },
    {
      "cell_type": "code",
      "execution_count": null,
      "metadata": {
        "id": "RKzy0I0iDgE8"
      },
      "outputs": [
        {
          "data": {
            "text/plain": [
              "['Bwd Packet Length Mean',\n",
              " 'Fwd PSH Flags',\n",
              " 'Fwd URG Flags',\n",
              " 'Fwd Packet Length Mean',\n",
              " 'Fwd Header Length',\n",
              " 'Total Fwd Packets',\n",
              " 'Total Length of Fwd Packets',\n",
              " 'Total Backward Packets',\n",
              " 'Total Length of Bwd Packets',\n",
              " 'Subflow Fwd Packets',\n",
              " 'Flow Duration',\n",
              " 'RST Flag Count',\n",
              " 'Subflow Bwd Packets',\n",
              " 'Packet Length Mean',\n",
              " 'Flow IAT Max',\n",
              " 'Idle Mean',\n",
              " 'Fwd IAT Total',\n",
              " 'Fwd Packet Length Max',\n",
              " 'Max Packet Length',\n",
              " 'Bwd IAT Max',\n",
              " 'Bwd IAT Mean',\n",
              " 'Fwd IAT Max',\n",
              " 'Fwd IAT Mean',\n",
              " 'Idle Max']"
            ]
          },
          "execution_count": 36,
          "metadata": {},
          "output_type": "execute_result"
        }
      ],
      "source": [
        "f2drop"
      ]
    },
    {
      "cell_type": "markdown",
      "metadata": {
        "id": "czgiFCHwppTO"
      },
      "source": [
        "A feature \"Destination Port\", também não fornece muita contribuição devido que a mesma está codificada com valores inteiros, indicando uma relação de grandeza, como 44720 > 80, que não apresenta sentido semântico quando se trata da porta de destino de um fluxo de rede."
      ]
    },
    {
      "cell_type": "code",
      "execution_count": null,
      "metadata": {
        "id": "GI1Njd7Sd0zo"
      },
      "outputs": [],
      "source": [
        "f2drop = f2drop + ['Destination Port']"
      ]
    },
    {
      "cell_type": "code",
      "execution_count": null,
      "metadata": {
        "id": "ZqW_NURpDqwy"
      },
      "outputs": [],
      "source": [
        "X_train = X_train.drop(f2drop, axis='columns')\n",
        "X_val = X_val.drop(f2drop, axis='columns')\n",
        "X_test = X_test.drop(f2drop, axis='columns')"
      ]
    },
    {
      "cell_type": "code",
      "execution_count": null,
      "metadata": {},
      "outputs": [
        {
          "name": "stdout",
          "output_type": "stream",
          "text": [
            "53\n"
          ]
        }
      ],
      "source": [
        "print(X_train.shape[1])"
      ]
    },
    {
      "cell_type": "markdown",
      "metadata": {},
      "source": [
        "# Normalizando os Dados"
      ]
    },
    {
      "cell_type": "markdown",
      "metadata": {},
      "source": [
        "Eu testei com a normalização dos dados, mas não obtive um resultado muito diferente, e vi que a normalização dos dados não é necessária nos modelos: Isolation Forest e OCSVM. Então decidi por não normalizar na maiorias dos testes, incluindo o teste final."
      ]
    },
    {
      "cell_type": "code",
      "execution_count": null,
      "metadata": {},
      "outputs": [],
      "source": [
        "#std_scaler = StandardScaler()\n",
        "#std_scaler = std_scaler.fit(X_train)\n",
        "\n",
        "#norm_X_train = std_scaler.transform(X_train)\n",
        "#norm_X_val = std_scaler.transform(X_val)\n",
        "#norm_X_test = std_scaler.transform(X_test)"
      ]
    },
    {
      "cell_type": "code",
      "execution_count": null,
      "metadata": {},
      "outputs": [],
      "source": [
        "#del X_train, X_val, X_test"
      ]
    },
    {
      "cell_type": "markdown",
      "metadata": {},
      "source": [
        "# Funções de Avaliação"
      ]
    },
    {
      "cell_type": "code",
      "execution_count": null,
      "metadata": {},
      "outputs": [],
      "source": [
        "def plot_roc_curve(y_true, y_score, max_fpr=1.0):\n",
        "  fpr, tpr, thresholds = roc_curve(y_true, y_score)\n",
        "  aucroc = roc_auc_score(y_true, y_score)\n",
        "  plt.plot(100*fpr[fpr < max_fpr], 100*tpr[fpr < max_fpr], label=f'ROC Curve (AUC = {aucroc:.4f})')\n",
        "  plt.xlim(-2,102)\n",
        "  plt.xlabel('FPR (%)')\n",
        "  plt.ylabel('TPR (%)')\n",
        "  plt.legend()\n",
        "  plt.title('ROC Curve and AUCROC')"
      ]
    },
    {
      "cell_type": "code",
      "execution_count": null,
      "metadata": {},
      "outputs": [],
      "source": [
        "def get_tpr_per_attack(y_labels, y_pred):\n",
        "  aux_df = pd.DataFrame({'Label':y_labels,'prediction':y_pred})\n",
        "  total_per_label = aux_df['Label'].value_counts().to_dict()\n",
        "  correct_predictions_per_label = aux_df.query('Label != \"BENIGN\" and prediction == True').groupby('Label').size().to_dict()\n",
        "  tpr_per_attack = {}\n",
        "  for attack_label, total in total_per_label.items():\n",
        "    if attack_label == 'BENIGN':\n",
        "      continue\n",
        "    tp = correct_predictions_per_label[attack_label] if attack_label in correct_predictions_per_label else 0\n",
        "    tpr = tp/total\n",
        "    tpr_per_attack[attack_label] = tpr\n",
        "  return tpr_per_attack"
      ]
    },
    {
      "cell_type": "code",
      "execution_count": null,
      "metadata": {},
      "outputs": [],
      "source": [
        "def get_overall_metrics(y_true, y_pred):\n",
        "  tn, fp, fn, tp = confusion_matrix(y_true, y_pred).ravel()\n",
        "  acc = (tp+tn)/(tp+tn+fp+fn)\n",
        "  tpr = tp/(tp+fn)\n",
        "  fpr = fp/(fp+tn)\n",
        "  precision = tp/(tp+fp)\n",
        "  f1 = (2*tpr*precision)/(tpr+precision)\n",
        "  return {'acc':acc,'tpr':tpr,'fpr':fpr,'precision':precision,'f1-score':f1}"
      ]
    },
    {
      "cell_type": "code",
      "execution_count": null,
      "metadata": {},
      "outputs": [],
      "source": [
        "def plot_confusion_matrix(y_true, y_pred):\n",
        "  cm = confusion_matrix(y_true, y_pred)\n",
        "  group_counts = [f'{value:.0f}' for value in confusion_matrix(y_true, y_pred).ravel()]\n",
        "  group_percentages = [f'{value*100:.2f}%' for value in confusion_matrix(y_true, y_pred).ravel()/np.sum(cm)]\n",
        "  labels = [f'{v1}\\n{v2}' for v1, v2 in zip(group_counts, group_percentages)]\n",
        "  labels = np.array(labels).reshape(2,2)\n",
        "  sns.heatmap(cm, annot=labels, cmap='Oranges', xticklabels=['Predicted Benign', 'Predicted Malicious'], yticklabels=['Actual Benign', 'Actual Malicious'], fmt='')\n",
        "  return"
      ]
    },
    {
      "cell_type": "markdown",
      "metadata": {
        "id": "yAlL-F5NnxGg"
      },
      "source": [
        "# Detecção de Anomalias com o Isolation Forest"
      ]
    },
    {
      "cell_type": "markdown",
      "metadata": {},
      "source": [
        "#### Escolha dos parâmetros"
      ]
    },
    {
      "cell_type": "markdown",
      "metadata": {},
      "source": [
        "**contamination**: A proporção de pacotes maliciosos é de 0.1688633942226217, como o parâmetro **contamination** é a taxa esperada de anomalias, então eu defini este valor para este parâmetro."
      ]
    },
    {
      "cell_type": "markdown",
      "metadata": {},
      "source": [
        "**max_fetures**: Este parâmetro limita o número máximo de features que o isolation forest irá usar, segundo a documentação do isolation forest, o valor padrão deste parâmetro é 1.0, então, achei necessário colocar este parâmetro com um valor igual ao número máximo de features usados, que neste caso é 53."
      ]
    },
    {
      "cell_type": "markdown",
      "metadata": {},
      "source": [
        "#### Treinamento"
      ]
    },
    {
      "cell_type": "code",
      "execution_count": null,
      "metadata": {
        "id": "uPdgTo9b1rzM"
      },
      "outputs": [],
      "source": [
        "from sklearn.ensemble import IsolationForest\n",
        "\n",
        "N_ESTIMATORS = 100\n",
        "\n",
        "model_iforest = IsolationForest(n_estimators = N_ESTIMATORS, contamination = 0.1688633942226217, bootstrap= False, max_features= 53, n_jobs=-1, random_state=RANDOM_SEED).fit(X_train)"
      ]
    },
    {
      "cell_type": "markdown",
      "metadata": {
        "id": "yD7PVp9NBvjF"
      },
      "source": [
        "## Conjunto de validação"
      ]
    },
    {
      "cell_type": "code",
      "execution_count": null,
      "metadata": {
        "id": "JojVaFuhI_63"
      },
      "outputs": [],
      "source": [
        "val_scores_iforest = model_iforest.score_samples(X_val)"
      ]
    },
    {
      "cell_type": "code",
      "execution_count": null,
      "metadata": {
        "id": "uZdcOHaMJOat"
      },
      "outputs": [],
      "source": [
        "val_scores_iforest = np.abs(val_scores_iforest)"
      ]
    },
    {
      "cell_type": "code",
      "execution_count": null,
      "metadata": {
        "id": "dxBeh1EZ0Mz-"
      },
      "outputs": [
        {
          "data": {
            "image/png": "[encoded data removed]",
            "text/plain": [
              "<Figure size 640x480 with 1 Axes>"
            ]
          },
          "metadata": {},
          "output_type": "display_data"
        }
      ],
      "source": [
        "plot_roc_curve(y_val, val_scores_iforest)"
      ]
    },
    {
      "cell_type": "code",
      "execution_count": null,
      "metadata": {
        "id": "znZDcdRWxeEu"
      },
      "outputs": [
        {
          "data": {
            "text/html": [
              "<div>\n",
              "<style scoped>\n",
              "    .dataframe tbody tr th:only-of-type {\n",
              "        vertical-align: middle;\n",
              "    }\n",
              "\n",
              "    .dataframe tbody tr th {\n",
              "        vertical-align: top;\n",
              "    }\n",
              "\n",
              "    .dataframe thead th {\n",
              "        text-align: right;\n",
              "    }\n",
              "</style>\n",
              "<table border=\"1\" class=\"dataframe\">\n",
              "  <thead>\n",
              "    <tr style=\"text-align: right;\">\n",
              "      <th></th>\n",
              "      <th>fpr</th>\n",
              "      <th>tpr</th>\n",
              "      <th>thresholds</th>\n",
              "      <th>youden-index</th>\n",
              "    </tr>\n",
              "  </thead>\n",
              "  <tbody>\n",
              "    <tr>\n",
              "      <th>23189</th>\n",
              "      <td>0.074944</td>\n",
              "      <td>0.584948</td>\n",
              "      <td>0.469690</td>\n",
              "      <td>0.510004</td>\n",
              "    </tr>\n",
              "    <tr>\n",
              "      <th>23193</th>\n",
              "      <td>0.074964</td>\n",
              "      <td>0.584961</td>\n",
              "      <td>0.469667</td>\n",
              "      <td>0.509997</td>\n",
              "    </tr>\n",
              "    <tr>\n",
              "      <th>23191</th>\n",
              "      <td>0.074961</td>\n",
              "      <td>0.584955</td>\n",
              "      <td>0.469672</td>\n",
              "      <td>0.509994</td>\n",
              "    </tr>\n",
              "    <tr>\n",
              "      <th>23187</th>\n",
              "      <td>0.074913</td>\n",
              "      <td>0.584901</td>\n",
              "      <td>0.469727</td>\n",
              "      <td>0.509988</td>\n",
              "    </tr>\n",
              "    <tr>\n",
              "      <th>23195</th>\n",
              "      <td>0.074985</td>\n",
              "      <td>0.584968</td>\n",
              "      <td>0.469658</td>\n",
              "      <td>0.509983</td>\n",
              "    </tr>\n",
              "    <tr>\n",
              "      <th>...</th>\n",
              "      <td>...</td>\n",
              "      <td>...</td>\n",
              "      <td>...</td>\n",
              "      <td>...</td>\n",
              "    </tr>\n",
              "    <tr>\n",
              "      <th>55</th>\n",
              "      <td>0.000947</td>\n",
              "      <td>0.000067</td>\n",
              "      <td>0.670817</td>\n",
              "      <td>-0.000880</td>\n",
              "    </tr>\n",
              "    <tr>\n",
              "      <th>56</th>\n",
              "      <td>0.000954</td>\n",
              "      <td>0.000067</td>\n",
              "      <td>0.670334</td>\n",
              "      <td>-0.000887</td>\n",
              "    </tr>\n",
              "    <tr>\n",
              "      <th>58</th>\n",
              "      <td>0.000964</td>\n",
              "      <td>0.000074</td>\n",
              "      <td>0.670055</td>\n",
              "      <td>-0.000891</td>\n",
              "    </tr>\n",
              "    <tr>\n",
              "      <th>60</th>\n",
              "      <td>0.000975</td>\n",
              "      <td>0.000081</td>\n",
              "      <td>0.669947</td>\n",
              "      <td>-0.000894</td>\n",
              "    </tr>\n",
              "    <tr>\n",
              "      <th>62</th>\n",
              "      <td>0.000981</td>\n",
              "      <td>0.000087</td>\n",
              "      <td>0.669679</td>\n",
              "      <td>-0.000894</td>\n",
              "    </tr>\n",
              "  </tbody>\n",
              "</table>\n",
              "<p>42978 rows × 4 columns</p>\n",
              "</div>"
            ],
            "text/plain": [
              "            fpr       tpr  thresholds  youden-index\n",
              "23189  0.074944  0.584948    0.469690      0.510004\n",
              "23193  0.074964  0.584961    0.469667      0.509997\n",
              "23191  0.074961  0.584955    0.469672      0.509994\n",
              "23187  0.074913  0.584901    0.469727      0.509988\n",
              "23195  0.074985  0.584968    0.469658      0.509983\n",
              "...         ...       ...         ...           ...\n",
              "55     0.000947  0.000067    0.670817     -0.000880\n",
              "56     0.000954  0.000067    0.670334     -0.000887\n",
              "58     0.000964  0.000074    0.670055     -0.000891\n",
              "60     0.000975  0.000081    0.669947     -0.000894\n",
              "62     0.000981  0.000087    0.669679     -0.000894\n",
              "\n",
              "[42978 rows x 4 columns]"
            ]
          },
          "execution_count": 50,
          "metadata": {},
          "output_type": "execute_result"
        }
      ],
      "source": [
        "fpr, tpr, thresholds = roc_curve(y_val, val_scores_iforest)\n",
        "df_val_roc = pd.DataFrame({'fpr':fpr, 'tpr':tpr, 'thresholds':thresholds})\n",
        "df_val_roc['youden-index'] = df_val_roc['tpr'] - df_val_roc['fpr']\n",
        "df_val_roc.sort_values('youden-index', ascending=False).drop_duplicates('fpr')"
      ]
    },
    {
      "cell_type": "code",
      "execution_count": null,
      "metadata": {
        "id": "3aQleJt53bcR"
      },
      "outputs": [],
      "source": [
        "BEST_IFOREST_VALIDATION_THRESHOLD = 0.451924"
      ]
    },
    {
      "cell_type": "code",
      "execution_count": null,
      "metadata": {
        "id": "CuDZOvgPENx5"
      },
      "outputs": [
        {
          "data": {
            "image/png": "[encoded data removed]",
            "text/plain": [
              "<Figure size 640x480 with 2 Axes>"
            ]
          },
          "metadata": {},
          "output_type": "display_data"
        }
      ],
      "source": [
        "plot_confusion_matrix(y_val, val_scores_iforest > BEST_IFOREST_VALIDATION_THRESHOLD)"
      ]
    },
    {
      "cell_type": "code",
      "execution_count": null,
      "metadata": {
        "id": "O-EoASOTCCDB"
      },
      "outputs": [
        {
          "data": {
            "text/plain": [
              "{'acc': 0.7993740325186717,\n",
              " 'tpr': 0.5919251824817519,\n",
              " 'fpr': 0.09525691834293717,\n",
              " 'precision': 0.7593988845279901,\n",
              " 'f1-score': 0.6652842708490424}"
            ]
          },
          "execution_count": 53,
          "metadata": {},
          "output_type": "execute_result"
        }
      ],
      "source": [
        "get_overall_metrics(y_val, val_scores_iforest > BEST_IFOREST_VALIDATION_THRESHOLD)"
      ]
    },
    {
      "cell_type": "code",
      "execution_count": null,
      "metadata": {
        "id": "avQKePhJ_EHy"
      },
      "outputs": [
        {
          "data": {
            "text/plain": [
              "{'DoS Hulk': 0.8984560962708278,\n",
              " 'DDoS': 0.6320135696112128,\n",
              " 'PortScan': 0.007613175197407745,\n",
              " 'DoS GoldenEye': 0.7238888888888889,\n",
              " 'FTP-Patator': 0.0004816955684007707,\n",
              " 'DoS slowloris': 0.5883289124668435,\n",
              " 'DoS Slowhttptest': 0.8431693989071039,\n",
              " 'SSH-Patator': 0.0,\n",
              " 'Bot': 0.02342606149341142,\n",
              " 'Brute Force': 0.04474708171206226,\n",
              " 'XSS': 0.02631578947368421,\n",
              " 'Infiltration': 0.6923076923076923,\n",
              " 'Sql Injection': 0.0,\n",
              " 'Heartbleed': 1.0}"
            ]
          },
          "execution_count": 54,
          "metadata": {},
          "output_type": "execute_result"
        }
      ],
      "source": [
        "get_tpr_per_attack(classes_val, val_scores_iforest > BEST_IFOREST_VALIDATION_THRESHOLD)"
      ]
    },
    {
      "cell_type": "markdown",
      "metadata": {
        "id": "d1iayo0DKkbw"
      },
      "source": [
        "### Usando a predição direta do modelo"
      ]
    },
    {
      "cell_type": "code",
      "execution_count": null,
      "metadata": {
        "id": "bvj3-5WDusRM"
      },
      "outputs": [],
      "source": [
        "val_preds_iforest = model_iforest.predict(X_val)"
      ]
    },
    {
      "cell_type": "code",
      "execution_count": null,
      "metadata": {
        "id": "O8zuxQ3TI2e0"
      },
      "outputs": [],
      "source": [
        "val_preds_iforest[val_preds_iforest == 1] = 0\n",
        "val_preds_iforest[val_preds_iforest == -1] = 1"
      ]
    },
    {
      "cell_type": "code",
      "execution_count": null,
      "metadata": {
        "id": "kWm9dU9CLI4o"
      },
      "outputs": [
        {
          "data": {
            "image/png": "[encoded data removed]",
            "text/plain": [
              "<Figure size 640x480 with 2 Axes>"
            ]
          },
          "metadata": {},
          "output_type": "display_data"
        }
      ],
      "source": [
        "plot_confusion_matrix(y_val, val_preds_iforest)"
      ]
    },
    {
      "cell_type": "code",
      "execution_count": null,
      "metadata": {
        "id": "660L_1-6Kj_R"
      },
      "outputs": [
        {
          "data": {
            "text/plain": [
              "{'acc': 0.7542094618261528,\n",
              " 'tpr': 0.601471930012881,\n",
              " 'fpr': 0.16821089147035873,\n",
              " 'precision': 0.6449113771076711,\n",
              " 'f1-score': 0.6224346691105002}"
            ]
          },
          "execution_count": 58,
          "metadata": {},
          "output_type": "execute_result"
        }
      ],
      "source": [
        "get_overall_metrics(y_val, val_preds_iforest)"
      ]
    },
    {
      "cell_type": "code",
      "execution_count": null,
      "metadata": {
        "id": "mbOd4W-5I7cf"
      },
      "outputs": [
        {
          "data": {
            "text/plain": [
              "{'DoS Hulk': 0.899233007140968,\n",
              " 'DDoS': 0.6357853858858189,\n",
              " 'PortScan': 0.017806021329474314,\n",
              " 'DoS GoldenEye': 0.9152777777777777,\n",
              " 'FTP-Patator': 0.0009633911368015414,\n",
              " 'DoS slowloris': 0.6244031830238727,\n",
              " 'DoS Slowhttptest': 0.9043715846994536,\n",
              " 'SSH-Patator': 0.0044365572315882874,\n",
              " 'Bot': 0.03074670571010249,\n",
              " 'Brute Force': 0.04669260700389105,\n",
              " 'XSS': 0.02631578947368421,\n",
              " 'Infiltration': 0.7692307692307693,\n",
              " 'Sql Injection': 0.14285714285714285,\n",
              " 'Heartbleed': 1.0}"
            ]
          },
          "execution_count": 59,
          "metadata": {},
          "output_type": "execute_result"
        }
      ],
      "source": [
        "get_tpr_per_attack(classes_val, val_preds_iforest)"
      ]
    },
    {
      "cell_type": "markdown",
      "metadata": {
        "id": "IM0PFTPWCAO-"
      },
      "source": [
        "## Conjunto de teste"
      ]
    },
    {
      "cell_type": "code",
      "execution_count": null,
      "metadata": {
        "id": "nfuu8O3L24wa"
      },
      "outputs": [],
      "source": [
        "test_scores_iforest = model_iforest.score_samples(X_test)"
      ]
    },
    {
      "cell_type": "code",
      "execution_count": null,
      "metadata": {
        "id": "22cnnJOOLvtQ"
      },
      "outputs": [],
      "source": [
        "test_scores_iforest = np.abs(test_scores_iforest)"
      ]
    },
    {
      "cell_type": "code",
      "execution_count": null,
      "metadata": {
        "id": "confJlhE2vlm"
      },
      "outputs": [
        {
          "data": {
            "image/png": "[encoded data removed]",
            "text/plain": [
              "<Figure size 640x480 with 1 Axes>"
            ]
          },
          "metadata": {},
          "output_type": "display_data"
        }
      ],
      "source": [
        "plot_roc_curve(y_test, test_scores_iforest)"
      ]
    },
    {
      "cell_type": "code",
      "execution_count": null,
      "metadata": {
        "id": "VS4vFyq2BNWA"
      },
      "outputs": [
        {
          "data": {
            "image/png": "[encoded data removed]",
            "text/plain": [
              "<Figure size 640x480 with 2 Axes>"
            ]
          },
          "metadata": {},
          "output_type": "display_data"
        }
      ],
      "source": [
        "plot_confusion_matrix(y_test, test_scores_iforest > BEST_IFOREST_VALIDATION_THRESHOLD)"
      ]
    },
    {
      "cell_type": "code",
      "execution_count": null,
      "metadata": {
        "id": "rvsHNCaUCGR0"
      },
      "outputs": [
        {
          "data": {
            "text/plain": [
              "{'acc': 0.7998026317390553,\n",
              " 'tpr': 0.5931131894848258,\n",
              " 'fpr': 0.0952137175570418,\n",
              " 'precision': 0.7598483866787612,\n",
              " 'f1-score': 0.6662067986082228}"
            ]
          },
          "execution_count": 64,
          "metadata": {},
          "output_type": "execute_result"
        }
      ],
      "source": [
        "get_overall_metrics(y_test, test_scores_iforest > BEST_IFOREST_VALIDATION_THRESHOLD)"
      ]
    },
    {
      "cell_type": "code",
      "execution_count": null,
      "metadata": {
        "id": "79Y707ogCNWO"
      },
      "outputs": [
        {
          "data": {
            "text/plain": [
              "{'DoS Hulk': 0.9009968847352025,\n",
              " 'DDoS': 0.6323999519288547,\n",
              " 'PortScan': 0.007284184848895515,\n",
              " 'DoS GoldenEye': 0.7322763984445109,\n",
              " 'FTP-Patator': 0.00077780658542909,\n",
              " 'DoS slowloris': 0.5817142857142857,\n",
              " 'DoS Slowhttptest': 0.8384343731606827,\n",
              " 'SSH-Patator': 0.0,\n",
              " 'Bot': 0.024409448818897637,\n",
              " 'Brute Force': 0.053347280334728034,\n",
              " 'XSS': 0.030660377358490566,\n",
              " 'Infiltration': 0.8695652173913043,\n",
              " 'Sql Injection': 0.0,\n",
              " 'Heartbleed': 1.0}"
            ]
          },
          "execution_count": 65,
          "metadata": {},
          "output_type": "execute_result"
        }
      ],
      "source": [
        "get_tpr_per_attack(classes_test, test_scores_iforest > BEST_IFOREST_VALIDATION_THRESHOLD)"
      ]
    },
    {
      "cell_type": "markdown",
      "metadata": {},
      "source": [
        "# Detecção de Anomalias com o OCSVM"
      ]
    },
    {
      "cell_type": "code",
      "execution_count": null,
      "metadata": {},
      "outputs": [],
      "source": [
        "from sklearn.svm import OneClassSVM"
      ]
    },
    {
      "cell_type": "markdown",
      "metadata": {},
      "source": [
        "#### Escolha de parâmetros"
      ]
    },
    {
      "cell_type": "markdown",
      "metadata": {},
      "source": [
        "**kernel**: Eu testei todos os kernels, e apenas o **rbf** gerou um resultado satisfatório, todos os outros foram muito ruins. Eu pesquisei a teoria por trás dos Kernels, mas não consegui entender porque apenas o **rbf** foi eficaz."
      ]
    },
    {
      "cell_type": "markdown",
      "metadata": {},
      "source": [
        "**nu**: A proporção de pacotes maliciosos é de 0.1688633942226217, como o parâmetro **nu** é a taxa esperada de anomalias, então eu defini este valor para este parâmetro. E nos testes, este valor se mostrou muito melhor que outros valores maiores ou menores."
      ]
    },
    {
      "cell_type": "markdown",
      "metadata": {},
      "source": [
        "**gamma**: Testei todas as opções de **gamma**, incluindo números, e apenas a opção **scale** se mostrou eficaz, todas as outras geraram resultados muito ruins."
      ]
    },
    {
      "cell_type": "markdown",
      "metadata": {},
      "source": [
        "**cache_size**: É a quantidade de memória usada para o cache do modelo, coloquei um número muito grande pra poder usar o máximo possível."
      ]
    },
    {
      "cell_type": "markdown",
      "metadata": {},
      "source": [
        "#### Treinamento"
      ]
    },
    {
      "cell_type": "markdown",
      "metadata": {},
      "source": [
        "Usei apenas 15% dos dados de treino, por limitações de poder computacional."
      ]
    },
    {
      "cell_type": "code",
      "execution_count": null,
      "metadata": {},
      "outputs": [],
      "source": [
        "random_indexes_t = np.random.choice(X_train.shape[0], int(X_train.shape[0]*0.15), replace=False)\n",
        "\n",
        "X_train_subset = X_train.iloc[random_indexes_t]"
      ]
    },
    {
      "cell_type": "code",
      "execution_count": null,
      "metadata": {},
      "outputs": [
        {
          "data": {
            "text/html": [
              "<style>#sk-container-id-1 {color: black;}#sk-container-id-1 pre{padding: 0;}#sk-container-id-1 div.sk-toggleable {background-color: white;}#sk-container-id-1 label.sk-toggleable__label {cursor: pointer;display: block;width: 100%;margin-bottom: 0;padding: 0.3em;box-sizing: border-box;text-align: center;}#sk-container-id-1 label.sk-toggleable__label-arrow:before {content: \"▸\";float: left;margin-right: 0.25em;color: #696969;}#sk-container-id-1 label.sk-toggleable__label-arrow:hover:before {color: black;}#sk-container-id-1 div.sk-estimator:hover label.sk-toggleable__label-arrow:before {color: black;}#sk-container-id-1 div.sk-toggleable__content {max-height: 0;max-width: 0;overflow: hidden;text-align: left;background-color: #f0f8ff;}#sk-container-id-1 div.sk-toggleable__content pre {margin: 0.2em;color: black;border-radius: 0.25em;background-color: #f0f8ff;}#sk-container-id-1 input.sk-toggleable__control:checked~div.sk-toggleable__content {max-height: 200px;max-width: 100%;overflow: auto;}#sk-container-id-1 input.sk-toggleable__control:checked~label.sk-toggleable__label-arrow:before {content: \"▾\";}#sk-container-id-1 div.sk-estimator input.sk-toggleable__control:checked~label.sk-toggleable__label {background-color: #d4ebff;}#sk-container-id-1 div.sk-label input.sk-toggleable__control:checked~label.sk-toggleable__label {background-color: #d4ebff;}#sk-container-id-1 input.sk-hidden--visually {border: 0;clip: rect(1px 1px 1px 1px);clip: rect(1px, 1px, 1px, 1px);height: 1px;margin: -1px;overflow: hidden;padding: 0;position: absolute;width: 1px;}#sk-container-id-1 div.sk-estimator {font-family: monospace;background-color: #f0f8ff;border: 1px dotted black;border-radius: 0.25em;box-sizing: border-box;margin-bottom: 0.5em;}#sk-container-id-1 div.sk-estimator:hover {background-color: #d4ebff;}#sk-container-id-1 div.sk-parallel-item::after {content: \"\";width: 100%;border-bottom: 1px solid gray;flex-grow: 1;}#sk-container-id-1 div.sk-label:hover label.sk-toggleable__label {background-color: #d4ebff;}#sk-container-id-1 div.sk-serial::before {content: \"\";position: absolute;border-left: 1px solid gray;box-sizing: border-box;top: 0;bottom: 0;left: 50%;z-index: 0;}#sk-container-id-1 div.sk-serial {display: flex;flex-direction: column;align-items: center;background-color: white;padding-right: 0.2em;padding-left: 0.2em;position: relative;}#sk-container-id-1 div.sk-item {position: relative;z-index: 1;}#sk-container-id-1 div.sk-parallel {display: flex;align-items: stretch;justify-content: center;background-color: white;position: relative;}#sk-container-id-1 div.sk-item::before, #sk-container-id-1 div.sk-parallel-item::before {content: \"\";position: absolute;border-left: 1px solid gray;box-sizing: border-box;top: 0;bottom: 0;left: 50%;z-index: -1;}#sk-container-id-1 div.sk-parallel-item {display: flex;flex-direction: column;z-index: 1;position: relative;background-color: white;}#sk-container-id-1 div.sk-parallel-item:first-child::after {align-self: flex-end;width: 50%;}#sk-container-id-1 div.sk-parallel-item:last-child::after {align-self: flex-start;width: 50%;}#sk-container-id-1 div.sk-parallel-item:only-child::after {width: 0;}#sk-container-id-1 div.sk-dashed-wrapped {border: 1px dashed gray;margin: 0 0.4em 0.5em 0.4em;box-sizing: border-box;padding-bottom: 0.4em;background-color: white;}#sk-container-id-1 div.sk-label label {font-family: monospace;font-weight: bold;display: inline-block;line-height: 1.2em;}#sk-container-id-1 div.sk-label-container {text-align: center;}#sk-container-id-1 div.sk-container {/* jupyter's `normalize.less` sets `[hidden] { display: none; }` but bootstrap.min.css set `[hidden] { display: none !important; }` so we also need the `!important` here to be able to override the default hidden behavior on the sphinx rendered scikit-learn.org. See: https://github.com/scikit-learn/scikit-learn/issues/21755 */display: inline-block !important;position: relative;}#sk-container-id-1 div.sk-text-repr-fallback {display: none;}</style><div id=\"sk-container-id-1\" class=\"sk-top-container\"><div class=\"sk-text-repr-fallback\"><pre>OneClassSVM(cache_size=10000000000000, nu=0.1688633942226217)</pre><b>In a Jupyter environment, please rerun this cell to show the HTML representation or trust the notebook. <br />On GitHub, the HTML representation is unable to render, please try loading this page with nbviewer.org.</b></div><div class=\"sk-container\" hidden><div class=\"sk-item\"><div class=\"sk-estimator sk-toggleable\"><input class=\"sk-toggleable__control sk-hidden--visually\" id=\"sk-estimator-id-1\" type=\"checkbox\" checked><label for=\"sk-estimator-id-1\" class=\"sk-toggleable__label sk-toggleable__label-arrow\">OneClassSVM</label><div class=\"sk-toggleable__content\"><pre>OneClassSVM(cache_size=10000000000000, nu=0.1688633942226217)</pre></div></div></div></div></div>"
            ],
            "text/plain": [
              "OneClassSVM(cache_size=10000000000000, nu=0.1688633942226217)"
            ]
          },
          "execution_count": 68,
          "metadata": {},
          "output_type": "execute_result"
        }
      ],
      "source": [
        "model_ocsvm = OneClassSVM(nu=0.1688633942226217, kernel=\"rbf\", gamma='scale', cache_size=10000000000000)\n",
        "model_ocsvm.fit(X_train_subset)"
      ]
    },
    {
      "cell_type": "markdown",
      "metadata": {},
      "source": [
        "Percebi que o isolation forest treina bem mais rápido, até pude usar os dados de treinamento completamente, diferente do OCSVM. Além disso, achei que os parâmetros **nu** e **contamination** são semelhantes, pois ambos se referem à taxa de anomalias esperadas."
      ]
    },
    {
      "cell_type": "markdown",
      "metadata": {},
      "source": [
        "## Validação"
      ]
    },
    {
      "cell_type": "markdown",
      "metadata": {},
      "source": [
        "### Score Samples"
      ]
    },
    {
      "cell_type": "code",
      "execution_count": null,
      "metadata": {},
      "outputs": [],
      "source": [
        "val_scores_ocsvm = model_ocsvm.score_samples(X_val)"
      ]
    },
    {
      "cell_type": "code",
      "execution_count": null,
      "metadata": {},
      "outputs": [],
      "source": [
        "val_scores_ocsvm = np.abs(val_scores_ocsvm)"
      ]
    },
    {
      "cell_type": "code",
      "execution_count": null,
      "metadata": {},
      "outputs": [],
      "source": [
        "#Normalizando para uma escala de 0 a 1\n",
        "min = 0\n",
        "max = 1\n",
        "\n",
        "normalized_val_scores = (val_scores_ocsvm - np.min(val_scores_ocsvm)) / (np.max(val_scores_ocsvm) - np.min(val_scores_ocsvm)) * (max - min) + min\n",
        "\n",
        "del val_scores_ocsvm"
      ]
    },
    {
      "cell_type": "markdown",
      "metadata": {},
      "source": [
        "Eu não sei como definir um bom treshold, então testei vários valores, e nenhum me satisfez, eu até tentei normalizar de 0 a 1, mas ainda sim não consegui identificar uma pontuação dos dados que fosse definido como ameaça, também tentei mudar o treshold pra aproximar a matriz de confusão com a matriz de confusão das predições do modelo, mas sem sucesso, pois as proporções de pontuação eram diferentes das proporções de decisão das predições do modelo."
      ]
    },
    {
      "cell_type": "code",
      "execution_count": null,
      "metadata": {},
      "outputs": [],
      "source": [
        "BEST_OCSVM_VALIDATION_THRESHOLD = 0.935"
      ]
    },
    {
      "cell_type": "code",
      "execution_count": null,
      "metadata": {},
      "outputs": [
        {
          "data": {
            "image/png": "[encoded data removed]",
            "text/plain": [
              "<Figure size 640x480 with 1 Axes>"
            ]
          },
          "metadata": {},
          "output_type": "display_data"
        }
      ],
      "source": [
        "plot_roc_curve(y_val, normalized_val_scores)"
      ]
    },
    {
      "cell_type": "code",
      "execution_count": null,
      "metadata": {},
      "outputs": [
        {
          "data": {
            "text/html": [
              "<div>\n",
              "<style scoped>\n",
              "    .dataframe tbody tr th:only-of-type {\n",
              "        vertical-align: middle;\n",
              "    }\n",
              "\n",
              "    .dataframe tbody tr th {\n",
              "        vertical-align: top;\n",
              "    }\n",
              "\n",
              "    .dataframe thead th {\n",
              "        text-align: right;\n",
              "    }\n",
              "</style>\n",
              "<table border=\"1\" class=\"dataframe\">\n",
              "  <thead>\n",
              "    <tr style=\"text-align: right;\">\n",
              "      <th></th>\n",
              "      <th>fpr</th>\n",
              "      <th>tpr</th>\n",
              "      <th>thresholds</th>\n",
              "      <th>youden-index</th>\n",
              "    </tr>\n",
              "  </thead>\n",
              "  <tbody>\n",
              "    <tr>\n",
              "      <th>3867</th>\n",
              "      <td>0.019682</td>\n",
              "      <td>0.025963</td>\n",
              "      <td>0.983608</td>\n",
              "      <td>0.006281</td>\n",
              "    </tr>\n",
              "    <tr>\n",
              "      <th>3875</th>\n",
              "      <td>0.019730</td>\n",
              "      <td>0.026010</td>\n",
              "      <td>0.983592</td>\n",
              "      <td>0.006280</td>\n",
              "    </tr>\n",
              "    <tr>\n",
              "      <th>3865</th>\n",
              "      <td>0.019679</td>\n",
              "      <td>0.025957</td>\n",
              "      <td>0.983611</td>\n",
              "      <td>0.006278</td>\n",
              "    </tr>\n",
              "    <tr>\n",
              "      <th>3871</th>\n",
              "      <td>0.019706</td>\n",
              "      <td>0.025984</td>\n",
              "      <td>0.983599</td>\n",
              "      <td>0.006277</td>\n",
              "    </tr>\n",
              "    <tr>\n",
              "      <th>3873</th>\n",
              "      <td>0.019720</td>\n",
              "      <td>0.025997</td>\n",
              "      <td>0.983594</td>\n",
              "      <td>0.006277</td>\n",
              "    </tr>\n",
              "    <tr>\n",
              "      <th>...</th>\n",
              "      <td>...</td>\n",
              "      <td>...</td>\n",
              "      <td>...</td>\n",
              "      <td>...</td>\n",
              "    </tr>\n",
              "    <tr>\n",
              "      <th>48387</th>\n",
              "      <td>0.851216</td>\n",
              "      <td>0.412758</td>\n",
              "      <td>0.955557</td>\n",
              "      <td>-0.438458</td>\n",
              "    </tr>\n",
              "    <tr>\n",
              "      <th>48380</th>\n",
              "      <td>0.851179</td>\n",
              "      <td>0.412717</td>\n",
              "      <td>0.955557</td>\n",
              "      <td>-0.438461</td>\n",
              "    </tr>\n",
              "    <tr>\n",
              "      <th>48383</th>\n",
              "      <td>0.851199</td>\n",
              "      <td>0.412737</td>\n",
              "      <td>0.955557</td>\n",
              "      <td>-0.438461</td>\n",
              "    </tr>\n",
              "    <tr>\n",
              "      <th>48385</th>\n",
              "      <td>0.851206</td>\n",
              "      <td>0.412744</td>\n",
              "      <td>0.955557</td>\n",
              "      <td>-0.438462</td>\n",
              "    </tr>\n",
              "    <tr>\n",
              "      <th>48381</th>\n",
              "      <td>0.851192</td>\n",
              "      <td>0.412717</td>\n",
              "      <td>0.955557</td>\n",
              "      <td>-0.438475</td>\n",
              "    </tr>\n",
              "  </tbody>\n",
              "</table>\n",
              "<p>39070 rows × 4 columns</p>\n",
              "</div>"
            ],
            "text/plain": [
              "            fpr       tpr  thresholds  youden-index\n",
              "3867   0.019682  0.025963    0.983608      0.006281\n",
              "3875   0.019730  0.026010    0.983592      0.006280\n",
              "3865   0.019679  0.025957    0.983611      0.006278\n",
              "3871   0.019706  0.025984    0.983599      0.006277\n",
              "3873   0.019720  0.025997    0.983594      0.006277\n",
              "...         ...       ...         ...           ...\n",
              "48387  0.851216  0.412758    0.955557     -0.438458\n",
              "48380  0.851179  0.412717    0.955557     -0.438461\n",
              "48383  0.851199  0.412737    0.955557     -0.438461\n",
              "48385  0.851206  0.412744    0.955557     -0.438462\n",
              "48381  0.851192  0.412717    0.955557     -0.438475\n",
              "\n",
              "[39070 rows x 4 columns]"
            ]
          },
          "execution_count": 74,
          "metadata": {},
          "output_type": "execute_result"
        }
      ],
      "source": [
        "fpr, tpr, thresholds = roc_curve(y_val, normalized_val_scores)\n",
        "df_val_roc = pd.DataFrame({'fpr':fpr, 'tpr':tpr, 'thresholds':thresholds})\n",
        "df_val_roc['youden-index'] = df_val_roc['tpr'] - df_val_roc['fpr']\n",
        "df_val_roc.sort_values('youden-index', ascending=False).drop_duplicates('fpr')"
      ]
    },
    {
      "cell_type": "code",
      "execution_count": null,
      "metadata": {},
      "outputs": [
        {
          "data": {
            "image/png": "[encoded data removed]",
            "text/plain": [
              "<Figure size 640x480 with 2 Axes>"
            ]
          },
          "metadata": {},
          "output_type": "display_data"
        }
      ],
      "source": [
        "plot_confusion_matrix(y_val, normalized_val_scores > BEST_OCSVM_VALIDATION_THRESHOLD)"
      ]
    },
    {
      "cell_type": "code",
      "execution_count": null,
      "metadata": {},
      "outputs": [
        {
          "data": {
            "text/plain": [
              "{'acc': 0.2623888455758562,\n",
              " 'tpr': 0.5628958243881494,\n",
              " 'fpr': 0.8902470191747399,\n",
              " 'precision': 0.2430885923384924,\n",
              " 'f1-score': 0.3395439185771231}"
            ]
          },
          "execution_count": 76,
          "metadata": {},
          "output_type": "execute_result"
        }
      ],
      "source": [
        "get_overall_metrics(y_val, normalized_val_scores > BEST_OCSVM_VALIDATION_THRESHOLD)"
      ]
    },
    {
      "cell_type": "markdown",
      "metadata": {},
      "source": [
        "### OCSVM Predictions"
      ]
    },
    {
      "cell_type": "code",
      "execution_count": null,
      "metadata": {},
      "outputs": [],
      "source": [
        "ocsvm_predicoes = model_ocsvm.predict(X_val)"
      ]
    },
    {
      "cell_type": "code",
      "execution_count": null,
      "metadata": {},
      "outputs": [],
      "source": [
        "ocsvm_predicoes[ocsvm_predicoes == 1] = 0\n",
        "ocsvm_predicoes[ocsvm_predicoes == -1] = 1"
      ]
    },
    {
      "cell_type": "code",
      "execution_count": null,
      "metadata": {},
      "outputs": [
        {
          "data": {
            "image/png": "[encoded data removed]",
            "text/plain": [
              "<Figure size 640x480 with 1 Axes>"
            ]
          },
          "metadata": {},
          "output_type": "display_data"
        }
      ],
      "source": [
        "plot_roc_curve(y_val, ocsvm_predicoes)"
      ]
    },
    {
      "cell_type": "code",
      "execution_count": null,
      "metadata": {},
      "outputs": [
        {
          "data": {
            "text/html": [
              "<div>\n",
              "<style scoped>\n",
              "    .dataframe tbody tr th:only-of-type {\n",
              "        vertical-align: middle;\n",
              "    }\n",
              "\n",
              "    .dataframe tbody tr th {\n",
              "        vertical-align: top;\n",
              "    }\n",
              "\n",
              "    .dataframe thead th {\n",
              "        text-align: right;\n",
              "    }\n",
              "</style>\n",
              "<table border=\"1\" class=\"dataframe\">\n",
              "  <thead>\n",
              "    <tr style=\"text-align: right;\">\n",
              "      <th></th>\n",
              "      <th>fpr</th>\n",
              "      <th>tpr</th>\n",
              "      <th>thresholds</th>\n",
              "      <th>youden-index</th>\n",
              "    </tr>\n",
              "  </thead>\n",
              "  <tbody>\n",
              "    <tr>\n",
              "      <th>1</th>\n",
              "      <td>0.164459</td>\n",
              "      <td>0.591442</td>\n",
              "      <td>1.0</td>\n",
              "      <td>0.426983</td>\n",
              "    </tr>\n",
              "    <tr>\n",
              "      <th>0</th>\n",
              "      <td>0.000000</td>\n",
              "      <td>0.000000</td>\n",
              "      <td>inf</td>\n",
              "      <td>0.000000</td>\n",
              "    </tr>\n",
              "    <tr>\n",
              "      <th>2</th>\n",
              "      <td>1.000000</td>\n",
              "      <td>1.000000</td>\n",
              "      <td>0.0</td>\n",
              "      <td>0.000000</td>\n",
              "    </tr>\n",
              "  </tbody>\n",
              "</table>\n",
              "</div>"
            ],
            "text/plain": [
              "        fpr       tpr  thresholds  youden-index\n",
              "1  0.164459  0.591442         1.0      0.426983\n",
              "0  0.000000  0.000000         inf      0.000000\n",
              "2  1.000000  1.000000         0.0      0.000000"
            ]
          },
          "execution_count": 81,
          "metadata": {},
          "output_type": "execute_result"
        }
      ],
      "source": [
        "fpr, tpr, thresholds = roc_curve(y_val, ocsvm_predicoes)\n",
        "df_val_roc = pd.DataFrame({'fpr':fpr, 'tpr':tpr, 'thresholds':thresholds})\n",
        "df_val_roc['youden-index'] = df_val_roc['tpr'] - df_val_roc['fpr']\n",
        "df_val_roc.sort_values('youden-index', ascending=False).drop_duplicates('fpr')"
      ]
    },
    {
      "cell_type": "code",
      "execution_count": null,
      "metadata": {},
      "outputs": [
        {
          "data": {
            "image/png": "[encoded data removed]",
            "text/plain": [
              "<Figure size 640x480 with 2 Axes>"
            ]
          },
          "metadata": {},
          "output_type": "display_data"
        }
      ],
      "source": [
        "plot_confusion_matrix(y_val, ocsvm_predicoes)"
      ]
    },
    {
      "cell_type": "markdown",
      "metadata": {},
      "source": [
        "Consegui chegar numa proporção de TP e TN maiores que FP e FN. Durante a validação, tentei melhorar isto, mas sempre que eu conseguia detectar mais anomalias, uma parte dos dados benignos era considerado anomalias junto com os maliciosos, não consegui melhorar a detecção de anomalias sem sacrificar alguns dados benignos, isso ocorreu de forma semelhante nas partes de treshold."
      ]
    },
    {
      "cell_type": "code",
      "execution_count": null,
      "metadata": {},
      "outputs": [
        {
          "data": {
            "text/plain": [
              "{'acc': 0.7533190965278013,\n",
              " 'tpr': 0.5914421425504508,\n",
              " 'fpr': 0.16445908968544157,\n",
              " 'precision': 0.6462248937105997,\n",
              " 'f1-score': 0.617621095994059}"
            ]
          },
          "execution_count": 83,
          "metadata": {},
          "output_type": "execute_result"
        }
      ],
      "source": [
        "get_overall_metrics(y_val, ocsvm_predicoes)"
      ]
    },
    {
      "cell_type": "markdown",
      "metadata": {},
      "source": [
        "## Teste"
      ]
    },
    {
      "cell_type": "markdown",
      "metadata": {},
      "source": [
        "### Score Samples"
      ]
    },
    {
      "cell_type": "code",
      "execution_count": null,
      "metadata": {},
      "outputs": [],
      "source": [
        "test_scores_ocsvm = model_ocsvm.score_samples(X_test)"
      ]
    },
    {
      "cell_type": "code",
      "execution_count": null,
      "metadata": {},
      "outputs": [],
      "source": [
        "test_scores_ocsvm = np.abs(test_scores_ocsvm)"
      ]
    },
    {
      "cell_type": "code",
      "execution_count": null,
      "metadata": {},
      "outputs": [],
      "source": [
        "#Normalizando para uma escala de 0 a 1\n",
        "min = 0\n",
        "max = 1\n",
        "\n",
        "normalized_test_scores = (test_scores_ocsvm - np.min(test_scores_ocsvm)) / (np.max(test_scores_ocsvm) - np.min(test_scores_ocsvm)) * (max - min) + min\n",
        "\n",
        "del test_scores_ocsvm"
      ]
    },
    {
      "cell_type": "code",
      "execution_count": null,
      "metadata": {},
      "outputs": [],
      "source": [
        "BEST_OCSVM_VALIDATION_THRESHOLD = 0.935"
      ]
    },
    {
      "cell_type": "code",
      "execution_count": null,
      "metadata": {},
      "outputs": [
        {
          "data": {
            "image/png": "[encoded data removed]",
            "text/plain": [
              "<Figure size 640x480 with 1 Axes>"
            ]
          },
          "metadata": {},
          "output_type": "display_data"
        }
      ],
      "source": [
        "plot_roc_curve(y_test, normalized_test_scores)"
      ]
    },
    {
      "cell_type": "code",
      "execution_count": null,
      "metadata": {},
      "outputs": [
        {
          "data": {
            "text/html": [
              "<div>\n",
              "<style scoped>\n",
              "    .dataframe tbody tr th:only-of-type {\n",
              "        vertical-align: middle;\n",
              "    }\n",
              "\n",
              "    .dataframe tbody tr th {\n",
              "        vertical-align: top;\n",
              "    }\n",
              "\n",
              "    .dataframe thead th {\n",
              "        text-align: right;\n",
              "    }\n",
              "</style>\n",
              "<table border=\"1\" class=\"dataframe\">\n",
              "  <thead>\n",
              "    <tr style=\"text-align: right;\">\n",
              "      <th></th>\n",
              "      <th>fpr</th>\n",
              "      <th>tpr</th>\n",
              "      <th>thresholds</th>\n",
              "      <th>youden-index</th>\n",
              "    </tr>\n",
              "  </thead>\n",
              "  <tbody>\n",
              "    <tr>\n",
              "      <th>6881</th>\n",
              "      <td>0.019411</td>\n",
              "      <td>0.025526</td>\n",
              "      <td>0.983875</td>\n",
              "      <td>0.006115</td>\n",
              "    </tr>\n",
              "    <tr>\n",
              "      <th>6883</th>\n",
              "      <td>0.019420</td>\n",
              "      <td>0.025533</td>\n",
              "      <td>0.983871</td>\n",
              "      <td>0.006113</td>\n",
              "    </tr>\n",
              "    <tr>\n",
              "      <th>6867</th>\n",
              "      <td>0.019371</td>\n",
              "      <td>0.025482</td>\n",
              "      <td>0.983893</td>\n",
              "      <td>0.006112</td>\n",
              "    </tr>\n",
              "    <tr>\n",
              "      <th>6871</th>\n",
              "      <td>0.019382</td>\n",
              "      <td>0.025493</td>\n",
              "      <td>0.983888</td>\n",
              "      <td>0.006111</td>\n",
              "    </tr>\n",
              "    <tr>\n",
              "      <th>6875</th>\n",
              "      <td>0.019389</td>\n",
              "      <td>0.025500</td>\n",
              "      <td>0.983884</td>\n",
              "      <td>0.006111</td>\n",
              "    </tr>\n",
              "    <tr>\n",
              "      <th>...</th>\n",
              "      <td>...</td>\n",
              "      <td>...</td>\n",
              "      <td>...</td>\n",
              "      <td>...</td>\n",
              "    </tr>\n",
              "    <tr>\n",
              "      <th>89007</th>\n",
              "      <td>0.849914</td>\n",
              "      <td>0.410954</td>\n",
              "      <td>0.955832</td>\n",
              "      <td>-0.438960</td>\n",
              "    </tr>\n",
              "    <tr>\n",
              "      <th>89008</th>\n",
              "      <td>0.849918</td>\n",
              "      <td>0.410954</td>\n",
              "      <td>0.955832</td>\n",
              "      <td>-0.438963</td>\n",
              "    </tr>\n",
              "    <tr>\n",
              "      <th>89014</th>\n",
              "      <td>0.849936</td>\n",
              "      <td>0.410969</td>\n",
              "      <td>0.955832</td>\n",
              "      <td>-0.438967</td>\n",
              "    </tr>\n",
              "    <tr>\n",
              "      <th>89010</th>\n",
              "      <td>0.849927</td>\n",
              "      <td>0.410958</td>\n",
              "      <td>0.955832</td>\n",
              "      <td>-0.438969</td>\n",
              "    </tr>\n",
              "    <tr>\n",
              "      <th>89012</th>\n",
              "      <td>0.849933</td>\n",
              "      <td>0.410962</td>\n",
              "      <td>0.955832</td>\n",
              "      <td>-0.438971</td>\n",
              "    </tr>\n",
              "  </tbody>\n",
              "</table>\n",
              "<p>72459 rows × 4 columns</p>\n",
              "</div>"
            ],
            "text/plain": [
              "            fpr       tpr  thresholds  youden-index\n",
              "6881   0.019411  0.025526    0.983875      0.006115\n",
              "6883   0.019420  0.025533    0.983871      0.006113\n",
              "6867   0.019371  0.025482    0.983893      0.006112\n",
              "6871   0.019382  0.025493    0.983888      0.006111\n",
              "6875   0.019389  0.025500    0.983884      0.006111\n",
              "...         ...       ...         ...           ...\n",
              "89007  0.849914  0.410954    0.955832     -0.438960\n",
              "89008  0.849918  0.410954    0.955832     -0.438963\n",
              "89014  0.849936  0.410969    0.955832     -0.438967\n",
              "89010  0.849927  0.410958    0.955832     -0.438969\n",
              "89012  0.849933  0.410962    0.955832     -0.438971\n",
              "\n",
              "[72459 rows x 4 columns]"
            ]
          },
          "execution_count": 89,
          "metadata": {},
          "output_type": "execute_result"
        }
      ],
      "source": [
        "fpr, tpr, thresholds = roc_curve(y_test, normalized_test_scores)\n",
        "df_val_roc = pd.DataFrame({'fpr':fpr, 'tpr':tpr, 'thresholds':thresholds})\n",
        "df_val_roc['youden-index'] = df_val_roc['tpr'] - df_val_roc['fpr']\n",
        "df_val_roc.sort_values('youden-index', ascending=False).drop_duplicates('fpr')"
      ]
    },
    {
      "cell_type": "code",
      "execution_count": null,
      "metadata": {},
      "outputs": [
        {
          "data": {
            "image/png": "[encoded data removed]",
            "text/plain": [
              "<Figure size 640x480 with 2 Axes>"
            ]
          },
          "metadata": {},
          "output_type": "display_data"
        }
      ],
      "source": [
        "plot_confusion_matrix(y_test, normalized_test_scores > BEST_OCSVM_VALIDATION_THRESHOLD)"
      ]
    },
    {
      "cell_type": "code",
      "execution_count": null,
      "metadata": {},
      "outputs": [
        {
          "data": {
            "text/plain": [
              "{'acc': 0.2624340787574804,\n",
              " 'tpr': 0.5625986655540263,\n",
              " 'fpr': 0.8900283488839347,\n",
              " 'precision': 0.2430372082353437,\n",
              " 'f1-score': 0.33943972328354505}"
            ]
          },
          "execution_count": 91,
          "metadata": {},
          "output_type": "execute_result"
        }
      ],
      "source": [
        "get_overall_metrics(y_test, normalized_test_scores > BEST_OCSVM_VALIDATION_THRESHOLD)"
      ]
    },
    {
      "cell_type": "markdown",
      "metadata": {},
      "source": [
        "### OCSVM Predictions"
      ]
    },
    {
      "cell_type": "code",
      "execution_count": null,
      "metadata": {},
      "outputs": [],
      "source": [
        "ocsvm_predicoes = model_ocsvm.predict(X_test)"
      ]
    },
    {
      "cell_type": "code",
      "execution_count": null,
      "metadata": {},
      "outputs": [],
      "source": [
        "ocsvm_predicoes[ocsvm_predicoes == 1] = 0\n",
        "ocsvm_predicoes[ocsvm_predicoes == -1] = 1"
      ]
    },
    {
      "cell_type": "code",
      "execution_count": null,
      "metadata": {},
      "outputs": [
        {
          "data": {
            "image/png": "[encoded data removed]",
            "text/plain": [
              "<Figure size 640x480 with 1 Axes>"
            ]
          },
          "metadata": {},
          "output_type": "display_data"
        }
      ],
      "source": [
        "plot_roc_curve(y_test, ocsvm_predicoes)"
      ]
    },
    {
      "cell_type": "code",
      "execution_count": null,
      "metadata": {},
      "outputs": [
        {
          "data": {
            "text/html": [
              "<div>\n",
              "<style scoped>\n",
              "    .dataframe tbody tr th:only-of-type {\n",
              "        vertical-align: middle;\n",
              "    }\n",
              "\n",
              "    .dataframe tbody tr th {\n",
              "        vertical-align: top;\n",
              "    }\n",
              "\n",
              "    .dataframe thead th {\n",
              "        text-align: right;\n",
              "    }\n",
              "</style>\n",
              "<table border=\"1\" class=\"dataframe\">\n",
              "  <thead>\n",
              "    <tr style=\"text-align: right;\">\n",
              "      <th></th>\n",
              "      <th>fpr</th>\n",
              "      <th>tpr</th>\n",
              "      <th>thresholds</th>\n",
              "      <th>youden-index</th>\n",
              "    </tr>\n",
              "  </thead>\n",
              "  <tbody>\n",
              "    <tr>\n",
              "      <th>1</th>\n",
              "      <td>0.165957</td>\n",
              "      <td>0.59286</td>\n",
              "      <td>1.0</td>\n",
              "      <td>0.426903</td>\n",
              "    </tr>\n",
              "    <tr>\n",
              "      <th>0</th>\n",
              "      <td>0.000000</td>\n",
              "      <td>0.00000</td>\n",
              "      <td>inf</td>\n",
              "      <td>0.000000</td>\n",
              "    </tr>\n",
              "    <tr>\n",
              "      <th>2</th>\n",
              "      <td>1.000000</td>\n",
              "      <td>1.00000</td>\n",
              "      <td>0.0</td>\n",
              "      <td>0.000000</td>\n",
              "    </tr>\n",
              "  </tbody>\n",
              "</table>\n",
              "</div>"
            ],
            "text/plain": [
              "        fpr      tpr  thresholds  youden-index\n",
              "1  0.165957  0.59286         1.0      0.426903\n",
              "0  0.000000  0.00000         inf      0.000000\n",
              "2  1.000000  1.00000         0.0      0.000000"
            ]
          },
          "execution_count": 95,
          "metadata": {},
          "output_type": "execute_result"
        }
      ],
      "source": [
        "fpr, tpr, thresholds = roc_curve(y_test, ocsvm_predicoes)\n",
        "df_val_roc = pd.DataFrame({'fpr':fpr, 'tpr':tpr, 'thresholds':thresholds})\n",
        "df_val_roc['youden-index'] = df_val_roc['tpr'] - df_val_roc['fpr']\n",
        "df_val_roc.sort_values('youden-index', ascending=False).drop_duplicates('fpr')"
      ]
    },
    {
      "cell_type": "code",
      "execution_count": null,
      "metadata": {},
      "outputs": [
        {
          "data": {
            "image/png": "[encoded data removed]",
            "text/plain": [
              "<Figure size 640x480 with 2 Axes>"
            ]
          },
          "metadata": {},
          "output_type": "display_data"
        }
      ],
      "source": [
        "plot_confusion_matrix(y_test, ocsvm_predicoes)"
      ]
    },
    {
      "cell_type": "markdown",
      "metadata": {},
      "source": [
        "Os resultados da matriz de confusão do Isolation Forest foi muito parecido com este do OCSVM, são quase a mesma coisa. Lembrando que o treinamento do Isolation Forest foi usando 100% dos dados, enquanto do OCSVM foi com apenas 15%."
      ]
    },
    {
      "cell_type": "code",
      "execution_count": null,
      "metadata": {},
      "outputs": [
        {
          "data": {
            "text/plain": [
              "{'acc': 0.7528029456787059,\n",
              " 'tpr': 0.5928603166690147,\n",
              " 'fpr': 0.165957485848494,\n",
              " 'precision': 0.6446981273643645,\n",
              " 'f1-score': 0.6176935526365311}"
            ]
          },
          "execution_count": 98,
          "metadata": {},
          "output_type": "execute_result"
        }
      ],
      "source": [
        "get_overall_metrics(y_test, ocsvm_predicoes)"
      ]
    },
    {
      "cell_type": "code",
      "execution_count": null,
      "metadata": {},
      "outputs": [
        {
          "data": {
            "text/plain": [
              "{'DoS Hulk': 0.9228215398308857,\n",
              " 'DDoS': 0.6315707246725153,\n",
              " 'PortScan': 0.00994375931698062,\n",
              " 'DoS GoldenEye': 0.2950942267424469,\n",
              " 'FTP-Patator': 0.0010370754472387865,\n",
              " 'DoS slowloris': 0.61,\n",
              " 'DoS Slowhttptest': 0.8905238375515009,\n",
              " 'SSH-Patator': 0.030592734225621414,\n",
              " 'Bot': 0.026771653543307086,\n",
              " 'Brute Force': 0.010460251046025104,\n",
              " 'XSS': 0.04716981132075472,\n",
              " 'Infiltration': 0.9130434782608695,\n",
              " 'Sql Injection': 0.14285714285714285,\n",
              " 'Heartbleed': 1.0}"
            ]
          },
          "execution_count": 102,
          "metadata": {},
          "output_type": "execute_result"
        }
      ],
      "source": [
        "get_tpr_per_attack(classes_test, ocsvm_predicoes)"
      ]
    },
    {
      "cell_type": "markdown",
      "metadata": {},
      "source": [
        "Percebi que a proporção de detecção de cada tipo de ataque se mantém muito próxima do resultado do Isolation Forest, com algumas exceções. Porém, existe uma diferença curiosa, no Isolation Forest, alguns ataques eram indetectáveis, já no OCSVM, NENHUM ataque ficou sem ser detectado, mesmo que tenha sido pouco detectado. Vale ressaltar que o treinamento do OCSVM foi com apenas 15% dos dados de treino, enquanto no Isolation Forest foram TODOS os dados de treino."
      ]
    }
  ],
  "metadata": {
    "colab": {
      "provenance": []
    },
    "kernelspec": {
      "display_name": "Python 3",
      "name": "python3"
    },
    "language_info": {
      "codemirror_mode": {
        "name": "ipython",
        "version": 3
      },
      "file_extension": ".py",
      "mimetype": "text/x-python",
      "name": "python",
      "nbconvert_exporter": "python",
      "pygments_lexer": "ipython3",
      "version": "3.11.5"
    }
  },
  "nbformat": 4,
  "nbformat_minor": 0
}
