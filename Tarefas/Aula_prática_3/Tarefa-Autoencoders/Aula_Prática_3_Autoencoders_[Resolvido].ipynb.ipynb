{
  "cells": [
    {
      "cell_type": "markdown",
      "metadata": {
        "id": "9aIuOKKe4b_C"
      },
      "source": [
        "# Bibliotecas"
      ]
    },
    {
      "cell_type": "code",
      "execution_count": 2,
      "metadata": {
        "id": "ztquPfgxg--4"
      },
      "outputs": [],
      "source": [
        "import numpy as np\n",
        "import pandas as pd\n",
        "import os\n",
        "import re\n",
        "import matplotlib.pyplot as plt\n",
        "import seaborn as sns\n",
        "import math\n",
        "\n",
        "from sklearn.model_selection import train_test_split\n",
        "from sklearn.preprocessing import StandardScaler, MinMaxScaler\n",
        "from tqdm.notebook import tqdm\n",
        "from sklearn.cluster import KMeans\n",
        "\n",
        "from sklearn.metrics import silhouette_score\n",
        "from sklearn.metrics import roc_curve, roc_auc_score\n",
        "from sklearn.metrics import confusion_matrix"
      ]
    },
    {
      "cell_type": "code",
      "execution_count": 3,
      "metadata": {
        "id": "EbV8ifz-z-KB"
      },
      "outputs": [],
      "source": [
        "import torch\n",
        "import torch.nn as nn\n",
        "import torch.optim as optim\n",
        "from tqdm.notebook import tqdm"
      ]
    },
    {
      "cell_type": "code",
      "execution_count": 4,
      "metadata": {
        "id": "Y1yw8sDFYv8x"
      },
      "outputs": [],
      "source": [
        "from tqdm.notebook import tqdm"
      ]
    },
    {
      "cell_type": "code",
      "execution_count": 5,
      "metadata": {
        "id": "6Hhnz3SFgzJ4"
      },
      "outputs": [],
      "source": [
        "sns.set_theme()"
      ]
    },
    {
      "cell_type": "code",
      "execution_count": 6,
      "metadata": {
        "id": "oc9cX6OHxvJF"
      },
      "outputs": [
        {
          "data": {
            "text/plain": [
              "<torch._C.Generator at 0x20d24ef0490>"
            ]
          },
          "execution_count": 6,
          "metadata": {},
          "output_type": "execute_result"
        }
      ],
      "source": [
        "RANDOM_SEED = 33\n",
        "np.random.seed(RANDOM_SEED)\n",
        "torch.manual_seed(RANDOM_SEED)"
      ]
    },
    {
      "cell_type": "markdown",
      "metadata": {
        "id": "oRuGtYXVuLV2"
      },
      "source": [
        "# Download CIC IDS 2017"
      ]
    },
    {
      "cell_type": "markdown",
      "metadata": {
        "id": "yaLg4YymDMSx"
      },
      "source": [
        "[Este](https://www.unb.ca/cic/datasets/ids-2017.html) conjunto de dados contém informações sobre fluxos de rede, representando tanto o tráfego benigno quanto ataques populares. Para o ambiente de teste desta coleta de dados, uma rede foi configurada para o atacante e uma rede separada foi configurada para as vítimas, esta última contendo firewalls, roteadores, switches, servidores e estações de trabalho em execução em diferentes versões dos sistemas operacionais Windows e Linux. Para gerar o tráfego benigno, os autores utilizaram um sistema desenvolvido por eles mesmos, que então extraiu o comportamento abstrato de 25 usuários com base em diferentes protocolos de aplicação. Os dados foram coletados ao longo de cinco dias de atividade de rede e foram processados para extrair mais de 80 features do conjunto de dados usando a ferramenta CICFlowMeter8.\n"
      ]
    },
    {
      "cell_type": "code",
      "execution_count": null,
      "metadata": {
        "id": "MLFSlAwY8zh8"
      },
      "outputs": [],
      "source": [
        "# update gdown version\n",
        "!pip install --upgrade --no-cache-dir gdown"
      ]
    },
    {
      "cell_type": "code",
      "execution_count": null,
      "metadata": {
        "id": "zWwpfkp8uM4E"
      },
      "outputs": [],
      "source": [
        "# !wget http://205.174.165.80/CICDataset/CIC-IDS-2017/Dataset/MachineLearningCSV.zip -O CIC_IDS_2017.zip\n",
        "!gdown '1WtbUHBpANHLMVVHuaFr9-pGUyeW6QhdD' -O CIC_IDS_2017.zip"
      ]
    },
    {
      "cell_type": "code",
      "execution_count": null,
      "metadata": {
        "id": "UdiG5bQNuXK7"
      },
      "outputs": [],
      "source": [
        "# !unzip MachineLearningCSV.zip\n",
        "!unzip ./CIC_IDS_2017.zip"
      ]
    },
    {
      "cell_type": "markdown",
      "metadata": {
        "id": "Pq_bXXrta-Eo"
      },
      "source": [
        "# Carregando os dados"
      ]
    },
    {
      "cell_type": "code",
      "execution_count": 10,
      "metadata": {
        "id": "6zYbZjA5afwD"
      },
      "outputs": [],
      "source": [
        "df_list = []\n",
        "for file in os.listdir('../../../Dados/MachineLearningCVE/'):\n",
        "  df_aux = pd.read_csv(f'../../../Dados/MachineLearningCVE/{file}')\n",
        "  df_list.append(df_aux)\n",
        "df = pd.concat(df_list, ignore_index=True)"
      ]
    },
    {
      "cell_type": "code",
      "execution_count": 11,
      "metadata": {
        "id": "TjM3IcrnalWU"
      },
      "outputs": [
        {
          "name": "stdout",
          "output_type": "stream",
          "text": [
            "<class 'pandas.core.frame.DataFrame'>\n",
            "RangeIndex: 2830743 entries, 0 to 2830742\n",
            "Data columns (total 79 columns):\n",
            " #   Column                        Dtype  \n",
            "---  ------                        -----  \n",
            " 0    Destination Port             int64  \n",
            " 1    Flow Duration                int64  \n",
            " 2    Total Fwd Packets            int64  \n",
            " 3    Total Backward Packets       int64  \n",
            " 4   Total Length of Fwd Packets   int64  \n",
            " 5    Total Length of Bwd Packets  int64  \n",
            " 6    Fwd Packet Length Max        int64  \n",
            " 7    Fwd Packet Length Min        int64  \n",
            " 8    Fwd Packet Length Mean       float64\n",
            " 9    Fwd Packet Length Std        float64\n",
            " 10  Bwd Packet Length Max         int64  \n",
            " 11   Bwd Packet Length Min        int64  \n",
            " 12   Bwd Packet Length Mean       float64\n",
            " 13   Bwd Packet Length Std        float64\n",
            " 14  Flow Bytes/s                  float64\n",
            " 15   Flow Packets/s               float64\n",
            " 16   Flow IAT Mean                float64\n",
            " 17   Flow IAT Std                 float64\n",
            " 18   Flow IAT Max                 int64  \n",
            " 19   Flow IAT Min                 int64  \n",
            " 20  Fwd IAT Total                 int64  \n",
            " 21   Fwd IAT Mean                 float64\n",
            " 22   Fwd IAT Std                  float64\n",
            " 23   Fwd IAT Max                  int64  \n",
            " 24   Fwd IAT Min                  int64  \n",
            " 25  Bwd IAT Total                 int64  \n",
            " 26   Bwd IAT Mean                 float64\n",
            " 27   Bwd IAT Std                  float64\n",
            " 28   Bwd IAT Max                  int64  \n",
            " 29   Bwd IAT Min                  int64  \n",
            " 30  Fwd PSH Flags                 int64  \n",
            " 31   Bwd PSH Flags                int64  \n",
            " 32   Fwd URG Flags                int64  \n",
            " 33   Bwd URG Flags                int64  \n",
            " 34   Fwd Header Length            int64  \n",
            " 35   Bwd Header Length            int64  \n",
            " 36  Fwd Packets/s                 float64\n",
            " 37   Bwd Packets/s                float64\n",
            " 38   Min Packet Length            int64  \n",
            " 39   Max Packet Length            int64  \n",
            " 40   Packet Length Mean           float64\n",
            " 41   Packet Length Std            float64\n",
            " 42   Packet Length Variance       float64\n",
            " 43  FIN Flag Count                int64  \n",
            " 44   SYN Flag Count               int64  \n",
            " 45   RST Flag Count               int64  \n",
            " 46   PSH Flag Count               int64  \n",
            " 47   ACK Flag Count               int64  \n",
            " 48   URG Flag Count               int64  \n",
            " 49   CWE Flag Count               int64  \n",
            " 50   ECE Flag Count               int64  \n",
            " 51   Down/Up Ratio                int64  \n",
            " 52   Average Packet Size          float64\n",
            " 53   Avg Fwd Segment Size         float64\n",
            " 54   Avg Bwd Segment Size         float64\n",
            " 55   Fwd Header Length.1          int64  \n",
            " 56  Fwd Avg Bytes/Bulk            int64  \n",
            " 57   Fwd Avg Packets/Bulk         int64  \n",
            " 58   Fwd Avg Bulk Rate            int64  \n",
            " 59   Bwd Avg Bytes/Bulk           int64  \n",
            " 60   Bwd Avg Packets/Bulk         int64  \n",
            " 61  Bwd Avg Bulk Rate             int64  \n",
            " 62  Subflow Fwd Packets           int64  \n",
            " 63   Subflow Fwd Bytes            int64  \n",
            " 64   Subflow Bwd Packets          int64  \n",
            " 65   Subflow Bwd Bytes            int64  \n",
            " 66  Init_Win_bytes_forward        int64  \n",
            " 67   Init_Win_bytes_backward      int64  \n",
            " 68   act_data_pkt_fwd             int64  \n",
            " 69   min_seg_size_forward         int64  \n",
            " 70  Active Mean                   float64\n",
            " 71   Active Std                   float64\n",
            " 72   Active Max                   int64  \n",
            " 73   Active Min                   int64  \n",
            " 74  Idle Mean                     float64\n",
            " 75   Idle Std                     float64\n",
            " 76   Idle Max                     int64  \n",
            " 77   Idle Min                     int64  \n",
            " 78   Label                        object \n",
            "dtypes: float64(24), int64(54), object(1)\n",
            "memory usage: 1.7+ GB\n"
          ]
        }
      ],
      "source": [
        "df.info()"
      ]
    },
    {
      "cell_type": "code",
      "execution_count": 12,
      "metadata": {
        "id": "vHn6KCYkcRrD"
      },
      "outputs": [
        {
          "data": {
            "text/plain": [
              "[' Destination Port',\n",
              " ' Flow Duration',\n",
              " ' Total Fwd Packets',\n",
              " ' Total Backward Packets',\n",
              " 'Total Length of Fwd Packets',\n",
              " ' Total Length of Bwd Packets']"
            ]
          },
          "execution_count": 12,
          "metadata": {},
          "output_type": "execute_result"
        }
      ],
      "source": [
        "list(df.columns)[:6]"
      ]
    },
    {
      "cell_type": "markdown",
      "metadata": {
        "id": "SkxtcO7UcZQe"
      },
      "source": [
        "Algumas colunas tem seus nomes iniciados com espaços ou finalizados com espaços. Vamos remover esses espaços não úteis para ajustar o nome das colunas."
      ]
    },
    {
      "cell_type": "code",
      "execution_count": 13,
      "metadata": {
        "id": "isiq7uLnL9Sh"
      },
      "outputs": [],
      "source": [
        "df.columns = df.columns.str.strip()"
      ]
    },
    {
      "cell_type": "code",
      "execution_count": 14,
      "metadata": {
        "id": "6-Y0wbj2KHlC"
      },
      "outputs": [
        {
          "name": "stdout",
          "output_type": "stream",
          "text": [
            "<class 'pandas.core.frame.DataFrame'>\n",
            "RangeIndex: 2830743 entries, 0 to 2830742\n",
            "Data columns (total 79 columns):\n",
            " #   Column                       Dtype  \n",
            "---  ------                       -----  \n",
            " 0   Destination Port             int64  \n",
            " 1   Flow Duration                int64  \n",
            " 2   Total Fwd Packets            int64  \n",
            " 3   Total Backward Packets       int64  \n",
            " 4   Total Length of Fwd Packets  int64  \n",
            " 5   Total Length of Bwd Packets  int64  \n",
            " 6   Fwd Packet Length Max        int64  \n",
            " 7   Fwd Packet Length Min        int64  \n",
            " 8   Fwd Packet Length Mean       float64\n",
            " 9   Fwd Packet Length Std        float64\n",
            " 10  Bwd Packet Length Max        int64  \n",
            " 11  Bwd Packet Length Min        int64  \n",
            " 12  Bwd Packet Length Mean       float64\n",
            " 13  Bwd Packet Length Std        float64\n",
            " 14  Flow Bytes/s                 float64\n",
            " 15  Flow Packets/s               float64\n",
            " 16  Flow IAT Mean                float64\n",
            " 17  Flow IAT Std                 float64\n",
            " 18  Flow IAT Max                 int64  \n",
            " 19  Flow IAT Min                 int64  \n",
            " 20  Fwd IAT Total                int64  \n",
            " 21  Fwd IAT Mean                 float64\n",
            " 22  Fwd IAT Std                  float64\n",
            " 23  Fwd IAT Max                  int64  \n",
            " 24  Fwd IAT Min                  int64  \n",
            " 25  Bwd IAT Total                int64  \n",
            " 26  Bwd IAT Mean                 float64\n",
            " 27  Bwd IAT Std                  float64\n",
            " 28  Bwd IAT Max                  int64  \n",
            " 29  Bwd IAT Min                  int64  \n",
            " 30  Fwd PSH Flags                int64  \n",
            " 31  Bwd PSH Flags                int64  \n",
            " 32  Fwd URG Flags                int64  \n",
            " 33  Bwd URG Flags                int64  \n",
            " 34  Fwd Header Length            int64  \n",
            " 35  Bwd Header Length            int64  \n",
            " 36  Fwd Packets/s                float64\n",
            " 37  Bwd Packets/s                float64\n",
            " 38  Min Packet Length            int64  \n",
            " 39  Max Packet Length            int64  \n",
            " 40  Packet Length Mean           float64\n",
            " 41  Packet Length Std            float64\n",
            " 42  Packet Length Variance       float64\n",
            " 43  FIN Flag Count               int64  \n",
            " 44  SYN Flag Count               int64  \n",
            " 45  RST Flag Count               int64  \n",
            " 46  PSH Flag Count               int64  \n",
            " 47  ACK Flag Count               int64  \n",
            " 48  URG Flag Count               int64  \n",
            " 49  CWE Flag Count               int64  \n",
            " 50  ECE Flag Count               int64  \n",
            " 51  Down/Up Ratio                int64  \n",
            " 52  Average Packet Size          float64\n",
            " 53  Avg Fwd Segment Size         float64\n",
            " 54  Avg Bwd Segment Size         float64\n",
            " 55  Fwd Header Length.1          int64  \n",
            " 56  Fwd Avg Bytes/Bulk           int64  \n",
            " 57  Fwd Avg Packets/Bulk         int64  \n",
            " 58  Fwd Avg Bulk Rate            int64  \n",
            " 59  Bwd Avg Bytes/Bulk           int64  \n",
            " 60  Bwd Avg Packets/Bulk         int64  \n",
            " 61  Bwd Avg Bulk Rate            int64  \n",
            " 62  Subflow Fwd Packets          int64  \n",
            " 63  Subflow Fwd Bytes            int64  \n",
            " 64  Subflow Bwd Packets          int64  \n",
            " 65  Subflow Bwd Bytes            int64  \n",
            " 66  Init_Win_bytes_forward       int64  \n",
            " 67  Init_Win_bytes_backward      int64  \n",
            " 68  act_data_pkt_fwd             int64  \n",
            " 69  min_seg_size_forward         int64  \n",
            " 70  Active Mean                  float64\n",
            " 71  Active Std                   float64\n",
            " 72  Active Max                   int64  \n",
            " 73  Active Min                   int64  \n",
            " 74  Idle Mean                    float64\n",
            " 75  Idle Std                     float64\n",
            " 76  Idle Max                     int64  \n",
            " 77  Idle Min                     int64  \n",
            " 78  Label                        object \n",
            "dtypes: float64(24), int64(54), object(1)\n",
            "memory usage: 1.7+ GB\n"
          ]
        }
      ],
      "source": [
        "df.info()"
      ]
    },
    {
      "cell_type": "markdown",
      "metadata": {
        "id": "pawAGo2By0Xz"
      },
      "source": [
        "# Limpando os dados"
      ]
    },
    {
      "cell_type": "markdown",
      "metadata": {
        "id": "nKKS5w4tbwoA"
      },
      "source": [
        "É necessário limpar os dados realizando:\n",
        "- Descarte de registros duplicados\n",
        "- Descarte de registros com valores NaN (Not a Number)/ Null / NA (Not Available)\n",
        "- Evitar registros com valores não finitos. Nesse caso, uma abordagem válida é substituirmos os mesmos pelo maior valor finito presente no dataset."
      ]
    },
    {
      "cell_type": "markdown",
      "metadata": {
        "id": "qWkkFt-2dPvv"
      },
      "source": [
        "Registros duplicados"
      ]
    },
    {
      "cell_type": "code",
      "execution_count": 15,
      "metadata": {
        "id": "Sxa5jmZUdRg-"
      },
      "outputs": [
        {
          "data": {
            "text/html": [
              "<div>\n",
              "<style scoped>\n",
              "    .dataframe tbody tr th:only-of-type {\n",
              "        vertical-align: middle;\n",
              "    }\n",
              "\n",
              "    .dataframe tbody tr th {\n",
              "        vertical-align: top;\n",
              "    }\n",
              "\n",
              "    .dataframe thead th {\n",
              "        text-align: right;\n",
              "    }\n",
              "</style>\n",
              "<table border=\"1\" class=\"dataframe\">\n",
              "  <thead>\n",
              "    <tr style=\"text-align: right;\">\n",
              "      <th></th>\n",
              "      <th>Destination Port</th>\n",
              "      <th>Flow Duration</th>\n",
              "      <th>Total Fwd Packets</th>\n",
              "      <th>Total Backward Packets</th>\n",
              "      <th>Total Length of Fwd Packets</th>\n",
              "      <th>Total Length of Bwd Packets</th>\n",
              "      <th>Fwd Packet Length Max</th>\n",
              "      <th>Fwd Packet Length Min</th>\n",
              "      <th>Fwd Packet Length Mean</th>\n",
              "      <th>Fwd Packet Length Std</th>\n",
              "      <th>...</th>\n",
              "      <th>min_seg_size_forward</th>\n",
              "      <th>Active Mean</th>\n",
              "      <th>Active Std</th>\n",
              "      <th>Active Max</th>\n",
              "      <th>Active Min</th>\n",
              "      <th>Idle Mean</th>\n",
              "      <th>Idle Std</th>\n",
              "      <th>Idle Max</th>\n",
              "      <th>Idle Min</th>\n",
              "      <th>Label</th>\n",
              "    </tr>\n",
              "  </thead>\n",
              "  <tbody>\n",
              "    <tr>\n",
              "      <th>2109</th>\n",
              "      <td>80</td>\n",
              "      <td>77</td>\n",
              "      <td>2</td>\n",
              "      <td>0</td>\n",
              "      <td>12</td>\n",
              "      <td>0</td>\n",
              "      <td>6</td>\n",
              "      <td>6</td>\n",
              "      <td>6.0</td>\n",
              "      <td>0.0</td>\n",
              "      <td>...</td>\n",
              "      <td>20</td>\n",
              "      <td>0.0</td>\n",
              "      <td>0.0</td>\n",
              "      <td>0</td>\n",
              "      <td>0</td>\n",
              "      <td>0.0</td>\n",
              "      <td>0.0</td>\n",
              "      <td>0</td>\n",
              "      <td>0</td>\n",
              "      <td>BENIGN</td>\n",
              "    </tr>\n",
              "    <tr>\n",
              "      <th>2257</th>\n",
              "      <td>443</td>\n",
              "      <td>3</td>\n",
              "      <td>2</td>\n",
              "      <td>0</td>\n",
              "      <td>12</td>\n",
              "      <td>0</td>\n",
              "      <td>6</td>\n",
              "      <td>6</td>\n",
              "      <td>6.0</td>\n",
              "      <td>0.0</td>\n",
              "      <td>...</td>\n",
              "      <td>20</td>\n",
              "      <td>0.0</td>\n",
              "      <td>0.0</td>\n",
              "      <td>0</td>\n",
              "      <td>0</td>\n",
              "      <td>0.0</td>\n",
              "      <td>0.0</td>\n",
              "      <td>0</td>\n",
              "      <td>0</td>\n",
              "      <td>BENIGN</td>\n",
              "    </tr>\n",
              "    <tr>\n",
              "      <th>2749</th>\n",
              "      <td>443</td>\n",
              "      <td>49</td>\n",
              "      <td>2</td>\n",
              "      <td>0</td>\n",
              "      <td>12</td>\n",
              "      <td>0</td>\n",
              "      <td>6</td>\n",
              "      <td>6</td>\n",
              "      <td>6.0</td>\n",
              "      <td>0.0</td>\n",
              "      <td>...</td>\n",
              "      <td>20</td>\n",
              "      <td>0.0</td>\n",
              "      <td>0.0</td>\n",
              "      <td>0</td>\n",
              "      <td>0</td>\n",
              "      <td>0.0</td>\n",
              "      <td>0.0</td>\n",
              "      <td>0</td>\n",
              "      <td>0</td>\n",
              "      <td>BENIGN</td>\n",
              "    </tr>\n",
              "    <tr>\n",
              "      <th>2862</th>\n",
              "      <td>443</td>\n",
              "      <td>4</td>\n",
              "      <td>2</td>\n",
              "      <td>0</td>\n",
              "      <td>12</td>\n",
              "      <td>0</td>\n",
              "      <td>6</td>\n",
              "      <td>6</td>\n",
              "      <td>6.0</td>\n",
              "      <td>0.0</td>\n",
              "      <td>...</td>\n",
              "      <td>20</td>\n",
              "      <td>0.0</td>\n",
              "      <td>0.0</td>\n",
              "      <td>0</td>\n",
              "      <td>0</td>\n",
              "      <td>0.0</td>\n",
              "      <td>0.0</td>\n",
              "      <td>0</td>\n",
              "      <td>0</td>\n",
              "      <td>BENIGN</td>\n",
              "    </tr>\n",
              "    <tr>\n",
              "      <th>2877</th>\n",
              "      <td>443</td>\n",
              "      <td>1</td>\n",
              "      <td>2</td>\n",
              "      <td>0</td>\n",
              "      <td>12</td>\n",
              "      <td>0</td>\n",
              "      <td>6</td>\n",
              "      <td>6</td>\n",
              "      <td>6.0</td>\n",
              "      <td>0.0</td>\n",
              "      <td>...</td>\n",
              "      <td>20</td>\n",
              "      <td>0.0</td>\n",
              "      <td>0.0</td>\n",
              "      <td>0</td>\n",
              "      <td>0</td>\n",
              "      <td>0.0</td>\n",
              "      <td>0.0</td>\n",
              "      <td>0</td>\n",
              "      <td>0</td>\n",
              "      <td>BENIGN</td>\n",
              "    </tr>\n",
              "    <tr>\n",
              "      <th>...</th>\n",
              "      <td>...</td>\n",
              "      <td>...</td>\n",
              "      <td>...</td>\n",
              "      <td>...</td>\n",
              "      <td>...</td>\n",
              "      <td>...</td>\n",
              "      <td>...</td>\n",
              "      <td>...</td>\n",
              "      <td>...</td>\n",
              "      <td>...</td>\n",
              "      <td>...</td>\n",
              "      <td>...</td>\n",
              "      <td>...</td>\n",
              "      <td>...</td>\n",
              "      <td>...</td>\n",
              "      <td>...</td>\n",
              "      <td>...</td>\n",
              "      <td>...</td>\n",
              "      <td>...</td>\n",
              "      <td>...</td>\n",
              "      <td>...</td>\n",
              "    </tr>\n",
              "    <tr>\n",
              "      <th>2830701</th>\n",
              "      <td>53</td>\n",
              "      <td>179</td>\n",
              "      <td>2</td>\n",
              "      <td>2</td>\n",
              "      <td>46</td>\n",
              "      <td>46</td>\n",
              "      <td>23</td>\n",
              "      <td>23</td>\n",
              "      <td>23.0</td>\n",
              "      <td>0.0</td>\n",
              "      <td>...</td>\n",
              "      <td>32</td>\n",
              "      <td>0.0</td>\n",
              "      <td>0.0</td>\n",
              "      <td>0</td>\n",
              "      <td>0</td>\n",
              "      <td>0.0</td>\n",
              "      <td>0.0</td>\n",
              "      <td>0</td>\n",
              "      <td>0</td>\n",
              "      <td>BENIGN</td>\n",
              "    </tr>\n",
              "    <tr>\n",
              "      <th>2830725</th>\n",
              "      <td>53</td>\n",
              "      <td>161</td>\n",
              "      <td>2</td>\n",
              "      <td>2</td>\n",
              "      <td>82</td>\n",
              "      <td>114</td>\n",
              "      <td>41</td>\n",
              "      <td>41</td>\n",
              "      <td>41.0</td>\n",
              "      <td>0.0</td>\n",
              "      <td>...</td>\n",
              "      <td>32</td>\n",
              "      <td>0.0</td>\n",
              "      <td>0.0</td>\n",
              "      <td>0</td>\n",
              "      <td>0</td>\n",
              "      <td>0.0</td>\n",
              "      <td>0.0</td>\n",
              "      <td>0</td>\n",
              "      <td>0</td>\n",
              "      <td>BENIGN</td>\n",
              "    </tr>\n",
              "    <tr>\n",
              "      <th>2830726</th>\n",
              "      <td>53</td>\n",
              "      <td>212</td>\n",
              "      <td>2</td>\n",
              "      <td>2</td>\n",
              "      <td>84</td>\n",
              "      <td>162</td>\n",
              "      <td>42</td>\n",
              "      <td>42</td>\n",
              "      <td>42.0</td>\n",
              "      <td>0.0</td>\n",
              "      <td>...</td>\n",
              "      <td>32</td>\n",
              "      <td>0.0</td>\n",
              "      <td>0.0</td>\n",
              "      <td>0</td>\n",
              "      <td>0</td>\n",
              "      <td>0.0</td>\n",
              "      <td>0.0</td>\n",
              "      <td>0</td>\n",
              "      <td>0</td>\n",
              "      <td>BENIGN</td>\n",
              "    </tr>\n",
              "    <tr>\n",
              "      <th>2830731</th>\n",
              "      <td>443</td>\n",
              "      <td>3</td>\n",
              "      <td>2</td>\n",
              "      <td>0</td>\n",
              "      <td>12</td>\n",
              "      <td>0</td>\n",
              "      <td>6</td>\n",
              "      <td>6</td>\n",
              "      <td>6.0</td>\n",
              "      <td>0.0</td>\n",
              "      <td>...</td>\n",
              "      <td>20</td>\n",
              "      <td>0.0</td>\n",
              "      <td>0.0</td>\n",
              "      <td>0</td>\n",
              "      <td>0</td>\n",
              "      <td>0.0</td>\n",
              "      <td>0.0</td>\n",
              "      <td>0</td>\n",
              "      <td>0</td>\n",
              "      <td>BENIGN</td>\n",
              "    </tr>\n",
              "    <tr>\n",
              "      <th>2830733</th>\n",
              "      <td>53</td>\n",
              "      <td>158</td>\n",
              "      <td>2</td>\n",
              "      <td>2</td>\n",
              "      <td>82</td>\n",
              "      <td>114</td>\n",
              "      <td>41</td>\n",
              "      <td>41</td>\n",
              "      <td>41.0</td>\n",
              "      <td>0.0</td>\n",
              "      <td>...</td>\n",
              "      <td>20</td>\n",
              "      <td>0.0</td>\n",
              "      <td>0.0</td>\n",
              "      <td>0</td>\n",
              "      <td>0</td>\n",
              "      <td>0.0</td>\n",
              "      <td>0.0</td>\n",
              "      <td>0</td>\n",
              "      <td>0</td>\n",
              "      <td>BENIGN</td>\n",
              "    </tr>\n",
              "  </tbody>\n",
              "</table>\n",
              "<p>308381 rows × 79 columns</p>\n",
              "</div>"
            ],
            "text/plain": [
              "         Destination Port  Flow Duration  Total Fwd Packets  \\\n",
              "2109                   80             77                  2   \n",
              "2257                  443              3                  2   \n",
              "2749                  443             49                  2   \n",
              "2862                  443              4                  2   \n",
              "2877                  443              1                  2   \n",
              "...                   ...            ...                ...   \n",
              "2830701                53            179                  2   \n",
              "2830725                53            161                  2   \n",
              "2830726                53            212                  2   \n",
              "2830731               443              3                  2   \n",
              "2830733                53            158                  2   \n",
              "\n",
              "         Total Backward Packets  Total Length of Fwd Packets  \\\n",
              "2109                          0                           12   \n",
              "2257                          0                           12   \n",
              "2749                          0                           12   \n",
              "2862                          0                           12   \n",
              "2877                          0                           12   \n",
              "...                         ...                          ...   \n",
              "2830701                       2                           46   \n",
              "2830725                       2                           82   \n",
              "2830726                       2                           84   \n",
              "2830731                       0                           12   \n",
              "2830733                       2                           82   \n",
              "\n",
              "         Total Length of Bwd Packets  Fwd Packet Length Max  \\\n",
              "2109                               0                      6   \n",
              "2257                               0                      6   \n",
              "2749                               0                      6   \n",
              "2862                               0                      6   \n",
              "2877                               0                      6   \n",
              "...                              ...                    ...   \n",
              "2830701                           46                     23   \n",
              "2830725                          114                     41   \n",
              "2830726                          162                     42   \n",
              "2830731                            0                      6   \n",
              "2830733                          114                     41   \n",
              "\n",
              "         Fwd Packet Length Min  Fwd Packet Length Mean  Fwd Packet Length Std  \\\n",
              "2109                         6                     6.0                    0.0   \n",
              "2257                         6                     6.0                    0.0   \n",
              "2749                         6                     6.0                    0.0   \n",
              "2862                         6                     6.0                    0.0   \n",
              "2877                         6                     6.0                    0.0   \n",
              "...                        ...                     ...                    ...   \n",
              "2830701                     23                    23.0                    0.0   \n",
              "2830725                     41                    41.0                    0.0   \n",
              "2830726                     42                    42.0                    0.0   \n",
              "2830731                      6                     6.0                    0.0   \n",
              "2830733                     41                    41.0                    0.0   \n",
              "\n",
              "         ...  min_seg_size_forward  Active Mean  Active Std  Active Max  \\\n",
              "2109     ...                    20          0.0         0.0           0   \n",
              "2257     ...                    20          0.0         0.0           0   \n",
              "2749     ...                    20          0.0         0.0           0   \n",
              "2862     ...                    20          0.0         0.0           0   \n",
              "2877     ...                    20          0.0         0.0           0   \n",
              "...      ...                   ...          ...         ...         ...   \n",
              "2830701  ...                    32          0.0         0.0           0   \n",
              "2830725  ...                    32          0.0         0.0           0   \n",
              "2830726  ...                    32          0.0         0.0           0   \n",
              "2830731  ...                    20          0.0         0.0           0   \n",
              "2830733  ...                    20          0.0         0.0           0   \n",
              "\n",
              "         Active Min  Idle Mean  Idle Std  Idle Max  Idle Min   Label  \n",
              "2109              0        0.0       0.0         0         0  BENIGN  \n",
              "2257              0        0.0       0.0         0         0  BENIGN  \n",
              "2749              0        0.0       0.0         0         0  BENIGN  \n",
              "2862              0        0.0       0.0         0         0  BENIGN  \n",
              "2877              0        0.0       0.0         0         0  BENIGN  \n",
              "...             ...        ...       ...       ...       ...     ...  \n",
              "2830701           0        0.0       0.0         0         0  BENIGN  \n",
              "2830725           0        0.0       0.0         0         0  BENIGN  \n",
              "2830726           0        0.0       0.0         0         0  BENIGN  \n",
              "2830731           0        0.0       0.0         0         0  BENIGN  \n",
              "2830733           0        0.0       0.0         0         0  BENIGN  \n",
              "\n",
              "[308381 rows x 79 columns]"
            ]
          },
          "execution_count": 15,
          "metadata": {},
          "output_type": "execute_result"
        }
      ],
      "source": [
        "df[df.duplicated()]"
      ]
    },
    {
      "cell_type": "code",
      "execution_count": 16,
      "metadata": {
        "id": "zED1GggVxXAg"
      },
      "outputs": [
        {
          "name": "stdout",
          "output_type": "stream",
          "text": [
            "Tamanho inicial: 2830743, tamanho final 2522362 | Descartadas 308381 duplicadas\n"
          ]
        }
      ],
      "source": [
        "# Descartando duplicadas\n",
        "initial_len = df.shape[0]\n",
        "df = df.drop_duplicates()\n",
        "print(f'Tamanho inicial: {initial_len}, tamanho final {df.shape[0]} | Descartadas {initial_len - df.shape[0]} duplicadas')"
      ]
    },
    {
      "cell_type": "markdown",
      "metadata": {
        "id": "_u9Y-ucudcTq"
      },
      "source": [
        "Registros com valores Null/NaN/NA"
      ]
    },
    {
      "cell_type": "code",
      "execution_count": 17,
      "metadata": {
        "id": "V7LWznKmd_6-"
      },
      "outputs": [
        {
          "data": {
            "text/plain": [
              "Index(['Flow Bytes/s'], dtype='object')"
            ]
          },
          "execution_count": 17,
          "metadata": {},
          "output_type": "execute_result"
        }
      ],
      "source": [
        "df.columns[df.isna().any(axis=0)]"
      ]
    },
    {
      "cell_type": "code",
      "execution_count": 18,
      "metadata": {
        "id": "QiW6qMEyd16h"
      },
      "outputs": [
        {
          "data": {
            "text/html": [
              "<div>\n",
              "<style scoped>\n",
              "    .dataframe tbody tr th:only-of-type {\n",
              "        vertical-align: middle;\n",
              "    }\n",
              "\n",
              "    .dataframe tbody tr th {\n",
              "        vertical-align: top;\n",
              "    }\n",
              "\n",
              "    .dataframe thead th {\n",
              "        text-align: right;\n",
              "    }\n",
              "</style>\n",
              "<table border=\"1\" class=\"dataframe\">\n",
              "  <thead>\n",
              "    <tr style=\"text-align: right;\">\n",
              "      <th></th>\n",
              "      <th>Flow Bytes/s</th>\n",
              "    </tr>\n",
              "  </thead>\n",
              "  <tbody>\n",
              "    <tr>\n",
              "      <th>6796</th>\n",
              "      <td>NaN</td>\n",
              "    </tr>\n",
              "    <tr>\n",
              "      <th>14739</th>\n",
              "      <td>NaN</td>\n",
              "    </tr>\n",
              "    <tr>\n",
              "      <th>15047</th>\n",
              "      <td>NaN</td>\n",
              "    </tr>\n",
              "    <tr>\n",
              "      <th>209728</th>\n",
              "      <td>NaN</td>\n",
              "    </tr>\n",
              "    <tr>\n",
              "      <th>238569</th>\n",
              "      <td>NaN</td>\n",
              "    </tr>\n",
              "    <tr>\n",
              "      <th>...</th>\n",
              "      <td>...</td>\n",
              "    </tr>\n",
              "    <tr>\n",
              "      <th>2740049</th>\n",
              "      <td>NaN</td>\n",
              "    </tr>\n",
              "    <tr>\n",
              "      <th>2767532</th>\n",
              "      <td>NaN</td>\n",
              "    </tr>\n",
              "    <tr>\n",
              "      <th>2791593</th>\n",
              "      <td>NaN</td>\n",
              "    </tr>\n",
              "    <tr>\n",
              "      <th>2809052</th>\n",
              "      <td>NaN</td>\n",
              "    </tr>\n",
              "    <tr>\n",
              "      <th>2824846</th>\n",
              "      <td>NaN</td>\n",
              "    </tr>\n",
              "  </tbody>\n",
              "</table>\n",
              "<p>353 rows × 1 columns</p>\n",
              "</div>"
            ],
            "text/plain": [
              "         Flow Bytes/s\n",
              "6796              NaN\n",
              "14739             NaN\n",
              "15047             NaN\n",
              "209728            NaN\n",
              "238569            NaN\n",
              "...               ...\n",
              "2740049           NaN\n",
              "2767532           NaN\n",
              "2791593           NaN\n",
              "2809052           NaN\n",
              "2824846           NaN\n",
              "\n",
              "[353 rows x 1 columns]"
            ]
          },
          "execution_count": 18,
          "metadata": {},
          "output_type": "execute_result"
        }
      ],
      "source": [
        "df[df.isna().any(axis=1)][['Flow Bytes/s']]"
      ]
    },
    {
      "cell_type": "code",
      "execution_count": 19,
      "metadata": {
        "id": "6IT59ZU4NRVf"
      },
      "outputs": [
        {
          "name": "stdout",
          "output_type": "stream",
          "text": [
            "Tamanho inicial: 2522362, tamanho final 2522009 | Descartados 353 registros com valores NA\n"
          ]
        }
      ],
      "source": [
        "# Descartando registros com valores NaN/Null/NA\n",
        "initial_len = df.shape[0]\n",
        "df = df.dropna()\n",
        "print(f'Tamanho inicial: {initial_len}, tamanho final {df.shape[0]} | Descartados {initial_len - df.shape[0]} registros com valores NA')"
      ]
    },
    {
      "cell_type": "code",
      "execution_count": 20,
      "metadata": {
        "id": "kq-LwUBfc7pC"
      },
      "outputs": [],
      "source": [
        "df = df.reset_index(drop=True)"
      ]
    },
    {
      "cell_type": "markdown",
      "metadata": {
        "id": "sTTh92e0fH2P"
      },
      "source": [
        "Registros com valores não finitos"
      ]
    },
    {
      "cell_type": "code",
      "execution_count": 21,
      "metadata": {
        "id": "mnUHVexN526E"
      },
      "outputs": [
        {
          "data": {
            "text/plain": [
              "Flow Bytes/s      False\n",
              "Flow Packets/s    False\n",
              "dtype: bool"
            ]
          },
          "execution_count": 21,
          "metadata": {},
          "output_type": "execute_result"
        }
      ],
      "source": [
        "df_columns_isfinite = np.isfinite(df.drop(['Label'], axis='columns')).all(axis=0)\n",
        "df_columns_isfinite[df_columns_isfinite == False]"
      ]
    },
    {
      "cell_type": "code",
      "execution_count": 22,
      "metadata": {
        "id": "B1gNjMNPfN1P"
      },
      "outputs": [
        {
          "data": {
            "text/html": [
              "<div>\n",
              "<style scoped>\n",
              "    .dataframe tbody tr th:only-of-type {\n",
              "        vertical-align: middle;\n",
              "    }\n",
              "\n",
              "    .dataframe tbody tr th {\n",
              "        vertical-align: top;\n",
              "    }\n",
              "\n",
              "    .dataframe thead th {\n",
              "        text-align: right;\n",
              "    }\n",
              "</style>\n",
              "<table border=\"1\" class=\"dataframe\">\n",
              "  <thead>\n",
              "    <tr style=\"text-align: right;\">\n",
              "      <th></th>\n",
              "      <th>Flow Bytes/s</th>\n",
              "      <th>Flow Packets/s</th>\n",
              "      <th>Flow Duration</th>\n",
              "    </tr>\n",
              "  </thead>\n",
              "  <tbody>\n",
              "    <tr>\n",
              "      <th>65</th>\n",
              "      <td>inf</td>\n",
              "      <td>inf</td>\n",
              "      <td>0</td>\n",
              "    </tr>\n",
              "    <tr>\n",
              "      <th>1767</th>\n",
              "      <td>inf</td>\n",
              "      <td>inf</td>\n",
              "      <td>0</td>\n",
              "    </tr>\n",
              "    <tr>\n",
              "      <th>1890</th>\n",
              "      <td>inf</td>\n",
              "      <td>inf</td>\n",
              "      <td>0</td>\n",
              "    </tr>\n",
              "    <tr>\n",
              "      <th>3365</th>\n",
              "      <td>inf</td>\n",
              "      <td>inf</td>\n",
              "      <td>0</td>\n",
              "    </tr>\n",
              "    <tr>\n",
              "      <th>8001</th>\n",
              "      <td>inf</td>\n",
              "      <td>inf</td>\n",
              "      <td>0</td>\n",
              "    </tr>\n",
              "    <tr>\n",
              "      <th>...</th>\n",
              "      <td>...</td>\n",
              "      <td>...</td>\n",
              "      <td>...</td>\n",
              "    </tr>\n",
              "    <tr>\n",
              "      <th>2515309</th>\n",
              "      <td>inf</td>\n",
              "      <td>inf</td>\n",
              "      <td>0</td>\n",
              "    </tr>\n",
              "    <tr>\n",
              "      <th>2515565</th>\n",
              "      <td>inf</td>\n",
              "      <td>inf</td>\n",
              "      <td>0</td>\n",
              "    </tr>\n",
              "    <tr>\n",
              "      <th>2516784</th>\n",
              "      <td>inf</td>\n",
              "      <td>inf</td>\n",
              "      <td>0</td>\n",
              "    </tr>\n",
              "    <tr>\n",
              "      <th>2516908</th>\n",
              "      <td>inf</td>\n",
              "      <td>inf</td>\n",
              "      <td>0</td>\n",
              "    </tr>\n",
              "    <tr>\n",
              "      <th>2517924</th>\n",
              "      <td>inf</td>\n",
              "      <td>inf</td>\n",
              "      <td>0</td>\n",
              "    </tr>\n",
              "  </tbody>\n",
              "</table>\n",
              "<p>1211 rows × 3 columns</p>\n",
              "</div>"
            ],
            "text/plain": [
              "         Flow Bytes/s  Flow Packets/s  Flow Duration\n",
              "65                inf             inf              0\n",
              "1767              inf             inf              0\n",
              "1890              inf             inf              0\n",
              "3365              inf             inf              0\n",
              "8001              inf             inf              0\n",
              "...               ...             ...            ...\n",
              "2515309           inf             inf              0\n",
              "2515565           inf             inf              0\n",
              "2516784           inf             inf              0\n",
              "2516908           inf             inf              0\n",
              "2517924           inf             inf              0\n",
              "\n",
              "[1211 rows x 3 columns]"
            ]
          },
          "execution_count": 22,
          "metadata": {},
          "output_type": "execute_result"
        }
      ],
      "source": [
        "df_rows_isfinite = np.isfinite(df.drop(['Label'], axis='columns')).all(axis=1)\n",
        "inf_indexes = df_rows_isfinite[df_rows_isfinite == False].index\n",
        "df.iloc[inf_indexes][['Flow Bytes/s', 'Flow Packets/s', 'Flow Duration']]"
      ]
    },
    {
      "cell_type": "code",
      "execution_count": 23,
      "metadata": {
        "id": "MG1_vSKMf2Oy"
      },
      "outputs": [],
      "source": [
        "# Evitando registros com valores não finitos\n",
        "max_finite_flow_packets_per_sec = df[np.isfinite(df['Flow Packets/s'])]['Flow Packets/s'].max()\n",
        "max_finite_flow_bytes_per_sec = df[np.isfinite(df['Flow Bytes/s'])]['Flow Bytes/s'].max()\n",
        "\n",
        "df.loc[df['Flow Packets/s'] == np.inf, 'Flow Packets/s'] = max_finite_flow_packets_per_sec\n",
        "df.loc[df['Flow Bytes/s'] == np.inf, 'Flow Bytes/s'] = max_finite_flow_bytes_per_sec"
      ]
    },
    {
      "cell_type": "markdown",
      "metadata": {
        "id": "W-XvDbz6q8jB"
      },
      "source": [
        "# Mini análise exploratória"
      ]
    },
    {
      "cell_type": "markdown",
      "metadata": {
        "id": "NVckGuDaxcGO"
      },
      "source": [
        "### Quantidade de instâncias benignas x maliciosas"
      ]
    },
    {
      "cell_type": "code",
      "execution_count": 24,
      "metadata": {
        "id": "PLbbFtXln9th"
      },
      "outputs": [
        {
          "data": {
            "text/plain": [
              "<Axes: xlabel='Label', ylabel='count'>"
            ]
          },
          "execution_count": 24,
          "metadata": {},
          "output_type": "execute_result"
        },
        {
          "data": {
            "image/png": "[encoded data removed]",
            "text/plain": [
              "<Figure size 640x480 with 1 Axes>"
            ]
          },
          "metadata": {},
          "output_type": "display_data"
        }
      ],
      "source": [
        "sns.countplot(data=df['Label'].apply(lambda label: 'Malicious' if label != 'BENIGN' else 'Benign').to_frame(), x='Label')"
      ]
    },
    {
      "cell_type": "markdown",
      "metadata": {
        "id": "XomZW4ulyPZI"
      },
      "source": [
        "**Dados não balanceados**. Impactos:\n",
        "- Dificuldade de treinar modelos supervisionados\n",
        "- Dificuldade de avaliar resultados com métricas tradicionais como acurácia"
      ]
    },
    {
      "cell_type": "markdown",
      "metadata": {
        "id": "8qwei56XxhPf"
      },
      "source": [
        "### Quantidade de instâncias por tipo de ataque"
      ]
    },
    {
      "cell_type": "markdown",
      "metadata": {
        "id": "U7aBOsqTzghd"
      },
      "source": [
        "Abaixo está um descritivo para os ataques do dataset:\n",
        "\n",
        "**DoS (Denial of Service)**: Esses ataques, como \"DoS Hulk\", \"DoS GoldenEye\", \"DoS Slowloris\", \"DoS Slowhttptest\" e \"DDoS\" visam tornar temporariamente uma máquina ou recurso de rede indisponível, sendo diferenciados pelo protocolo e estratégia usados para causar a negação de serviço. No caso do \"DDoS\", várias máquinas Windows 8.1 foram usadas para enviar solicitações UDP, TCP e HTTP.\n",
        "\n",
        "**FTP Patator\" e \"SSH Patator**: Usam o software Patator para adivinhar senhas por força bruta com o uso de listas de palavras.\n",
        "\n",
        "**Web - Brute Force**: Usa força bruta em uma aplicação com listas de palavras.\n",
        "\n",
        "**Web - Injeção de SQL**: Esse ataque explora vulnerabilidades em máquinas conectadas publicamente à Internet usando injeção SQL.\n",
        "\n",
        "**Web - XSS (Cross-Site Scripting)**: Representa injeções de scripts em aplicativos da web, visando a execução de ações maliciosas por outros usuários do aplicativo.\n",
        "\n",
        "**PortScan**: Realizados com a ferramenta NMap, esses ataques buscam informações sobre os serviços e portas abertas em um alvo.\n",
        "\n",
        "**Bot**: Esse ataque tem várias possibilidades, como roubo de dados, envio de spam e acesso ao dispositivo. .\n",
        "\n",
        "**Infiltration**: Baseado na infecção de uma máquina após um usuário abrir um arquivo malicioso."
      ]
    },
    {
      "cell_type": "code",
      "execution_count": 25,
      "metadata": {
        "id": "r9BBNOy1u4aJ"
      },
      "outputs": [],
      "source": [
        "df['Label'] = df['Label'].replace({'Web Attack � Brute Force':'Brute Force', 'Web Attack � XSS':'XSS', 'Web Attack � Sql Injection':'Sql Injection'})"
      ]
    },
    {
      "cell_type": "code",
      "execution_count": 26,
      "metadata": {
        "id": "pSnxTG4Aqsga"
      },
      "outputs": [
        {
          "data": {
            "text/plain": [
              "([0, 1, 2, 3, 4, 5, 6, 7, 8, 9, 10, 11, 12, 13],\n",
              " [Text(0, 0, 'DoS Hulk'),\n",
              "  Text(1, 0, 'DDoS'),\n",
              "  Text(2, 0, 'PortScan'),\n",
              "  Text(3, 0, 'DoS GoldenEye'),\n",
              "  Text(4, 0, 'FTP-Patator'),\n",
              "  Text(5, 0, 'DoS slowloris'),\n",
              "  Text(6, 0, 'DoS Slowhttptest'),\n",
              "  Text(7, 0, 'SSH-Patator'),\n",
              "  Text(8, 0, 'Bot'),\n",
              "  Text(9, 0, 'Brute Force'),\n",
              "  Text(10, 0, 'XSS'),\n",
              "  Text(11, 0, 'Infiltration'),\n",
              "  Text(12, 0, 'Sql Injection'),\n",
              "  Text(13, 0, 'Heartbleed')])"
            ]
          },
          "execution_count": 26,
          "metadata": {},
          "output_type": "execute_result"
        },
        {
          "data": {
            "image/png": "[encoded data removed]",
            "text/plain": [
              "<Figure size 640x480 with 1 Axes>"
            ]
          },
          "metadata": {},
          "output_type": "display_data"
        }
      ],
      "source": [
        "sns.countplot(data=df.query('Label != \"BENIGN\"')[['Label']], x='Label', order = df.query('Label != \"BENIGN\"')['Label'].value_counts().index)\n",
        "plt.xticks(rotation=45)"
      ]
    },
    {
      "cell_type": "markdown",
      "metadata": {
        "id": "Srjop6xWxnWF"
      },
      "source": [
        "Ataques menos representados"
      ]
    },
    {
      "cell_type": "code",
      "execution_count": 27,
      "metadata": {
        "id": "8HU78W11v-2p"
      },
      "outputs": [
        {
          "data": {
            "text/plain": [
              "([0, 1, 2, 3, 4],\n",
              " [Text(0, 0, 'Infiltration'),\n",
              "  Text(1, 0, 'Brute Force'),\n",
              "  Text(2, 0, 'XSS'),\n",
              "  Text(3, 0, 'Sql Injection'),\n",
              "  Text(4, 0, 'Heartbleed')])"
            ]
          },
          "execution_count": 27,
          "metadata": {},
          "output_type": "execute_result"
        },
        {
          "data": {
            "image/png": "[encoded data removed]",
            "text/plain": [
              "<Figure size 640x480 with 1 Axes>"
            ]
          },
          "metadata": {},
          "output_type": "display_data"
        }
      ],
      "source": [
        "N_LESS_REPRESENTED_LABELS = 5\n",
        "\n",
        "sns.countplot(data=df[df['Label'].isin(df.groupby('Label').size().sort_values(ascending=False)[(-1)*N_LESS_REPRESENTED_LABELS:].index)], x='Label')\n",
        "plt.xticks(rotation=45)"
      ]
    },
    {
      "cell_type": "markdown",
      "metadata": {
        "id": "B0eln0r6yxbn"
      },
      "source": [
        "### Estatísticas dos dados"
      ]
    },
    {
      "cell_type": "code",
      "execution_count": 28,
      "metadata": {
        "id": "HL6p6K2Prnr_"
      },
      "outputs": [
        {
          "data": {
            "text/html": [
              "<div>\n",
              "<style scoped>\n",
              "    .dataframe tbody tr th:only-of-type {\n",
              "        vertical-align: middle;\n",
              "    }\n",
              "\n",
              "    .dataframe tbody tr th {\n",
              "        vertical-align: top;\n",
              "    }\n",
              "\n",
              "    .dataframe thead th {\n",
              "        text-align: right;\n",
              "    }\n",
              "</style>\n",
              "<table border=\"1\" class=\"dataframe\">\n",
              "  <thead>\n",
              "    <tr style=\"text-align: right;\">\n",
              "      <th></th>\n",
              "      <th>Flow Duration</th>\n",
              "      <th>Flow Bytes/s</th>\n",
              "      <th>Total Fwd Packets</th>\n",
              "      <th>Average Packet Size</th>\n",
              "      <th>SYN Flag Count</th>\n",
              "    </tr>\n",
              "  </thead>\n",
              "  <tbody>\n",
              "    <tr>\n",
              "      <th>count</th>\n",
              "      <td>2.522009e+06</td>\n",
              "      <td>2.522009e+06</td>\n",
              "      <td>2.522009e+06</td>\n",
              "      <td>2.522009e+06</td>\n",
              "      <td>2.522009e+06</td>\n",
              "    </tr>\n",
              "    <tr>\n",
              "      <th>mean</th>\n",
              "      <td>1.658364e+07</td>\n",
              "      <td>2.404467e+06</td>\n",
              "      <td>1.027750e+01</td>\n",
              "      <td>2.123412e+02</td>\n",
              "      <td>4.874487e-02</td>\n",
              "    </tr>\n",
              "    <tr>\n",
              "      <th>std</th>\n",
              "      <td>3.522618e+07</td>\n",
              "      <td>5.254864e+07</td>\n",
              "      <td>7.942294e+02</td>\n",
              "      <td>3.454504e+02</td>\n",
              "      <td>2.153342e-01</td>\n",
              "    </tr>\n",
              "    <tr>\n",
              "      <th>min</th>\n",
              "      <td>-1.300000e+01</td>\n",
              "      <td>-2.610000e+08</td>\n",
              "      <td>1.000000e+00</td>\n",
              "      <td>0.000000e+00</td>\n",
              "      <td>0.000000e+00</td>\n",
              "    </tr>\n",
              "    <tr>\n",
              "      <th>25%</th>\n",
              "      <td>2.080000e+02</td>\n",
              "      <td>1.194510e+02</td>\n",
              "      <td>2.000000e+00</td>\n",
              "      <td>9.000000e+00</td>\n",
              "      <td>0.000000e+00</td>\n",
              "    </tr>\n",
              "    <tr>\n",
              "      <th>50%</th>\n",
              "      <td>5.058700e+04</td>\n",
              "      <td>3.722028e+03</td>\n",
              "      <td>2.000000e+00</td>\n",
              "      <td>8.075000e+01</td>\n",
              "      <td>0.000000e+00</td>\n",
              "    </tr>\n",
              "    <tr>\n",
              "      <th>75%</th>\n",
              "      <td>5.330376e+06</td>\n",
              "      <td>1.079162e+05</td>\n",
              "      <td>6.000000e+00</td>\n",
              "      <td>1.796923e+02</td>\n",
              "      <td>0.000000e+00</td>\n",
              "    </tr>\n",
              "    <tr>\n",
              "      <th>max</th>\n",
              "      <td>1.200000e+08</td>\n",
              "      <td>2.071000e+09</td>\n",
              "      <td>2.197590e+05</td>\n",
              "      <td>3.893333e+03</td>\n",
              "      <td>1.000000e+00</td>\n",
              "    </tr>\n",
              "  </tbody>\n",
              "</table>\n",
              "</div>"
            ],
            "text/plain": [
              "       Flow Duration  Flow Bytes/s  Total Fwd Packets  Average Packet Size  \\\n",
              "count   2.522009e+06  2.522009e+06       2.522009e+06         2.522009e+06   \n",
              "mean    1.658364e+07  2.404467e+06       1.027750e+01         2.123412e+02   \n",
              "std     3.522618e+07  5.254864e+07       7.942294e+02         3.454504e+02   \n",
              "min    -1.300000e+01 -2.610000e+08       1.000000e+00         0.000000e+00   \n",
              "25%     2.080000e+02  1.194510e+02       2.000000e+00         9.000000e+00   \n",
              "50%     5.058700e+04  3.722028e+03       2.000000e+00         8.075000e+01   \n",
              "75%     5.330376e+06  1.079162e+05       6.000000e+00         1.796923e+02   \n",
              "max     1.200000e+08  2.071000e+09       2.197590e+05         3.893333e+03   \n",
              "\n",
              "       SYN Flag Count  \n",
              "count    2.522009e+06  \n",
              "mean     4.874487e-02  \n",
              "std      2.153342e-01  \n",
              "min      0.000000e+00  \n",
              "25%      0.000000e+00  \n",
              "50%      0.000000e+00  \n",
              "75%      0.000000e+00  \n",
              "max      1.000000e+00  "
            ]
          },
          "execution_count": 28,
          "metadata": {},
          "output_type": "execute_result"
        }
      ],
      "source": [
        "interesting_cols = ['Flow Duration', 'Flow Bytes/s', 'Total Fwd Packets', 'Average Packet Size', 'SYN Flag Count']\n",
        "df[interesting_cols].describe()"
      ]
    },
    {
      "cell_type": "markdown",
      "metadata": {
        "id": "dBSel8WouIw_"
      },
      "source": [
        "# Dividindo dados nos conjuntos de treino, validação e teste"
      ]
    },
    {
      "cell_type": "markdown",
      "metadata": {
        "id": "RHnMjHT8hAU1"
      },
      "source": [
        "**Conjunto de treino**\n",
        "\n",
        "Para a detecção de anomalias, vamos usar somente os dados que representam o tráfego benigno para o conjunto de treino. Dessa forma, os algoritmos de clustering vão ser capazes de identificar padrões e desvios em relação ao comportamento normal (benigno) dos dados.\n",
        "\n",
        "**Conjuntos de validação e teste**\n",
        "\n",
        "Porém, devem ser incluídos dados que representam o tráfego maliciosos nos conjuntos de validação e teste. Esses dados maliciosos no conjunto de validação são importantes para que possamos definir um *threshold* para que seja possível detectar anomalias. Além disso, os dados maliciosos também precisam ser incluídos no conjunto de teste para que possamos avaliar o desempenho do nosso modelo."
      ]
    },
    {
      "cell_type": "code",
      "execution_count": 29,
      "metadata": {
        "id": "uI9aRuHROEjH"
      },
      "outputs": [],
      "source": [
        "df_train = df.query('Label == \"BENIGN\"').sample(frac=0.6, random_state=RANDOM_SEED)\n",
        "df_val_test = df.drop(df_train.index)\n",
        "\n",
        "df_train = df_train.reset_index(drop=True)\n",
        "df_val_test = df_val_test.reset_index(drop=True)\n",
        "\n",
        "X_train = df_train.drop('Label', axis='columns')"
      ]
    },
    {
      "cell_type": "code",
      "execution_count": 30,
      "metadata": {
        "id": "EZLGwSvtym8X"
      },
      "outputs": [],
      "source": [
        "X_val, X_test, classes_val, classes_test = train_test_split(df_val_test.drop('Label', axis='columns'), df_val_test['Label'], test_size=0.65, stratify=df_val_test['Label'], random_state=RANDOM_SEED)\n",
        "\n",
        "X_val, X_test = X_val.reset_index(drop=True), X_test.reset_index(drop=True)\n",
        "classes_val, classes_test =  classes_val.reset_index(drop=True), classes_test.reset_index(drop=True)\n",
        "\n",
        "y_val, y_test = classes_val.apply(lambda c: 0 if c == 'BENIGN' else 1), classes_test.apply(lambda c: 0 if c == 'BENIGN' else 1)"
      ]
    },
    {
      "cell_type": "code",
      "execution_count": 31,
      "metadata": {
        "id": "lFUayxFK7YLr"
      },
      "outputs": [],
      "source": [
        "del df_train, df_val_test"
      ]
    },
    {
      "cell_type": "markdown",
      "metadata": {
        "id": "nrKKFKiM28S2"
      },
      "source": [
        "# Analisando correlação entre features"
      ]
    },
    {
      "cell_type": "markdown",
      "metadata": {
        "id": "t7GUkxzw0QuI"
      },
      "source": [
        "**Por que remover features?**"
      ]
    },
    {
      "cell_type": "markdown",
      "metadata": {
        "id": "-V25pTEPoVFF"
      },
      "source": [
        "Vamos descartar features com alta correlação evitando passar informações redundantes ao modelo. Dessa forma, conseguiremos obter um modelo mais simples e com menor custo computacional."
      ]
    },
    {
      "cell_type": "code",
      "execution_count": 32,
      "metadata": {
        "id": "nH8iWIvI8vwu"
      },
      "outputs": [],
      "source": [
        "def get_highly_correlated_features(correlation_matrix, threshold):\n",
        "  correlated_pairs = []\n",
        "  for i in range(len(correlation_matrix.columns)):\n",
        "    for j in range(i):\n",
        "      if abs(correlation_matrix.iloc[i, j]) > threshold:\n",
        "        pair = (correlation_matrix.columns[i], correlation_matrix.columns[j])\n",
        "        coefficient = correlation_matrix.iloc[i, j]\n",
        "        correlated_pairs.append((pair, coefficient))\n",
        "  return sorted(correlated_pairs, key= lambda pair: pair[1], reverse=True)\n"
      ]
    },
    {
      "cell_type": "code",
      "execution_count": 33,
      "metadata": {
        "id": "lYL301wA8msm"
      },
      "outputs": [],
      "source": [
        "corr_matrix = X_train.corr().abs()\n",
        "correlation_list = get_highly_correlated_features(corr_matrix, 0.95)"
      ]
    },
    {
      "cell_type": "code",
      "execution_count": 34,
      "metadata": {
        "id": "k6cC1a08B4Eh"
      },
      "outputs": [
        {
          "data": {
            "text/plain": [
              "[(('Avg Bwd Segment Size', 'Bwd Packet Length Mean'), 1.0000000000000002),\n",
              " (('SYN Flag Count', 'Fwd PSH Flags'), 1.0),\n",
              " (('CWE Flag Count', 'Fwd URG Flags'), 1.0),\n",
              " (('Avg Fwd Segment Size', 'Fwd Packet Length Mean'), 1.0),\n",
              " (('Fwd Header Length.1', 'Fwd Header Length'), 1.0),\n",
              " (('Subflow Fwd Packets', 'Total Fwd Packets'), 1.0),\n",
              " (('Subflow Fwd Bytes', 'Total Length of Fwd Packets'), 1.0),\n",
              " (('Subflow Bwd Packets', 'Total Backward Packets'), 1.0),\n",
              " (('Subflow Bwd Bytes', 'Total Length of Bwd Packets'), 0.9999998619402976),\n",
              " (('Subflow Fwd Packets', 'Total Backward Packets'), 0.9991954734499192)]"
            ]
          },
          "execution_count": 34,
          "metadata": {},
          "output_type": "execute_result"
        }
      ],
      "source": [
        "correlation_list[:10]"
      ]
    },
    {
      "cell_type": "code",
      "execution_count": 35,
      "metadata": {
        "id": "PMe5PnY0-ACu"
      },
      "outputs": [],
      "source": [
        "# Drop high correlated features in correlation list\n",
        "\n",
        "f2drop = []\n",
        "for feature_pair, _ in correlation_list:\n",
        "  if feature_pair[0] not in f2drop and feature_pair[1] not in f2drop:\n",
        "    f2drop.append(feature_pair[1])"
      ]
    },
    {
      "cell_type": "code",
      "execution_count": 36,
      "metadata": {
        "id": "RKzy0I0iDgE8"
      },
      "outputs": [
        {
          "data": {
            "text/plain": [
              "['Bwd Packet Length Mean',\n",
              " 'Fwd PSH Flags',\n",
              " 'Fwd URG Flags',\n",
              " 'Fwd Packet Length Mean',\n",
              " 'Fwd Header Length',\n",
              " 'Total Fwd Packets',\n",
              " 'Total Length of Fwd Packets',\n",
              " 'Total Backward Packets',\n",
              " 'Total Length of Bwd Packets',\n",
              " 'Subflow Fwd Packets',\n",
              " 'Flow Duration',\n",
              " 'RST Flag Count',\n",
              " 'Subflow Bwd Packets',\n",
              " 'Packet Length Mean',\n",
              " 'Flow IAT Max',\n",
              " 'Idle Mean',\n",
              " 'Fwd IAT Total',\n",
              " 'Fwd Packet Length Max',\n",
              " 'Max Packet Length',\n",
              " 'Bwd IAT Max',\n",
              " 'Bwd IAT Mean',\n",
              " 'Fwd IAT Max',\n",
              " 'Fwd IAT Mean',\n",
              " 'Idle Max']"
            ]
          },
          "execution_count": 36,
          "metadata": {},
          "output_type": "execute_result"
        }
      ],
      "source": [
        "f2drop"
      ]
    },
    {
      "cell_type": "markdown",
      "metadata": {
        "id": "czgiFCHwppTO"
      },
      "source": [
        "A feature \"Destination Port\", também não fornece muita contribuição devido que a mesma está codificada com valores inteiros, indicando uma relação de grandeza, como 44720 > 80, que não apresenta sentido semântico quando se trata da porta de destino de um fluxo de rede."
      ]
    },
    {
      "cell_type": "code",
      "execution_count": 37,
      "metadata": {
        "id": "GI1Njd7Sd0zo"
      },
      "outputs": [],
      "source": [
        "f2drop = f2drop + ['Destination Port']"
      ]
    },
    {
      "cell_type": "code",
      "execution_count": 38,
      "metadata": {
        "id": "ZqW_NURpDqwy"
      },
      "outputs": [],
      "source": [
        "X_train = X_train.drop(f2drop, axis='columns')\n",
        "X_val = X_val.drop(f2drop, axis='columns')\n",
        "X_test = X_test.drop(f2drop, axis='columns')"
      ]
    },
    {
      "cell_type": "markdown",
      "metadata": {
        "id": "W0RcHdTfegSU"
      },
      "source": [
        "# Normalizando os dados"
      ]
    },
    {
      "cell_type": "markdown",
      "metadata": {
        "id": "29Tl1aiBqUpP"
      },
      "source": [
        "É importante normalizar os dados para lidar com diferentes escalas, sensibilidades a escalas e até mesmo melhorar o desempenho da convergência dos algoritmos.\n",
        "\n",
        "Caso não seja realizada a normalização, um valor de 10000 para uma feature como \"Flow Bytes/s\" terá impacto similar ao modelo quanto um valor de 10000 para uma feature como \"Flow Packets/s\". Isso é prejudicial, pois o impacto desse valor para as duas features deve ser tratado de forma distinta, já que as mesmas têm escalas e sensibilidades também distintas."
      ]
    },
    {
      "cell_type": "code",
      "execution_count": 39,
      "metadata": {
        "id": "AgqH-xSneE_1"
      },
      "outputs": [],
      "source": [
        "minmax_scaler = MinMaxScaler()\n",
        "minmax_scaler = minmax_scaler.fit(X_train)\n",
        "\n",
        "norm_X_train = minmax_scaler.transform(X_train)\n",
        "norm_X_val = minmax_scaler.transform(X_val)\n",
        "norm_X_test = minmax_scaler.transform(X_test)"
      ]
    },
    {
      "cell_type": "code",
      "execution_count": 40,
      "metadata": {
        "id": "chbylf5G05mj"
      },
      "outputs": [],
      "source": [
        "del X_train, X_val, X_test"
      ]
    },
    {
      "cell_type": "markdown",
      "metadata": {
        "id": "yAlL-F5NnxGg"
      },
      "source": [
        "# Detecção de Anomalias com Autoencoders"
      ]
    },
    {
      "cell_type": "markdown",
      "metadata": {
        "id": "-N9Z2na54E2g"
      },
      "source": [
        "## Autoencoder - Explicação\n",
        "\n",
        "<div align=\"center\">\n",
        "\n",
        "![Autoencoder](https://tikz.net/janosh/autoencoder.png)\n",
        "</div>\n",
        "\n",
        "Um autoencoder é uma arquitetura de rede neural que aprende a codificar dados em uma representação compacta, chamada de espaço latente, e então reconstruir os dados a partir dessa representação. Ele consiste em duas partes principais: o encoder, que mapeia os dados de entrada para o espaço latente, e o decoder, que reconstrói os dados a partir dessa representação. A ideia central é forçar o modelo a aprender uma representação eficiente e informativa dos dados de entrada.\n",
        "\n",
        "Os autoencoders são frequentemente usados para tarefas de redução de dimensionalidade e denoising. No entanto, eles também são aplicáveis à detecção de anomalias. A lógica é que um autoencoder treinado em dados normais aprenderá a representação latente desses dados, e quando apresentado com dados anômalos que diferem significativamente dos dados normais, a reconstrução será prejudicada, levando a um erro de reconstrução maior."
      ]
    },
    {
      "cell_type": "markdown",
      "metadata": {
        "id": "lkQLmH5GBn6d"
      },
      "source": [
        "## Relembrando o processo de treinamento de redes neurais - Backpropagation\n",
        "\n",
        "<div align=\"center\">\n",
        "\n",
        "![Backpropagation](https://miro.medium.com/v2/resize:fit:640/format:webp/1*VF9xl3cZr2_qyoLfDJajZw.gif)\n",
        "</div>"
      ]
    },
    {
      "cell_type": "markdown",
      "metadata": {
        "id": "4QunZkF0Q9KM"
      },
      "source": [
        "## Mecanismo de Early Stopping"
      ]
    },
    {
      "cell_type": "markdown",
      "metadata": {
        "id": "5Yk_8FtDX61T"
      },
      "source": [
        "\n",
        "<div align=\"center\">\n",
        "\n",
        "![Early stopping](https://www.researchgate.net/publication/356747729/figure/fig3/AS:1098404738408449@1638891505126/Early-stopping-training-is-stopped-as-soon-as-the-performance-on-the-validation-loss.jpg)\n",
        "</div>\n",
        "\n",
        "O mecanismo de Early Stopping é uma técnica usada durante o treinamento de redes neurais para evitar overfitting e melhorar a eficiência do modelo. O objetivo é interromper o treinamento assim que a performance do modelo em um conjunto de validação começa a piorar, em vez de continuar até que o desempenho no conjunto de treinamento seja perfeito.\n",
        "\n",
        "O mesmo inclui usa dos seguintes argumentos para definir um critério de parada:\n",
        "- **paciência**: Quantidade de épocas limite para esperar melhoria na loss de validação\n",
        "- **delta**: Melhoria mínina necessária para atualizar uma loss de validação"
      ]
    },
    {
      "cell_type": "code",
      "execution_count": 41,
      "metadata": {
        "id": "-vgQDJed7JF_"
      },
      "outputs": [],
      "source": [
        "# Implementação do Early Stopping\n",
        "class EarlyStopping:\n",
        "  def __init__(self, patience=7, delta=0, verbose=True, path='checkpoint.pt'):\n",
        "      self.patience = patience\n",
        "      self.delta = delta\n",
        "      self.verbose = verbose\n",
        "      self.counter = 0\n",
        "      self.early_stop = False\n",
        "      self.val_min_loss = np.Inf\n",
        "      self.path = path\n",
        "\n",
        "  def __call__(self, val_loss, model):\n",
        "    if val_loss < self.val_min_loss - self.delta:   # Caso a loss da validação reduza, vamos salvar o modelo e nova loss mínima\n",
        "      self.save_checkpoint(val_loss, model)\n",
        "      self.counter = 0\n",
        "    else:                                           # Caso a loss da validação NÃO reduza, vamos incrementar o contador da paciencia\n",
        "      self.counter += 1\n",
        "      print(f'EarlyStopping counter: {self.counter} out of {self.patience}. Current validation loss: {val_loss:.5f}')\n",
        "      if self.counter >= self.patience:\n",
        "          self.early_stop = True\n",
        "\n",
        "  def save_checkpoint(self, val_loss, model):\n",
        "    if self.verbose:\n",
        "        print(f'Validation loss decreased ({self.val_min_loss:.5f} --> {val_loss:.5f}).  Saving model ...')\n",
        "    torch.save(model, self.path)\n",
        "    self.val_min_loss = val_loss"
      ]
    },
    {
      "cell_type": "markdown",
      "metadata": {
        "id": "qQNY5tphRAQg"
      },
      "source": [
        "## Autoencoder - Implementação"
      ]
    },
    {
      "cell_type": "code",
      "execution_count": 42,
      "metadata": {
        "id": "iP-tDDAFM2Az"
      },
      "outputs": [],
      "source": [
        "# Implementação do Autoencoder\n",
        "class Autoencoder(nn.Module):\n",
        "  def __init__(self, in_features, dropout_rate=0.2, num_layers=6, init_layer_size=30, mod_en_layer_size=10, mltpli_f=False):\n",
        "    super().__init__()\n",
        "\n",
        "    self.in_features = in_features\n",
        "    self.dropout_rate = dropout_rate\n",
        "    self.early_stopping = None\n",
        "    self.num_layers = num_layers\n",
        "    self.init_layer_size = init_layer_size\n",
        "    self.mltpli_f = mltpli_f\n",
        "\n",
        "    encoder_layers = [] # Lista para armazenar as camadas do encoder\n",
        "\n",
        "    # Adiciona camadas ao encoder\n",
        "    for i in range(num_layers//2):\n",
        "        if i == 0:\n",
        "            encoder_layers.append(nn.Linear(in_features, init_layer_size))\n",
        "            layer_size = init_layer_size\n",
        "            encoder_layers.append(nn.BatchNorm1d(layer_size))\n",
        "            encoder_layers.append(nn.ReLU())\n",
        "            encoder_layers.append(nn.Dropout(dropout_rate))\n",
        "        elif i == (num_layers//2 - 1):\n",
        "            if mltpli_f == True:\n",
        "                encoder_layers.append(nn.Linear(layer_size, int(layer_size*mod_en_layer_size)))\n",
        "                final_en_layer_size = int(layer_size*mod_en_layer_size)\n",
        "            elif mltpli_f == False:\n",
        "                encoder_layers.append(nn.Linear(layer_size, int(layer_size-mod_en_layer_size)))\n",
        "                final_en_layer_size = int(layer_size-mod_en_layer_size)\n",
        "            encoder_layers.append(nn.BatchNorm1d(final_en_layer_size))\n",
        "            encoder_layers.append(nn.ReLU())\n",
        "        else:\n",
        "            if mltpli_f == True:\n",
        "                encoder_layers.append(nn.Linear(layer_size, int(layer_size*mod_en_layer_size)))\n",
        "                layer_size = int(layer_size*mod_en_layer_size)\n",
        "            elif mltpli_f == False:\n",
        "                encoder_layers.append(nn.Linear(layer_size, int(layer_size-mod_en_layer_size)))\n",
        "                layer_size = int(layer_size-mod_en_layer_size)\n",
        "            encoder_layers.append(nn.BatchNorm1d(layer_size))\n",
        "            encoder_layers.append(nn.ReLU())\n",
        "            encoder_layers.append(nn.Dropout(dropout_rate))\n",
        "\n",
        "    self.encoder = nn.Sequential(*encoder_layers) # Define o encoder como uma sequência\n",
        "\n",
        "    \n",
        "    decoder_layers = [] # Lista para armazenar as camadas do decoder\n",
        "\n",
        "    if mltpli_f == True:\n",
        "        mod_de_layer_size = 1/mod_en_layer_size # Inverte o multiplicador\n",
        "    elif mltpli_f == False:\n",
        "        mod_de_layer_size = -(mod_en_layer_size)\n",
        "\n",
        "    # Adiciona camadas ao decoder\n",
        "    for i in range(num_layers//2):\n",
        "        if i == 0:\n",
        "            if mltpli_f == True:\n",
        "                decoder_layers.append(nn.Linear(final_en_layer_size, math.ceil(int(final_en_layer_size*mod_de_layer_size))))\n",
        "                layer_size = math.ceil(int(final_en_layer_size*mod_de_layer_size))\n",
        "            elif mltpli_f == False:\n",
        "                decoder_layers.append(nn.Linear(final_en_layer_size, math.ceil(int(final_en_layer_size-mod_de_layer_size))))\n",
        "                layer_size = math.ceil(int(final_en_layer_size-mod_de_layer_size))\n",
        "            decoder_layers.append(nn.BatchNorm1d(layer_size))  \n",
        "            decoder_layers.append(nn.ReLU())\n",
        "            decoder_layers.append(nn.Dropout(dropout_rate))\n",
        "        elif i == (num_layers//2 - 1):\n",
        "            decoder_layers.append(nn.Linear(layer_size, in_features)) \n",
        "            decoder_layers.append(nn.BatchNorm1d(in_features))  \n",
        "            decoder_layers.append(nn.Sigmoid())\n",
        "        else:\n",
        "            if mltpli_f == True:\n",
        "                decoder_layers.append(nn.Linear(layer_size, math.ceil(int(layer_size*mod_de_layer_size))))\n",
        "                layer_size = math.ceil(int(layer_size*mod_de_layer_size))\n",
        "            elif mltpli_f == False:\n",
        "                decoder_layers.append(nn.Linear(layer_size, math.ceil(int(layer_size-mod_de_layer_size))))\n",
        "                layer_size = math.ceil(int(layer_size-mod_de_layer_size))\n",
        "            decoder_layers.append(nn.BatchNorm1d(layer_size))\n",
        "            decoder_layers.append(nn.ReLU())\n",
        "            decoder_layers.append(nn.Dropout(dropout_rate))\n",
        "\n",
        "\n",
        "    # Define o decoder como uma sequência\n",
        "    self.decoder = nn.Sequential(*decoder_layers)\n",
        "\n",
        "    print(self.encoder)\n",
        "    print(self.decoder)\n",
        "\n",
        "  def forward(self, X):\n",
        "    encoded = self.encoder(X)\n",
        "    decoded = self.decoder(encoded)\n",
        "    return decoded\n",
        "\n",
        "  def compile(self, learning_rate):\n",
        "    self.criterion = nn.MSELoss()\n",
        "    self.optimizer = optim.Adam(self.parameters(), lr = learning_rate)\n",
        "\n",
        "  def fit(self, X_train, num_epochs, batch_size, X_val = None, patience = None, delta = None):\n",
        "    if X_val is not None and patience is not None and delta is not None:\n",
        "      print(f'Using early stopping with patience={patience} and delta={delta}')\n",
        "      self.early_stopping = EarlyStopping(patience, delta)\n",
        "\n",
        "    val_avg_losses = []\n",
        "    train_avg_losses = []\n",
        "\n",
        "    for epoch in range(num_epochs):\n",
        "      # Calibrando os pesos do modelo\n",
        "      train_losses = []\n",
        "      self.train()\n",
        "      for batch in tqdm(range(0, len(X_train), batch_size)):\n",
        "        batch_X = X_train[batch:(batch+batch_size)]\n",
        "        batch_reconstruction = self.forward(batch_X)\n",
        "\n",
        "        train_loss = self.criterion(batch_reconstruction, batch_X)\n",
        "        self.optimizer.zero_grad()\n",
        "        train_loss.backward()\n",
        "        self.optimizer.step()\n",
        "        train_losses.append(train_loss.item())\n",
        "      train_avg_loss = np.mean(train_losses)\n",
        "      train_avg_losses.append(train_avg_loss)\n",
        "      print(f'Epoch#{epoch+1}: Train Average Loss = {train_avg_loss:.5f}')\n",
        "\n",
        "      # Mecanismo de early stopping\n",
        "      if self.early_stopping is not None:\n",
        "        val_losses = []\n",
        "        self.eval()\n",
        "        with torch.no_grad():\n",
        "          for batch in range(0, len(X_val), batch_size):\n",
        "            batch_X = X_val[batch:(batch+batch_size)]\n",
        "            batch_reconstruction = self.forward(batch_X)\n",
        "            val_loss = self.criterion(batch_reconstruction, batch_X)\n",
        "            val_losses.append(val_loss.item())\n",
        "        val_avg_loss = np.mean(val_losses)\n",
        "        val_avg_losses.append(val_avg_loss)\n",
        "        self.early_stopping(val_avg_loss, self)\n",
        "        if self.early_stopping.early_stop:\n",
        "          print(f'Stopped by early stopping at epoch {epoch+1}')\n",
        "          break\n",
        "\n",
        "    if self.early_stopping is not None:\n",
        "      self = torch.load('checkpoint.pt')\n",
        "    self.eval()\n",
        "    return train_avg_losses, val_avg_losses"
      ]
    },
    {
      "cell_type": "code",
      "execution_count": 43,
      "metadata": {
        "id": "kuWULak3W34S"
      },
      "outputs": [],
      "source": [
        "BATCH_SIZE = 256\n",
        "LR = 5e-4\n",
        "PATIENCE = 2\n",
        "DELTA = 0.001\n",
        "NUM_EPOCHS = 3\n",
        "IN_FEATURES = norm_X_train.shape[1]\n",
        "DROPOUT_RATE = 0.2\n",
        "NUM_LAYERS = 6 # Digite um número par, se for ímpar será truncado para baixo. Será simétrico, ou seja, metade pro encoder e metade pro decoder. OBSERVAÇÃO: A camada \"do meio\"(a que separa o encoder do decoder) conta duas vezes\n",
        "INITIAL_LAYER_SIZE = 30 # Tamanho da primeira camada do encoder(não conta com a camada de entrada)\n",
        "MULTIPLIER_FLAG = False # Flag para dizer se o MOD_ENCODE_LAYER_SIZE será um multiplicador ou um valor para subtrair, no caso do encoder\n",
        "MOD_ENCODE_LAYER_SIZE = 10 # Número usado para diminuir e aumentar a quantidade de camadas a partir do INITIAL_LAYER_SIZE, lembrando, o tamanho das camadas sempre tem que ser um inteiro, então, valores quebrados no encoder são truncados pra baixo, e no decoder são truncados pra cima(ceil). Exemplo: Se o valor for 0.5 e for um multiplicador, o encoder vai diminuir a quantidade de neurônios pela metade em cada camada do encoder, e vai dobrar em cada camada do decoder"
      ]
    },
    {
      "cell_type": "code",
      "execution_count": 44,
      "metadata": {
        "id": "pHbt1yiIPLKC"
      },
      "outputs": [
        {
          "name": "stdout",
          "output_type": "stream",
          "text": [
            "Sequential(\n",
            "  (0): Linear(in_features=53, out_features=30, bias=True)\n",
            "  (1): BatchNorm1d(30, eps=1e-05, momentum=0.1, affine=True, track_running_stats=True)\n",
            "  (2): ReLU()\n",
            "  (3): Dropout(p=0.2, inplace=False)\n",
            "  (4): Linear(in_features=30, out_features=20, bias=True)\n",
            "  (5): BatchNorm1d(20, eps=1e-05, momentum=0.1, affine=True, track_running_stats=True)\n",
            "  (6): ReLU()\n",
            "  (7): Dropout(p=0.2, inplace=False)\n",
            "  (8): Linear(in_features=20, out_features=10, bias=True)\n",
            "  (9): BatchNorm1d(10, eps=1e-05, momentum=0.1, affine=True, track_running_stats=True)\n",
            "  (10): ReLU()\n",
            ")\n",
            "Sequential(\n",
            "  (0): Linear(in_features=10, out_features=20, bias=True)\n",
            "  (1): BatchNorm1d(20, eps=1e-05, momentum=0.1, affine=True, track_running_stats=True)\n",
            "  (2): ReLU()\n",
            "  (3): Dropout(p=0.2, inplace=False)\n",
            "  (4): Linear(in_features=20, out_features=30, bias=True)\n",
            "  (5): BatchNorm1d(30, eps=1e-05, momentum=0.1, affine=True, track_running_stats=True)\n",
            "  (6): ReLU()\n",
            "  (7): Dropout(p=0.2, inplace=False)\n",
            "  (8): Linear(in_features=30, out_features=53, bias=True)\n",
            "  (9): BatchNorm1d(53, eps=1e-05, momentum=0.1, affine=True, track_running_stats=True)\n",
            "  (10): Sigmoid()\n",
            ")\n"
          ]
        }
      ],
      "source": [
        "ae_model = Autoencoder(IN_FEATURES, DROPOUT_RATE, NUM_LAYERS, INITIAL_LAYER_SIZE, MOD_ENCODE_LAYER_SIZE, MULTIPLIER_FLAG)\n",
        "ae_model.compile(learning_rate = LR)"
      ]
    },
    {
      "cell_type": "code",
      "execution_count": 45,
      "metadata": {
        "id": "WgcIwPvoPUK0"
      },
      "outputs": [
        {
          "name": "stdout",
          "output_type": "stream",
          "text": [
            "----------------------------------------------------------------\n",
            "        Layer (type)               Output Shape         Param #\n",
            "================================================================\n",
            "            Linear-1                   [-1, 30]           1,620\n",
            "       BatchNorm1d-2                   [-1, 30]              60\n",
            "              ReLU-3                   [-1, 30]               0\n",
            "           Dropout-4                   [-1, 30]               0\n",
            "            Linear-5                   [-1, 20]             620\n",
            "       BatchNorm1d-6                   [-1, 20]              40\n",
            "              ReLU-7                   [-1, 20]               0\n",
            "           Dropout-8                   [-1, 20]               0\n",
            "            Linear-9                   [-1, 10]             210\n",
            "      BatchNorm1d-10                   [-1, 10]              20\n",
            "             ReLU-11                   [-1, 10]               0\n",
            "           Linear-12                   [-1, 20]             220\n",
            "      BatchNorm1d-13                   [-1, 20]              40\n",
            "             ReLU-14                   [-1, 20]               0\n",
            "          Dropout-15                   [-1, 20]               0\n",
            "           Linear-16                   [-1, 30]             630\n",
            "      BatchNorm1d-17                   [-1, 30]              60\n",
            "             ReLU-18                   [-1, 30]               0\n",
            "          Dropout-19                   [-1, 30]               0\n",
            "           Linear-20                   [-1, 53]           1,643\n",
            "      BatchNorm1d-21                   [-1, 53]             106\n",
            "          Sigmoid-22                   [-1, 53]               0\n",
            "================================================================\n",
            "Total params: 5,269\n",
            "Trainable params: 5,269\n",
            "Non-trainable params: 0\n",
            "----------------------------------------------------------------\n",
            "Input size (MB): 0.00\n",
            "Forward/backward pass size (MB): 0.00\n",
            "Params size (MB): 0.02\n",
            "Estimated Total Size (MB): 0.02\n",
            "----------------------------------------------------------------\n"
          ]
        }
      ],
      "source": [
        "from torchsummary import summary\n",
        "summary(ae_model, (IN_FEATURES,))"
      ]
    },
    {
      "cell_type": "code",
      "execution_count": 46,
      "metadata": {
        "id": "2DHSNXDpW6zU"
      },
      "outputs": [
        {
          "data": {
            "application/vnd.jupyter.widget-view+json": {
              "model_id": "cbf98ecd82d740158fb8a4eea4a22820",
              "version_major": 2,
              "version_minor": 0
            },
            "text/plain": [
              "  0%|          | 0/4913 [00:00<?, ?it/s]"
            ]
          },
          "metadata": {},
          "output_type": "display_data"
        },
        {
          "name": "stdout",
          "output_type": "stream",
          "text": [
            "Epoch#1: Train Average Loss = 0.07993\n"
          ]
        },
        {
          "data": {
            "application/vnd.jupyter.widget-view+json": {
              "model_id": "7c17fe791bdf49bcb3e5c3be9897e984",
              "version_major": 2,
              "version_minor": 0
            },
            "text/plain": [
              "  0%|          | 0/4913 [00:00<?, ?it/s]"
            ]
          },
          "metadata": {},
          "output_type": "display_data"
        },
        {
          "name": "stdout",
          "output_type": "stream",
          "text": [
            "Epoch#2: Train Average Loss = 0.01177\n"
          ]
        },
        {
          "data": {
            "application/vnd.jupyter.widget-view+json": {
              "model_id": "4bff5d0535e34edc95c50fecf0b1f1cd",
              "version_major": 2,
              "version_minor": 0
            },
            "text/plain": [
              "  0%|          | 0/4913 [00:00<?, ?it/s]"
            ]
          },
          "metadata": {},
          "output_type": "display_data"
        },
        {
          "name": "stdout",
          "output_type": "stream",
          "text": [
            "Epoch#3: Train Average Loss = 0.00369\n"
          ]
        }
      ],
      "source": [
        "# Exemplo de treinamento sem utilizar Early Stopping\n",
        "\n",
        "train_avg_losses, _ = ae_model.fit(torch.FloatTensor(norm_X_train), NUM_EPOCHS, BATCH_SIZE)"
      ]
    },
    {
      "cell_type": "code",
      "execution_count": 47,
      "metadata": {
        "id": "1b2dMredGYgB"
      },
      "outputs": [
        {
          "name": "stdout",
          "output_type": "stream",
          "text": [
            "Sequential(\n",
            "  (0): Linear(in_features=53, out_features=30, bias=True)\n",
            "  (1): BatchNorm1d(30, eps=1e-05, momentum=0.1, affine=True, track_running_stats=True)\n",
            "  (2): ReLU()\n",
            "  (3): Dropout(p=0.2, inplace=False)\n",
            "  (4): Linear(in_features=30, out_features=20, bias=True)\n",
            "  (5): BatchNorm1d(20, eps=1e-05, momentum=0.1, affine=True, track_running_stats=True)\n",
            "  (6): ReLU()\n",
            "  (7): Dropout(p=0.2, inplace=False)\n",
            "  (8): Linear(in_features=20, out_features=10, bias=True)\n",
            "  (9): BatchNorm1d(10, eps=1e-05, momentum=0.1, affine=True, track_running_stats=True)\n",
            "  (10): ReLU()\n",
            ")\n",
            "Sequential(\n",
            "  (0): Linear(in_features=10, out_features=20, bias=True)\n",
            "  (1): BatchNorm1d(20, eps=1e-05, momentum=0.1, affine=True, track_running_stats=True)\n",
            "  (2): ReLU()\n",
            "  (3): Dropout(p=0.2, inplace=False)\n",
            "  (4): Linear(in_features=20, out_features=30, bias=True)\n",
            "  (5): BatchNorm1d(30, eps=1e-05, momentum=0.1, affine=True, track_running_stats=True)\n",
            "  (6): ReLU()\n",
            "  (7): Dropout(p=0.2, inplace=False)\n",
            "  (8): Linear(in_features=30, out_features=53, bias=True)\n",
            "  (9): BatchNorm1d(53, eps=1e-05, momentum=0.1, affine=True, track_running_stats=True)\n",
            "  (10): Sigmoid()\n",
            ")\n",
            "Using early stopping with patience=2 and delta=0.001\n"
          ]
        },
        {
          "data": {
            "application/vnd.jupyter.widget-view+json": {
              "model_id": "7b5b48c6a9b841799bea093189887aaa",
              "version_major": 2,
              "version_minor": 0
            },
            "text/plain": [
              "  0%|          | 0/4913 [00:00<?, ?it/s]"
            ]
          },
          "metadata": {},
          "output_type": "display_data"
        },
        {
          "name": "stdout",
          "output_type": "stream",
          "text": [
            "Epoch#1: Train Average Loss = 0.07975\n",
            "Validation loss decreased (inf --> 0.02980).  Saving model ...\n"
          ]
        },
        {
          "data": {
            "application/vnd.jupyter.widget-view+json": {
              "model_id": "4ddf11fcdc234d479d724428cdc19d8a",
              "version_major": 2,
              "version_minor": 0
            },
            "text/plain": [
              "  0%|          | 0/4913 [00:00<?, ?it/s]"
            ]
          },
          "metadata": {},
          "output_type": "display_data"
        },
        {
          "name": "stdout",
          "output_type": "stream",
          "text": [
            "Epoch#2: Train Average Loss = 0.01075\n",
            "Validation loss decreased (0.02980 --> 0.02356).  Saving model ...\n"
          ]
        },
        {
          "data": {
            "application/vnd.jupyter.widget-view+json": {
              "model_id": "49750e0b69da4f518deceda080a7c154",
              "version_major": 2,
              "version_minor": 0
            },
            "text/plain": [
              "  0%|          | 0/4913 [00:00<?, ?it/s]"
            ]
          },
          "metadata": {},
          "output_type": "display_data"
        },
        {
          "name": "stdout",
          "output_type": "stream",
          "text": [
            "Epoch#3: Train Average Loss = 0.00355\n",
            "Validation loss decreased (0.02356 --> 0.02195).  Saving model ...\n"
          ]
        },
        {
          "data": {
            "application/vnd.jupyter.widget-view+json": {
              "model_id": "709a457e6b704a9787606c02695bb523",
              "version_major": 2,
              "version_minor": 0
            },
            "text/plain": [
              "  0%|          | 0/4913 [00:00<?, ?it/s]"
            ]
          },
          "metadata": {},
          "output_type": "display_data"
        },
        {
          "name": "stdout",
          "output_type": "stream",
          "text": [
            "Epoch#4: Train Average Loss = 0.00274\n",
            "EarlyStopping counter: 1 out of 2. Current validation loss: 0.02146\n"
          ]
        },
        {
          "data": {
            "application/vnd.jupyter.widget-view+json": {
              "model_id": "f44f25994f6348e2899887e6c394daa6",
              "version_major": 2,
              "version_minor": 0
            },
            "text/plain": [
              "  0%|          | 0/4913 [00:00<?, ?it/s]"
            ]
          },
          "metadata": {},
          "output_type": "display_data"
        },
        {
          "name": "stdout",
          "output_type": "stream",
          "text": [
            "Epoch#5: Train Average Loss = 0.00250\n",
            "Validation loss decreased (0.02195 --> 0.02076).  Saving model ...\n"
          ]
        },
        {
          "data": {
            "application/vnd.jupyter.widget-view+json": {
              "model_id": "4cdfeff23ad34c67aef89330cc7360d3",
              "version_major": 2,
              "version_minor": 0
            },
            "text/plain": [
              "  0%|          | 0/4913 [00:00<?, ?it/s]"
            ]
          },
          "metadata": {},
          "output_type": "display_data"
        },
        {
          "name": "stdout",
          "output_type": "stream",
          "text": [
            "Epoch#6: Train Average Loss = 0.00239\n",
            "EarlyStopping counter: 1 out of 2. Current validation loss: 0.02032\n"
          ]
        },
        {
          "data": {
            "application/vnd.jupyter.widget-view+json": {
              "model_id": "4bc0960e4c4247d58383c1f8ce5d9d62",
              "version_major": 2,
              "version_minor": 0
            },
            "text/plain": [
              "  0%|          | 0/4913 [00:00<?, ?it/s]"
            ]
          },
          "metadata": {},
          "output_type": "display_data"
        },
        {
          "name": "stdout",
          "output_type": "stream",
          "text": [
            "Epoch#7: Train Average Loss = 0.00228\n",
            "EarlyStopping counter: 2 out of 2. Current validation loss: 0.02009\n",
            "Stopped by early stopping at epoch 7\n"
          ]
        }
      ],
      "source": [
        "# Exemplo de treinamento utilizando Early Stopping\n",
        "\n",
        "# Passo 1: Considerar apenas amostras benignas no conjunto de validação\n",
        "benign_norm_X_val = norm_X_val[y_val == 1]\n",
        "benign_norm_X_val = torch.FloatTensor(benign_norm_X_val)\n",
        "\n",
        "# Passo 2: Realizar treinamento do modelo\n",
        "NUM_EPOCHS = 10\n",
        "ae_model_with_es = Autoencoder(IN_FEATURES)\n",
        "ae_model_with_es.compile(learning_rate = LR)\n",
        "train_avg_losses, val_avg_losses = ae_model_with_es.fit(torch.FloatTensor(norm_X_train),\n",
        "                                                NUM_EPOCHS,\n",
        "                                                BATCH_SIZE,\n",
        "                                                X_val = benign_norm_X_val,\n",
        "                                                patience=PATIENCE,\n",
        "                                                delta=DELTA)"
      ]
    },
    {
      "cell_type": "markdown",
      "metadata": {
        "id": "GiG5lN-rZOBA"
      },
      "source": [
        "Abaixo podemos ver um gráfico que exibe as losses (perdas) de treino e validação ao longo das épocas de treinamento. As losses são medidas que indicam quão bem o modelo está aprendendo a tarefa específica para a qual foi treinado. Esse gráfico nos possibilita:\n",
        "\n",
        "- Acompanhar o treinamento\n",
        "- Detectar overfitting\n",
        "- Visualizar a convergência do modelo"
      ]
    },
    {
      "cell_type": "code",
      "execution_count": 48,
      "metadata": {
        "id": "tNqKLYA6LpSp"
      },
      "outputs": [
        {
          "data": {
            "image/png": "[encoded data removed]",
            "text/plain": [
              "<Figure size 640x480 with 1 Axes>"
            ]
          },
          "metadata": {},
          "output_type": "display_data"
        }
      ],
      "source": [
        "def plot_train_val_losses(train_avg_losses, val_avg_losses):\n",
        "  epochs = list(range(1, len(train_avg_losses)+1))\n",
        "  plt.plot(epochs, train_avg_losses, color='blue', label='Loss do treino')\n",
        "  plt.plot(epochs, val_avg_losses, color='orange', label='Loss da validação')\n",
        "  plt.title('Losses de treino e validação por época de treinamento')\n",
        "  plt.legend()\n",
        "\n",
        "plot_train_val_losses(train_avg_losses, val_avg_losses)"
      ]
    },
    {
      "cell_type": "markdown",
      "metadata": {
        "id": "nLg-YCjABdvU"
      },
      "source": [
        "# Definindo um threshold e avaliando resultados"
      ]
    },
    {
      "cell_type": "code",
      "execution_count": 49,
      "metadata": {
        "id": "2NE6rTsK0vg9"
      },
      "outputs": [],
      "source": [
        "def plot_roc_curve(y_true, y_score, max_fpr=1.0):\n",
        "  fpr, tpr, thresholds = roc_curve(y_true, y_score)\n",
        "  aucroc = roc_auc_score(y_true, y_score)\n",
        "  plt.plot(100*fpr[fpr < max_fpr], 100*tpr[fpr < max_fpr], label=f'ROC Curve (AUC = {aucroc:.4f})')\n",
        "  plt.xlim(-2,102)\n",
        "  plt.xlabel('FPR (%)')\n",
        "  plt.ylabel('TPR (%)')\n",
        "  plt.legend()\n",
        "  plt.title('ROC Curve and AUCROC')"
      ]
    },
    {
      "cell_type": "code",
      "execution_count": 50,
      "metadata": {
        "id": "UBeDUDwU3gp4"
      },
      "outputs": [],
      "source": [
        "def get_tpr_per_attack(y_labels, y_pred):\n",
        "  aux_df = pd.DataFrame({'Label':y_labels,'prediction':y_pred})\n",
        "  total_per_label = aux_df['Label'].value_counts().to_dict()\n",
        "  correct_predictions_per_label = aux_df.query('Label != \"BENIGN\" and prediction == True').groupby('Label').size().to_dict()\n",
        "  tpr_per_attack = {}\n",
        "  for attack_label, total in total_per_label.items():\n",
        "    if attack_label == 'BENIGN':\n",
        "      continue\n",
        "    tp = correct_predictions_per_label[attack_label] if attack_label in correct_predictions_per_label else 0\n",
        "    tpr = tp/total\n",
        "    tpr_per_attack[attack_label] = tpr\n",
        "  return tpr_per_attack"
      ]
    },
    {
      "cell_type": "code",
      "execution_count": 51,
      "metadata": {
        "id": "dX9dJWs3_6Vi"
      },
      "outputs": [],
      "source": [
        "def get_overall_metrics(y_true, y_pred):\n",
        "  tn, fp, fn, tp = confusion_matrix(y_true, y_pred).ravel()\n",
        "  acc = (tp+tn)/(tp+tn+fp+fn)\n",
        "  tpr = tp/(tp+fn)\n",
        "  fpr = fp/(fp+tn)\n",
        "  precision = tp/(tp+fp)\n",
        "  f1 = (2*tpr*precision)/(tpr+precision)\n",
        "  return {'acc':acc,'tpr':tpr,'fpr':fpr,'precision':precision,'f1-score':f1}"
      ]
    },
    {
      "cell_type": "code",
      "execution_count": 52,
      "metadata": {
        "id": "A196OkMmC_bI"
      },
      "outputs": [],
      "source": [
        "def plot_confusion_matrix(y_true, y_pred):\n",
        "  cm = confusion_matrix(y_true, y_pred)\n",
        "  group_counts = [f'{value:.0f}' for value in confusion_matrix(y_true, y_pred).ravel()]\n",
        "  group_percentages = [f'{value*100:.2f}%' for value in confusion_matrix(y_true, y_pred).ravel()/np.sum(cm)]\n",
        "  labels = [f'{v1}\\n{v2}' for v1, v2 in zip(group_counts, group_percentages)]\n",
        "  labels = np.array(labels).reshape(2,2)\n",
        "  sns.heatmap(cm, annot=labels, cmap='Oranges', xticklabels=['Predicted Benign', 'Predicted Malicious'], yticklabels=['Actual Benign', 'Actual Malicious'], fmt='')\n",
        "  return"
      ]
    },
    {
      "cell_type": "markdown",
      "metadata": {
        "id": "yD7PVp9NBvjF"
      },
      "source": [
        "## Conjunto de validação"
      ]
    },
    {
      "cell_type": "code",
      "execution_count": 53,
      "metadata": {
        "id": "dciHSubefA7H"
      },
      "outputs": [],
      "source": [
        "def get_autoencoder_anomaly_scores(ae_model, X):\n",
        "  X = torch.FloatTensor(X)\n",
        "  reconstructed_X = ae_model(X)\n",
        "  anomaly_scores = torch.mean(torch.pow(X - reconstructed_X, 2), axis=1).detach().numpy() # MSELoss\n",
        "  return anomaly_scores"
      ]
    },
    {
      "cell_type": "code",
      "execution_count": 54,
      "metadata": {
        "id": "bvj3-5WDusRM"
      },
      "outputs": [],
      "source": [
        "val_anomaly_scores = get_autoencoder_anomaly_scores(ae_model, norm_X_val)"
      ]
    },
    {
      "cell_type": "code",
      "execution_count": 55,
      "metadata": {
        "id": "dxBeh1EZ0Mz-"
      },
      "outputs": [
        {
          "data": {
            "image/png": "[encoded data removed]",
            "text/plain": [
              "<Figure size 640x480 with 1 Axes>"
            ]
          },
          "metadata": {},
          "output_type": "display_data"
        }
      ],
      "source": [
        "plot_roc_curve(y_val, val_anomaly_scores)"
      ]
    },
    {
      "cell_type": "code",
      "execution_count": 56,
      "metadata": {
        "id": "znZDcdRWxeEu"
      },
      "outputs": [
        {
          "data": {
            "text/html": [
              "<div>\n",
              "<style scoped>\n",
              "    .dataframe tbody tr th:only-of-type {\n",
              "        vertical-align: middle;\n",
              "    }\n",
              "\n",
              "    .dataframe tbody tr th {\n",
              "        vertical-align: top;\n",
              "    }\n",
              "\n",
              "    .dataframe thead th {\n",
              "        text-align: right;\n",
              "    }\n",
              "</style>\n",
              "<table border=\"1\" class=\"dataframe\">\n",
              "  <thead>\n",
              "    <tr style=\"text-align: right;\">\n",
              "      <th></th>\n",
              "      <th>fpr</th>\n",
              "      <th>tpr</th>\n",
              "      <th>thresholds</th>\n",
              "      <th>youden-index</th>\n",
              "    </tr>\n",
              "  </thead>\n",
              "  <tbody>\n",
              "    <tr>\n",
              "      <th>7591</th>\n",
              "      <td>0.026130</td>\n",
              "      <td>0.513773</td>\n",
              "      <td>0.017357</td>\n",
              "      <td>0.487644</td>\n",
              "    </tr>\n",
              "    <tr>\n",
              "      <th>7593</th>\n",
              "      <td>0.026140</td>\n",
              "      <td>0.513780</td>\n",
              "      <td>0.017348</td>\n",
              "      <td>0.487640</td>\n",
              "    </tr>\n",
              "    <tr>\n",
              "      <th>7595</th>\n",
              "      <td>0.026160</td>\n",
              "      <td>0.513793</td>\n",
              "      <td>0.017340</td>\n",
              "      <td>0.487633</td>\n",
              "    </tr>\n",
              "    <tr>\n",
              "      <th>7589</th>\n",
              "      <td>0.026116</td>\n",
              "      <td>0.513747</td>\n",
              "      <td>0.017374</td>\n",
              "      <td>0.487630</td>\n",
              "    </tr>\n",
              "    <tr>\n",
              "      <th>7597</th>\n",
              "      <td>0.026171</td>\n",
              "      <td>0.513800</td>\n",
              "      <td>0.017334</td>\n",
              "      <td>0.487630</td>\n",
              "    </tr>\n",
              "    <tr>\n",
              "      <th>...</th>\n",
              "      <td>...</td>\n",
              "      <td>...</td>\n",
              "      <td>...</td>\n",
              "      <td>...</td>\n",
              "    </tr>\n",
              "    <tr>\n",
              "      <th>16</th>\n",
              "      <td>0.000014</td>\n",
              "      <td>0.014303</td>\n",
              "      <td>0.080443</td>\n",
              "      <td>0.014290</td>\n",
              "    </tr>\n",
              "    <tr>\n",
              "      <th>12</th>\n",
              "      <td>0.000010</td>\n",
              "      <td>0.008581</td>\n",
              "      <td>0.084706</td>\n",
              "      <td>0.008570</td>\n",
              "    </tr>\n",
              "    <tr>\n",
              "      <th>10</th>\n",
              "      <td>0.000007</td>\n",
              "      <td>0.007829</td>\n",
              "      <td>0.085147</td>\n",
              "      <td>0.007822</td>\n",
              "    </tr>\n",
              "    <tr>\n",
              "      <th>8</th>\n",
              "      <td>0.000003</td>\n",
              "      <td>0.007527</td>\n",
              "      <td>0.085471</td>\n",
              "      <td>0.007524</td>\n",
              "    </tr>\n",
              "    <tr>\n",
              "      <th>0</th>\n",
              "      <td>0.000000</td>\n",
              "      <td>0.000000</td>\n",
              "      <td>inf</td>\n",
              "      <td>0.000000</td>\n",
              "    </tr>\n",
              "  </tbody>\n",
              "</table>\n",
              "<p>3077 rows × 4 columns</p>\n",
              "</div>"
            ],
            "text/plain": [
              "           fpr       tpr  thresholds  youden-index\n",
              "7591  0.026130  0.513773    0.017357      0.487644\n",
              "7593  0.026140  0.513780    0.017348      0.487640\n",
              "7595  0.026160  0.513793    0.017340      0.487633\n",
              "7589  0.026116  0.513747    0.017374      0.487630\n",
              "7597  0.026171  0.513800    0.017334      0.487630\n",
              "...        ...       ...         ...           ...\n",
              "16    0.000014  0.014303    0.080443      0.014290\n",
              "12    0.000010  0.008581    0.084706      0.008570\n",
              "10    0.000007  0.007829    0.085147      0.007822\n",
              "8     0.000003  0.007527    0.085471      0.007524\n",
              "0     0.000000  0.000000         inf      0.000000\n",
              "\n",
              "[3077 rows x 4 columns]"
            ]
          },
          "execution_count": 56,
          "metadata": {},
          "output_type": "execute_result"
        }
      ],
      "source": [
        "fpr, tpr, thresholds = roc_curve(y_val, val_anomaly_scores)\n",
        "df_val_roc = pd.DataFrame({'fpr':fpr, 'tpr':tpr, 'thresholds':thresholds})\n",
        "df_val_roc['youden-index'] = df_val_roc['tpr'] - df_val_roc['fpr']\n",
        "df_val_roc.sort_values('youden-index', ascending=False).drop_duplicates('fpr').query('fpr < 0.03')"
      ]
    },
    {
      "cell_type": "code",
      "execution_count": 57,
      "metadata": {
        "id": "3aQleJt53bcR"
      },
      "outputs": [],
      "source": [
        "BEST_VALIDATION_THRESHOLD = 0.018680"
      ]
    },
    {
      "cell_type": "code",
      "execution_count": 58,
      "metadata": {
        "id": "CuDZOvgPENx5"
      },
      "outputs": [
        {
          "data": {
            "image/png": "[encoded data removed]",
            "text/plain": [
              "<Figure size 640x480 with 2 Axes>"
            ]
          },
          "metadata": {},
          "output_type": "display_data"
        }
      ],
      "source": [
        "plot_confusion_matrix(y_val, val_anomaly_scores > BEST_VALIDATION_THRESHOLD)"
      ]
    },
    {
      "cell_type": "code",
      "execution_count": 59,
      "metadata": {
        "id": "O-EoASOTCCDB"
      },
      "outputs": [
        {
          "data": {
            "text/plain": [
              "{'acc': 0.817744031275776,\n",
              " 'tpr': 0.5039984972091026,\n",
              " 'fpr': 0.02289587301803659,\n",
              " 'precision': 0.9179037914054959,\n",
              " 'f1-score': 0.650708751445437}"
            ]
          },
          "execution_count": 59,
          "metadata": {},
          "output_type": "execute_result"
        }
      ],
      "source": [
        "get_overall_metrics(y_val, val_anomaly_scores > BEST_VALIDATION_THRESHOLD)"
      ]
    },
    {
      "cell_type": "code",
      "execution_count": 60,
      "metadata": {
        "id": "avQKePhJ_EHy"
      },
      "outputs": [
        {
          "data": {
            "text/plain": [
              "{'DoS Hulk': 0.8809673366834171,\n",
              " 'DDoS': 0.43761996161228406,\n",
              " 'PortScan': 0.0018561046968886652,\n",
              " 'DoS GoldenEye': 0.3675,\n",
              " 'FTP-Patator': 0.0004816955684007707,\n",
              " 'DoS slowloris': 0.23660477453580903,\n",
              " 'DoS Slowhttptest': 0.20546448087431693,\n",
              " 'SSH-Patator': 0.0,\n",
              " 'Bot': 0.016105417276720352,\n",
              " 'Brute Force': 0.0,\n",
              " 'XSS': 0.0,\n",
              " 'Infiltration': 0.07692307692307693,\n",
              " 'Sql Injection': 0.0,\n",
              " 'Heartbleed': 1.0}"
            ]
          },
          "execution_count": 60,
          "metadata": {},
          "output_type": "execute_result"
        }
      ],
      "source": [
        "get_tpr_per_attack(classes_val, val_anomaly_scores > BEST_VALIDATION_THRESHOLD)"
      ]
    },
    {
      "cell_type": "markdown",
      "metadata": {
        "id": "IM0PFTPWCAO-"
      },
      "source": [
        "## Conjunto de teste"
      ]
    },
    {
      "cell_type": "code",
      "execution_count": 61,
      "metadata": {
        "id": "nfuu8O3L24wa"
      },
      "outputs": [],
      "source": [
        "test_anomaly_scores = get_autoencoder_anomaly_scores(ae_model, norm_X_test)"
      ]
    },
    {
      "cell_type": "code",
      "execution_count": 62,
      "metadata": {
        "id": "confJlhE2vlm"
      },
      "outputs": [
        {
          "data": {
            "image/png": "[encoded data removed]",
            "text/plain": [
              "<Figure size 640x480 with 1 Axes>"
            ]
          },
          "metadata": {},
          "output_type": "display_data"
        }
      ],
      "source": [
        "plot_roc_curve(y_test, test_anomaly_scores)"
      ]
    },
    {
      "cell_type": "code",
      "execution_count": 63,
      "metadata": {
        "id": "VS4vFyq2BNWA"
      },
      "outputs": [
        {
          "data": {
            "image/png": "[encoded data removed]",
            "text/plain": [
              "<Figure size 640x480 with 2 Axes>"
            ]
          },
          "metadata": {},
          "output_type": "display_data"
        }
      ],
      "source": [
        "plot_confusion_matrix(y_test, test_anomaly_scores > BEST_VALIDATION_THRESHOLD)"
      ]
    },
    {
      "cell_type": "code",
      "execution_count": 64,
      "metadata": {
        "id": "rvsHNCaUCGR0"
      },
      "outputs": [
        {
          "data": {
            "text/plain": [
              "{'acc': 0.8178991840002726,\n",
              " 'tpr': 0.5047594276404438,\n",
              " 'fpr': 0.023047917870806154,\n",
              " 'precision': 0.9175181235553688,\n",
              " 'f1-score': 0.6512454935482292}"
            ]
          },
          "execution_count": 64,
          "metadata": {},
          "output_type": "execute_result"
        }
      ],
      "source": [
        "get_overall_metrics(y_test, test_anomaly_scores > BEST_VALIDATION_THRESHOLD)"
      ]
    },
    {
      "cell_type": "code",
      "execution_count": 65,
      "metadata": {
        "id": "79Y707ogCNWO"
      },
      "outputs": [
        {
          "data": {
            "text/plain": [
              "{'DoS Hulk': 0.8809968847352025,\n",
              " 'DDoS': 0.44006729960341306,\n",
              " 'PortScan': 0.002269955278493021,\n",
              " 'DoS GoldenEye': 0.3798982949446605,\n",
              " 'FTP-Patator': 0.00025926886180969663,\n",
              " 'DoS slowloris': 0.22685714285714287,\n",
              " 'DoS Slowhttptest': 0.1848145968216598,\n",
              " 'SSH-Patator': 0.0,\n",
              " 'Bot': 0.01889763779527559,\n",
              " 'Brute Force': 0.0,\n",
              " 'XSS': 0.0,\n",
              " 'Infiltration': 0.043478260869565216,\n",
              " 'Sql Injection': 0.0,\n",
              " 'Heartbleed': 1.0}"
            ]
          },
          "execution_count": 65,
          "metadata": {},
          "output_type": "execute_result"
        }
      ],
      "source": [
        "get_tpr_per_attack(classes_test, test_anomaly_scores > BEST_VALIDATION_THRESHOLD)"
      ]
    },
    {
      "cell_type": "markdown",
      "metadata": {
        "id": "o5Txe3riTfXo"
      },
      "source": [
        "# Pergunta e atividade"
      ]
    },
    {
      "cell_type": "markdown",
      "metadata": {
        "id": "3KgRe-1rTmIL"
      },
      "source": [
        "## Como um autoencoder é capaz de realizar detecção de anomalias?"
      ]
    },
    {
      "cell_type": "markdown",
      "metadata": {
        "id": "FMECh0jfBBgj"
      },
      "source": [
        "#### Resposta:\n",
        "\n",
        "Primeiramente, o modelo de autoencoder é treinado apenas com dados BENIGNOS, é como se o modelo fosse especializado em usar o autoencoder para recriar os dados benignos. Depois, quando o modelo for avaliado e/ou testado, ele processará dados também MALIGNOS desta vez. Dado um dado, quanto mais diferente a saída do modelo for da entrada, mais chance aquele dado tem de ser um dado MALIGNO, pelo fato do modelo ter sido especializado em reconstruir dados BENIGNOS, então se o modelo não está conseguindo reconstruir bem alguns dados, então talvez estes dados não sejam benignos. A partir de um treshold, o modelo vai decidir se o nível de diferença(loss) da saída comparada com a entrada é o suficiente para classificar um dado como benigno ou maligno."
      ]
    },
    {
      "cell_type": "markdown",
      "metadata": {
        "id": "-xeiKdyUT1L8"
      },
      "source": [
        "# Atividade de código"
      ]
    },
    {
      "cell_type": "markdown",
      "metadata": {
        "id": "G9X5lBeUT79N"
      },
      "source": [
        "Autoencoders podem ter diferentes arquiteturas de redes neurais para funcionar. O autoencoder visto acima possui as seguintes camadas (representadas juntamente com suas respectivas quantidades de neurônios):\n",
        "\n",
        "*features de entrada -> 25 neurônios -> 10 neurônios -> 25 neurônios -> 10 neurônios*\n",
        "\n",
        "**Crie você mesmo e avalie resultados de um autoencoder com uma nova arquitetura, considerando as seguintes camadas (representadas juntamente com suas respectivas quantidades de neurônios):**\n",
        "\n",
        "**features de entrada -> 30 neurônios -> 20 neurônios -> 10 neurônios -> 20 neurônios -> 30 neurônios -> features de entrada**\n",
        "\n"
      ]
    },
    {
      "cell_type": "markdown",
      "metadata": {
        "id": "xY13wtnRWP3R"
      },
      "source": [
        "OBS: Não é necessário tunar os hiperparâmetros"
      ]
    },
    {
      "cell_type": "markdown",
      "metadata": {},
      "source": [
        "#### Avaliação dos Resultados:\n",
        "\n",
        "A nova arquitetura apresenta uma loss bem menor durante a validação, porém, os resultados de AUC foram cerca de 7% menores do que a arquitetura antiga, em todas as curvas ROC.\n",
        "| Loss - Validação | Modelo antigo | Modelo Novo |\n",
        "|------------------|:-------------:|:-----------:|\n",
        "| 1                |    ~0.075     |    ~0.03    |\n",
        "| 2                |    ~0.028     |    ~0.024   |\n",
        "| 3                |    ~0.025     |    ~0.022   |\n",
        "---------------------\n",
        "| AUC - Modelo antigo | AUC -  Modelo Novo |\n",
        "|:-------------------:|:------------------:|\n",
        "|         ~89%        |        ~82%        |\n",
        "\n",
        "Na matriz de confusão da nova arquitetura, a quantidade de positivos foi maior do que no modelo antigo, enquanto a quantidade de negativos foi menor:\n",
        "\n",
        "| Matriz de Confusão - Teste | Modelo antigo | Modelo Novo |\n",
        "|----------------------------|:-------------:|:-----------:|\n",
        "| Verdadeiro Positivo        |    65,90%     |   64.79%    |\n",
        "| Falso Positivo             |    0.42%      |   1.53%     |\n",
        "| Verdadeiro Negativo        |    16.09%     |   17%       |\n",
        "| Falso Negativo             |    17.59%     |   16.68%    |\n",
        "\n",
        "Eu ainda escolheria o modelo antigo, porque proporcionalmente falando, a quantidade de falsos positivos quase quadruplicou. Além disso, a loss na validação pode até ter uma grande diferença nas primeiras épocas, mas depois a diferença diminui bastante ao ponto de se tornar desprezível."
      ]
    }
  ],
  "metadata": {
    "colab": {
      "provenance": []
    },
    "kernelspec": {
      "display_name": "Python 3",
      "name": "python3"
    },
    "language_info": {
      "codemirror_mode": {
        "name": "ipython",
        "version": 3
      },
      "file_extension": ".py",
      "mimetype": "text/x-python",
      "name": "python",
      "nbconvert_exporter": "python",
      "pygments_lexer": "ipython3",
      "version": "3.11.5"
    }
  },
  "nbformat": 4,
  "nbformat_minor": 0
}
